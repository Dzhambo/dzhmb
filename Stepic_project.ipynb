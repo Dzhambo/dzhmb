{
  "nbformat": 4,
  "nbformat_minor": 0,
  "metadata": {
    "colab": {
      "name": "Stepic_project.ipynb",
      "provenance": []
    },
    "kernelspec": {
      "name": "python3",
      "display_name": "Python 3"
    },
    "language_info": {
      "name": "python"
    }
  },
  "cells": [
    {
      "cell_type": "markdown",
      "metadata": {
        "id": "A1LPKwmBSLE6"
      },
      "source": [
        "**Задача:** сможет ли пользователь успешно закончить онлайн курс\n",
        "Мы будем считать, что пользователь успешно закончил курс, если он правильно решил больше 40 практических заданий.\n",
        "\n",
        "В данных:\n",
        "\n",
        "**submission_data_test.csv**\n",
        "\n",
        "**events_data_test.csv** \n",
        "\n",
        "хранится информация о решениях и действиях для 6184 студентов за первые два дня прохождения курса. Это 6184 студентов, которые проходили курс в период с мая 2018 по январь 2019.\n",
        "\n",
        "Используя данные о первых двух днях активности на курсе  нужно предсказать, наберет ли пользователь более 40 баллов на курсе или нет.\n",
        "\n",
        "В этих данных, вам доступны только первые дня активности студентов для того, чтобы сделать предсказание. На самом деле, используя эти данные, вы уже можете сделать прогноз. Например, если пользователь за первые два дня набрал 40 баллов, скорее всего он наберет более 40 баллов в дальнейшем. "
      ]
    },
    {
      "cell_type": "markdown",
      "metadata": {
        "id": "-uyA5VY8TjcU"
      },
      "source": [
        "Признаки в файлах: \n",
        "\n",
        "\n",
        "\n",
        "**events_data_test.csv** - данные о действиях, которые совершают студенты со стэпами\n",
        "\n",
        "1.   **step_id** - id стэпа\n",
        "2.   **user_id** - анонимизированный id юзера\n",
        "3.   **timestamp** - время наступления события в формате unix date\n",
        "4. **action** - событие, возможные значения:\n",
        "\n",
        "\n",
        "\n",
        "\n",
        "\n",
        "\n",
        "\n",
        "\n",
        "\n",
        "\n",
        "\n",
        "*   **discovered** - пользователь перешел на стэп\n",
        "*   **viewed** - просмотр шага,\n",
        "*   **started_attempt** - начало попытки решить шаг, ранее нужно было явно нажать на кнопку - начать решение, перед тем как приступить к решению практического шага\n",
        "*   **passed** - удачное решение практического шага\n",
        "\n",
        "\n",
        "**submissions_train.csv** - данные о времени и статусах сабмитов к практическим заданиям\n",
        "\n",
        "\n",
        "1.   **step_id** - id стэпа\n",
        "2.   **timestamp** - время отправки решения в формате unix date\n",
        "3.  ** submission_status** - статус решения\n",
        "4.   **user_id** - анонимизированный id юзера\n",
        "\n",
        "\n",
        "\n",
        "\n"
      ]
    },
    {
      "cell_type": "code",
      "metadata": {
        "id": "2s0MTaUnTi31"
      },
      "source": [
        "import pandas as pd\n",
        "import numpy as np\n",
        "\n",
        "get_ipython().magic(u'matplotlib inline')\n",
        "import matplotlib.pyplot as plt\n",
        "import seaborn as sns"
      ],
      "execution_count": 2,
      "outputs": []
    },
    {
      "cell_type": "code",
      "metadata": {
        "id": "5w9_1R7-VCAm"
      },
      "source": [
        "DATA_PERIOD_DAYS = 2  # колво дней по которым доступны данные для прогноза"
      ],
      "execution_count": 3,
      "outputs": []
    },
    {
      "cell_type": "code",
      "metadata": {
        "id": "DWG0dVEzVFbj"
      },
      "source": [
        "def get_x_y(events, submissions):\n",
        "  \n",
        "    \"\"\"\" создадим признаки и метку\n",
        "     \n",
        "    Parameters\n",
        "    ----------\n",
        "    events: pandas.DataFrame\n",
        "        действия студентов со степами\n",
        "    submissions: pandas.DataFrame\n",
        "        действия студентов по практике     \n",
        "     \"\"\"\n",
        "    events_train = preprocess_timestamp_cols(events)\n",
        "    events_train = truncate_data_by_nday(events_train, DATA_PERIOD_DAYS)\n",
        "\n",
        "    submissions_train = preprocess_timestamp_cols(submissions)\n",
        "    submissions_train = truncate_data_by_nday(submissions_train, DATA_PERIOD_DAYS)\n",
        "\n",
        "    X = create_user_data(events_train, submissions_train)\n",
        "    X = X.set_index('user_id')\n",
        "    \n",
        "#     safe_drop_cols_df(X, ['last_timestamp'])\n",
        "    X = X.drop('last_timestamp', axis='columns')\n",
        "\n",
        "    y = get_y(events, submissions)\n",
        "\n",
        "    # после создания признаков и метки порядок следования user_id может не совпадать\n",
        "    X = X.sort_index()\n",
        "    y = y.sort_index()\n",
        "    assert X.shape[0] == y.shape[0]\n",
        "    \n",
        "    return X, y\n",
        "\n",
        "def preprocess_timestamp_cols(data):\n",
        "  \n",
        "    \"\"\" \n",
        "    Parameters\n",
        "    ----------\n",
        "    data : pd.DataFrame\n",
        "        данные с действиями пользователя\n",
        "    \"\"\"\n",
        "    data['date'] = pd.to_datetime(data.timestamp, unit='s')\n",
        "    data['day'] = data.date.dt.date\n",
        "    return data\n",
        "\n",
        "def truncate_data_by_nday(data, n_day):\n",
        "  \n",
        "    \"\"\" Взять события из n_day первых дней по каждому пользователю \n",
        "        Parameters\n",
        "        ----------\n",
        "        data: pandas.DataFrame\n",
        "            действия студентов со степами или практикой\n",
        "        n_day : int\n",
        "            размер тестовой выборки\n",
        "    \"\"\"\n",
        "    \n",
        "    users_min_time = data.groupby('user_id', as_index=False).agg({'timestamp': 'min'}).rename(\n",
        "        {'timestamp': 'min_timestamp'}, axis=1)\n",
        "    users_min_time['min_timestamp'] += 60 * 60 * 24 * n_day\n",
        "\n",
        "    events_data_d = pd.merge(data, users_min_time, how='inner', on='user_id')\n",
        "    cond = events_data_d['timestamp'] <= events_data_d['min_timestamp']\n",
        "    events_data_d = events_data_d[cond]\n",
        "\n",
        "    assert events_data_d.user_id.nunique() == data.user_id.nunique()\n",
        "    \n",
        "    return events_data_d.drop(['min_timestamp'], axis=1)\n",
        "\n",
        "def create_user_data(events, submissions):\n",
        "  \n",
        "    \"\"\" создать таблицу с данными по каждому пользователю\n",
        "    Parameters\n",
        "    ----------\n",
        "    events : pd.DataFrame\n",
        "        данные с действиями пользователя\n",
        "    submissions : pd.DataFrame\n",
        "        данные самбитов практики\n",
        "    \"\"\"\n",
        "    users_data = events.groupby('user_id', as_index=False)         .agg({'timestamp': 'max'}).rename(columns={'timestamp': 'last_timestamp'})\n",
        "\n",
        "    # попытки сдачи практики пользователя\n",
        "    users_scores = submissions.pivot_table(index='user_id',\n",
        "                                           columns='submission_status',\n",
        "                                           values='step_id',\n",
        "                                           aggfunc='count',\n",
        "                                           fill_value=0).reset_index()\n",
        "    users_data = users_data.merge(users_scores, on='user_id', how='outer')\n",
        "    users_data = users_data.fillna(0)\n",
        "\n",
        "    # колво разных событий пользователя по урокам\n",
        "    users_events_data = events.pivot_table(index='user_id',\n",
        "                                           columns='action',\n",
        "                                           values='step_id',\n",
        "                                           aggfunc='count',\n",
        "                                           fill_value=0).reset_index()\n",
        "    users_data = users_data.merge(users_events_data, how='outer')\n",
        "\n",
        "    # колво дней на курсе\n",
        "    users_days = events.groupby('user_id').day.nunique().to_frame().reset_index()\n",
        "    users_data = users_data.merge(users_days, how='outer')\n",
        "\n",
        "    return users_data\n",
        "\n",
        "def create_interaction(events, submissions):\n",
        "  \n",
        "    \"\"\" объединить все данные по взаимодействию\n",
        "    Parameters\n",
        "    ----------\n",
        "    events : pd.DataFrame\n",
        "        данные с действиями пользователя\n",
        "    submissions : pd.DataFrame\n",
        "        данные самбитов практики\n",
        "    \"\"\"\n",
        "    interact_train = pd.concat([events, submissions.rename(columns={'submission_status': 'action'})])\n",
        "    interact_train.action = pd.Categorical(interact_train.action,\n",
        "                                           ['discovered', 'viewed', 'started_attempt',\n",
        "                                            'wrong', 'passed', 'correct'], ordered=True)\n",
        "    interact_train = interact_train.sort_values(['user_id', 'timestamp', 'action'])\n",
        "    \n",
        "    return interact_train\n",
        "\n",
        "\n",
        "def get_y(events, submissions, course_threshold=40, target_action='passed'):\n",
        "  \n",
        "    \"\"\" создать метку  (целевая переменная для прогноза is_gone\n",
        "    Parameters\n",
        "    ----------\n",
        "    events : pd.DataFrame\n",
        "        данные с действиями пользователя\n",
        "    submissions : pd.DataFrame\n",
        "        данные самбитов практики\n",
        "    course_threshold : int\n",
        "        порог в колве заданий, когда курс считается пройденным\n",
        "    target_action: string\n",
        "        название действия по степу, по колву которых мы рассчитываем целевую переменную \n",
        "    \"\"\"\n",
        "    interactions = create_interaction(events, submissions)\n",
        "    users_data = interactions[['user_id']].drop_duplicates()\n",
        "\n",
        "    assert target_action in interactions.action.unique()\n",
        "    passed_steps = (interactions.query(\"action == @target_action\")\n",
        "                    .groupby('user_id', as_index=False)['step_id'].count()\n",
        "                    .rename(columns={'step_id': target_action}))\n",
        "    users_data = users_data.merge(passed_steps, how='outer')\n",
        "\n",
        "    # пройден ли курс\n",
        "    users_data['is_gone'] = users_data[target_action] > course_threshold\n",
        "    assert users_data.user_id.nunique() == events.user_id.nunique()\n",
        "    users_data = (users_data.drop(target_action, axis=1)\n",
        "                  .set_index('user_id'))\n",
        "    \n",
        "    return users_data['is_gone']\n",
        "\n",
        "def split_events_submissions(events, submissions, test_size=0.3):\n",
        "  \n",
        "    \"\"\" разделение выборки на трейн и тест по пользователям\n",
        "        Parameters\n",
        "        ----------\n",
        "        events: pandas.DataFrame\n",
        "            действия студентов со степами\n",
        "        submissions: pandas.DataFrame\n",
        "            действия студентов по практике     \n",
        "        test_size : float\n",
        "            размер тестовой выборки\n",
        "     \"\"\"\n",
        "\n",
        "    # сделаем случайную выборку пользователей курса для теста\n",
        "    users_ids = np.unique(np.concatenate((events.user_id.unique(), submissions.user_id.unique())))\n",
        "    np.random.shuffle(users_ids)\n",
        "    test_sz = int(len(users_ids) * test_size)\n",
        "    train_sz = len(users_ids) - test_sz\n",
        "    train_users = users_ids[:train_sz]\n",
        "    test_users = users_ids[-test_sz:]\n",
        "    # Проверка что пользователи не пересекаются\n",
        "    assert len(np.intersect1d(train_users, test_users)) == 0\n",
        "\n",
        "    # теперь делим данные\n",
        "    event_train = events[events.user_id.isin(train_users)]\n",
        "    event_test = events[events.user_id.isin(test_users)]\n",
        "    submissions_train = submissions[submissions.user_id.isin(train_users)]\n",
        "    submissions_test = submissions[submissions.user_id.isin(test_users)]\n",
        "\n",
        "    return event_train, event_test, submissions_train, submissions_test\n",
        "\n",
        "\n",
        "def create_dataset(events_data, submissions_data):\n",
        "\n",
        "  DEBUG = True\n",
        "  \n",
        "  if DEBUG:\n",
        "    print('events_data: ', events_data.shape)\n",
        "    print('submissions_data: ', submissions_data.shape)  \n",
        "\n",
        "  user_learning_time_treshold = 2 * 24 * 60 * 60\n",
        "  \n",
        "  events_data['date'] = pd.to_datetime(events_data.timestamp, unit='s')\n",
        "  events_data['day'] = events_data.date.dt.date\n",
        "\n",
        "  submissions_data['date'] = pd.to_datetime(submissions_data.timestamp, unit='s')\n",
        "  submissions_data['day'] = submissions_data.date.dt.date\n",
        "  \n",
        "  users_course_result = events_data[events_data.action == 'passed'][['step_id', 'user_id']]                              .drop_duplicates()                             .groupby(['user_id'])                             .agg({'step_id' : 'count'})                             .rename({'step_id' : 'steps_passed'}, axis='columns')                             .reset_index()\n",
        "  \n",
        "  if DEBUG: print('users_course_result: ', users_course_result.shape)\n",
        "  \n",
        "\n",
        "  users_course_result['passed_course'] = users_course_result.steps_passed > 40\n",
        "  users_course_result['passed_course'] = users_course_result['passed_course'].map(int)\n",
        "  users_course_result = users_course_result.drop('steps_passed', axis='columns')\n",
        "  \n",
        "  user_start_time = events_data.groupby('user_id', as_index=False)         .agg({'timestamp': 'min'})         .rename({'timestamp': 'start_course_timestamp'}, axis=1)    \n",
        "\n",
        "  if DEBUG: print('user_start_time: ', user_start_time.shape)\n",
        "    \n",
        "  user_last_visit_time = events_data.groupby('user_id', as_index=False)         .agg({'timestamp': 'max'})         .rename({'timestamp': 'last_visit_time'}, axis=1)    \n",
        "  \n",
        "  if DEBUG: print('user_last_visit_time: ', user_last_visit_time.shape)\n",
        "  \n",
        "  events_data = events_data.merge(user_start_time, on='user_id', how='outer')\n",
        "  events_data = events_data[events_data.timestamp <= events_data.start_course_timestamp + user_learning_time_treshold]\n",
        "  events_data.drop('start_course_timestamp', axis=1)\n",
        "    \n",
        "  if DEBUG: print('events_data after triming: ', user_start_time.shape)\n",
        " \n",
        "  unique_days_in_events_data = events_data.groupby('user_id').day.nunique().max()\n",
        "  \n",
        "  if DEBUG: print('unique_days_in_events_data: ', unique_days_in_events_data)\n",
        "  \n",
        "  submissions_data = submissions_data.merge(user_start_time, on='user_id', how='outer')\n",
        "  submissions_data = submissions_data[submissions_data.timestamp <= submissions_data.start_course_timestamp + user_learning_time_treshold]\n",
        "  submissions_data.drop('start_course_timestamp', axis=1)  \n",
        "      \n",
        "  if DEBUG: print('submissions_data after triming: ', user_start_time.shape)\n",
        " \n",
        "  unique_days_in_submissions_data = submissions_data.groupby('user_id').day.nunique().max()\n",
        "  \n",
        "  if DEBUG: print('unique_days_in_submissions_data: ', unique_days_in_submissions_data)\n",
        "  \n",
        "  users_scores = submissions_data.pivot_table(index='user_id',\n",
        "                          columns='submission_status',\n",
        "                          values='step_id',\n",
        "                          aggfunc='count',\n",
        "                          fill_value=0).reset_index()\n",
        "\n",
        "  if DEBUG: print('users_scores: ', users_scores.shape)\n",
        "\n",
        "  steps_tried = submissions_data.groupby('user_id').step_id         .nunique().to_frame().reset_index().rename(columns={\n",
        "            'step_id': 'steps_tried'})\n",
        "  \n",
        "  if DEBUG: print('steps_tried: ', steps_tried.shape)\n",
        "\n",
        "  users_actions = events_data.pivot_table(index='user_id',\n",
        "                            columns='action',\n",
        "                            values='step_id',\n",
        "                            aggfunc='count',\n",
        "                            fill_value=0).reset_index()  \n",
        "  \n",
        "  if DEBUG: print('users_actions: ', users_actions.shape)\n",
        "\n",
        "  users_days = events_data.groupby('user_id').day.nunique().to_frame().reset_index()\n",
        "  \n",
        "  if DEBUG: print('users_days: ', users_days.shape)\n",
        "    \n",
        "  X = users_days\n",
        "    \n",
        " \n",
        "\n",
        "  X = X.merge(users_actions, on='user_id', how='outer')  \n",
        "\n",
        "  X = X.merge(users_scores, on='user_id', how='outer')  \n",
        "\n",
        "\n",
        "\n",
        "  X = X.merge(users_course_result, on='user_id', how='outer')  \n",
        "\n",
        "\n",
        "  X = X.fillna(0)\n",
        "\n",
        "  X = X.set_index('user_id')\n",
        "\n",
        "  y = X.passed_course\n",
        "  X = X.drop('passed_course', axis='columns')\n",
        "\n",
        "  if DEBUG:\n",
        "    print('X: ', X.shape)\n",
        "    print('y: ', y.shape)\n",
        "\n",
        "  return X, y\n",
        "\n",
        "def model_assessment(estimator, X, y, set_label):\n",
        "  \n",
        "  print(set_label, ' score:', estimator.score(X, y))\n",
        "  print(set_label, ' roc_auc:', metrics.roc_auc_score(y, estimator.predict(X)))\n",
        "\n",
        "  cv_scores = cross_val_score(estimator, X, y, scoring='roc_auc', cv=3, n_jobs=-1)\n",
        "  mean_cv_scores = np.mean(cv_scores)\n",
        "  print (set_label, ' cross_val mean score:', mean_cv_scores)\n",
        "  print('\\n')\n",
        "  \n",
        "  predict_proba = estimator.predict_proba(X)\n",
        "  print(pd.cut(predict_proba[:,1], 10).value_counts())\n",
        "  print('\\n')\n",
        "\n",
        "  pd.Series(predict_proba[:,1]).hist()\n",
        "\n",
        "  fpr, tpr, thresholds = metrics.roc_curve(y, predict_proba[:,1])\n",
        "  roc_auc = metrics.auc(fpr, tpr)\n",
        "  print(roc_auc)\n",
        "  print('\\n')\n",
        "\n",
        "  plt.figure()\n",
        "  plt.plot(fpr, tpr, label = 'Area = %0.2f' % (roc_auc))\n",
        "  plt.plot([0, 1], [0, 1], 'k--')\n",
        "  plt.xlim([0, 1])\n",
        "  plt.ylim([0, 1.05])\n",
        "\n",
        "  predict_y = estimator.predict(X)\n",
        "  print(metrics.confusion_matrix(y, predict_y))\n",
        "  print('\\n')  "
      ],
      "execution_count": 4,
      "outputs": []
    },
    {
      "cell_type": "code",
      "metadata": {
        "colab": {
          "base_uri": "https://localhost:8080/"
        },
        "id": "M9THAyAwVPEL",
        "outputId": "f63e2c99-b8a7-4764-d81b-5f2391df2420"
      },
      "source": [
        "events_data_train = pd.read_csv('/content/sample_data/event_data_train (1).zip', compression='zip')\n",
        "# events_data_train = pd.read_csv('event_data_train.zip', compression='zip')\n",
        "events_data_train.shape\n",
        "\n",
        "print('events_data_train shape', events_data_train.shape)\n",
        "\n",
        "submissions_data_train = pd.read_csv('/content/sample_data/submissions_data_train (1).zip', compression='zip')\n",
        "# submissions_data_train = pd.read_csv('submissions_data_train.zip', compression='zip')\n",
        "submissions_data_train.shape\n",
        "\n",
        "print('submissions_data_train shape', submissions_data_train.shape)"
      ],
      "execution_count": 6,
      "outputs": [
        {
          "output_type": "stream",
          "name": "stdout",
          "text": [
            "events_data_train shape (3480703, 4)\n",
            "submissions_data_train shape (509104, 4)\n"
          ]
        }
      ]
    },
    {
      "cell_type": "code",
      "metadata": {
        "colab": {
          "base_uri": "https://localhost:8080/"
        },
        "id": "Pr8N65hqWgWw",
        "outputId": "73c33aba-918f-4e2b-9cbd-c1c494d32329"
      },
      "source": [
        "control_events_data = pd.read_csv('/content/sample_data/events_data_test.csv')\n",
        "control_events_data.shape\n",
        "\n",
        "print('control_events_data shape', control_events_data.shape)\n",
        "\n",
        "control_submissions_data = pd.read_csv('/content/sample_data/submission_data_test.csv')\n",
        "control_submissions_data.shape\n",
        "\n",
        "print('control_submissions_data shape', control_submissions_data.shape)\n"
      ],
      "execution_count": 7,
      "outputs": [
        {
          "output_type": "stream",
          "name": "stdout",
          "text": [
            "control_events_data shape (274768, 4)\n",
            "control_submissions_data shape (42261, 4)\n"
          ]
        }
      ]
    },
    {
      "cell_type": "code",
      "metadata": {
        "colab": {
          "base_uri": "https://localhost:8080/"
        },
        "id": "DsST2XcfWoQk",
        "outputId": "2e6e1692-ee0c-4cb6-a57c-c59227d05524"
      },
      "source": [
        "X, y = create_dataset(events_data_train, submissions_data_train)"
      ],
      "execution_count": 8,
      "outputs": [
        {
          "output_type": "stream",
          "name": "stdout",
          "text": [
            "events_data:  (3480703, 4)\n",
            "submissions_data:  (509104, 4)\n",
            "users_course_result:  (17262, 2)\n",
            "user_start_time:  (19234, 2)\n",
            "user_last_visit_time:  (19234, 2)\n",
            "events_data after triming:  (19234, 2)\n",
            "unique_days_in_events_data:  3\n",
            "submissions_data after triming:  (19234, 2)\n",
            "unique_days_in_submissions_data:  3\n",
            "users_scores:  (8815, 3)\n",
            "steps_tried:  (8815, 2)\n",
            "users_actions:  (19234, 5)\n",
            "users_days:  (19234, 2)\n",
            "X:  (19234, 7)\n",
            "y:  (19234,)\n"
          ]
        }
      ]
    },
    {
      "cell_type": "code",
      "metadata": {
        "colab": {
          "base_uri": "https://localhost:8080/",
          "height": 235
        },
        "id": "VoKmovXkWqvk",
        "outputId": "7c094c92-3b79-4a9c-acf1-f35580e3f37e"
      },
      "source": [
        "X.head()"
      ],
      "execution_count": 9,
      "outputs": [
        {
          "output_type": "execute_result",
          "data": {
            "text/html": [
              "<div>\n",
              "<style scoped>\n",
              "    .dataframe tbody tr th:only-of-type {\n",
              "        vertical-align: middle;\n",
              "    }\n",
              "\n",
              "    .dataframe tbody tr th {\n",
              "        vertical-align: top;\n",
              "    }\n",
              "\n",
              "    .dataframe thead th {\n",
              "        text-align: right;\n",
              "    }\n",
              "</style>\n",
              "<table border=\"1\" class=\"dataframe\">\n",
              "  <thead>\n",
              "    <tr style=\"text-align: right;\">\n",
              "      <th></th>\n",
              "      <th>day</th>\n",
              "      <th>discovered</th>\n",
              "      <th>passed</th>\n",
              "      <th>started_attempt</th>\n",
              "      <th>viewed</th>\n",
              "      <th>correct</th>\n",
              "      <th>wrong</th>\n",
              "    </tr>\n",
              "    <tr>\n",
              "      <th>user_id</th>\n",
              "      <th></th>\n",
              "      <th></th>\n",
              "      <th></th>\n",
              "      <th></th>\n",
              "      <th></th>\n",
              "      <th></th>\n",
              "      <th></th>\n",
              "    </tr>\n",
              "  </thead>\n",
              "  <tbody>\n",
              "    <tr>\n",
              "      <th>1</th>\n",
              "      <td>1</td>\n",
              "      <td>1</td>\n",
              "      <td>0</td>\n",
              "      <td>0</td>\n",
              "      <td>1</td>\n",
              "      <td>0.0</td>\n",
              "      <td>0.0</td>\n",
              "    </tr>\n",
              "    <tr>\n",
              "      <th>2</th>\n",
              "      <td>1</td>\n",
              "      <td>9</td>\n",
              "      <td>9</td>\n",
              "      <td>2</td>\n",
              "      <td>9</td>\n",
              "      <td>2.0</td>\n",
              "      <td>0.0</td>\n",
              "    </tr>\n",
              "    <tr>\n",
              "      <th>3</th>\n",
              "      <td>1</td>\n",
              "      <td>15</td>\n",
              "      <td>15</td>\n",
              "      <td>4</td>\n",
              "      <td>20</td>\n",
              "      <td>4.0</td>\n",
              "      <td>4.0</td>\n",
              "    </tr>\n",
              "    <tr>\n",
              "      <th>5</th>\n",
              "      <td>1</td>\n",
              "      <td>1</td>\n",
              "      <td>1</td>\n",
              "      <td>0</td>\n",
              "      <td>1</td>\n",
              "      <td>0.0</td>\n",
              "      <td>0.0</td>\n",
              "    </tr>\n",
              "    <tr>\n",
              "      <th>7</th>\n",
              "      <td>1</td>\n",
              "      <td>1</td>\n",
              "      <td>1</td>\n",
              "      <td>0</td>\n",
              "      <td>1</td>\n",
              "      <td>0.0</td>\n",
              "      <td>0.0</td>\n",
              "    </tr>\n",
              "  </tbody>\n",
              "</table>\n",
              "</div>"
            ],
            "text/plain": [
              "         day  discovered  passed  started_attempt  viewed  correct  wrong\n",
              "user_id                                                                  \n",
              "1          1           1       0                0       1      0.0    0.0\n",
              "2          1           9       9                2       9      2.0    0.0\n",
              "3          1          15      15                4      20      4.0    4.0\n",
              "5          1           1       1                0       1      0.0    0.0\n",
              "7          1           1       1                0       1      0.0    0.0"
            ]
          },
          "metadata": {},
          "execution_count": 9
        }
      ]
    },
    {
      "cell_type": "code",
      "metadata": {
        "colab": {
          "base_uri": "https://localhost:8080/"
        },
        "id": "1qEz2nHLWsXU",
        "outputId": "6c89e0f0-cde7-4014-b115-8b69c73cad28"
      },
      "source": [
        "y.value_counts()"
      ],
      "execution_count": 10,
      "outputs": [
        {
          "output_type": "execute_result",
          "data": {
            "text/plain": [
              "0.0    14596\n",
              "1.0     4638\n",
              "Name: passed_course, dtype: int64"
            ]
          },
          "metadata": {},
          "execution_count": 10
        }
      ]
    },
    {
      "cell_type": "code",
      "metadata": {
        "id": "2shMSs8eWuRt"
      },
      "source": [
        "eug_X, eug_y = get_x_y(events_data_train, submissions_data_train)"
      ],
      "execution_count": 11,
      "outputs": []
    },
    {
      "cell_type": "code",
      "metadata": {
        "colab": {
          "base_uri": "https://localhost:8080/",
          "height": 235
        },
        "id": "K2owqSv-WvwE",
        "outputId": "d29f3154-200f-4f56-e0d4-d3e4d9556ad1"
      },
      "source": [
        "eug_X.head()"
      ],
      "execution_count": 12,
      "outputs": [
        {
          "output_type": "execute_result",
          "data": {
            "text/html": [
              "<div>\n",
              "<style scoped>\n",
              "    .dataframe tbody tr th:only-of-type {\n",
              "        vertical-align: middle;\n",
              "    }\n",
              "\n",
              "    .dataframe tbody tr th {\n",
              "        vertical-align: top;\n",
              "    }\n",
              "\n",
              "    .dataframe thead th {\n",
              "        text-align: right;\n",
              "    }\n",
              "</style>\n",
              "<table border=\"1\" class=\"dataframe\">\n",
              "  <thead>\n",
              "    <tr style=\"text-align: right;\">\n",
              "      <th></th>\n",
              "      <th>correct</th>\n",
              "      <th>wrong</th>\n",
              "      <th>discovered</th>\n",
              "      <th>passed</th>\n",
              "      <th>started_attempt</th>\n",
              "      <th>viewed</th>\n",
              "      <th>day</th>\n",
              "    </tr>\n",
              "    <tr>\n",
              "      <th>user_id</th>\n",
              "      <th></th>\n",
              "      <th></th>\n",
              "      <th></th>\n",
              "      <th></th>\n",
              "      <th></th>\n",
              "      <th></th>\n",
              "      <th></th>\n",
              "    </tr>\n",
              "  </thead>\n",
              "  <tbody>\n",
              "    <tr>\n",
              "      <th>1</th>\n",
              "      <td>0.0</td>\n",
              "      <td>0.0</td>\n",
              "      <td>1</td>\n",
              "      <td>0</td>\n",
              "      <td>0</td>\n",
              "      <td>1</td>\n",
              "      <td>1</td>\n",
              "    </tr>\n",
              "    <tr>\n",
              "      <th>2</th>\n",
              "      <td>2.0</td>\n",
              "      <td>0.0</td>\n",
              "      <td>9</td>\n",
              "      <td>9</td>\n",
              "      <td>2</td>\n",
              "      <td>9</td>\n",
              "      <td>1</td>\n",
              "    </tr>\n",
              "    <tr>\n",
              "      <th>3</th>\n",
              "      <td>4.0</td>\n",
              "      <td>4.0</td>\n",
              "      <td>15</td>\n",
              "      <td>15</td>\n",
              "      <td>4</td>\n",
              "      <td>20</td>\n",
              "      <td>1</td>\n",
              "    </tr>\n",
              "    <tr>\n",
              "      <th>5</th>\n",
              "      <td>2.0</td>\n",
              "      <td>2.0</td>\n",
              "      <td>1</td>\n",
              "      <td>1</td>\n",
              "      <td>0</td>\n",
              "      <td>1</td>\n",
              "      <td>1</td>\n",
              "    </tr>\n",
              "    <tr>\n",
              "      <th>7</th>\n",
              "      <td>0.0</td>\n",
              "      <td>0.0</td>\n",
              "      <td>1</td>\n",
              "      <td>1</td>\n",
              "      <td>0</td>\n",
              "      <td>1</td>\n",
              "      <td>1</td>\n",
              "    </tr>\n",
              "  </tbody>\n",
              "</table>\n",
              "</div>"
            ],
            "text/plain": [
              "         correct  wrong  discovered  passed  started_attempt  viewed  day\n",
              "user_id                                                                  \n",
              "1            0.0    0.0           1       0                0       1    1\n",
              "2            2.0    0.0           9       9                2       9    1\n",
              "3            4.0    4.0          15      15                4      20    1\n",
              "5            2.0    2.0           1       1                0       1    1\n",
              "7            0.0    0.0           1       1                0       1    1"
            ]
          },
          "metadata": {},
          "execution_count": 12
        }
      ]
    },
    {
      "cell_type": "code",
      "metadata": {
        "colab": {
          "base_uri": "https://localhost:8080/"
        },
        "id": "1mFAhjK9Wxu0",
        "outputId": "daa74693-4f5e-4837-906e-b4cbb19aec68"
      },
      "source": [
        "eug_y.value_counts()"
      ],
      "execution_count": 13,
      "outputs": [
        {
          "output_type": "execute_result",
          "data": {
            "text/plain": [
              "False    14596\n",
              "True      4638\n",
              "Name: is_gone, dtype: int64"
            ]
          },
          "metadata": {},
          "execution_count": 13
        }
      ]
    },
    {
      "cell_type": "code",
      "metadata": {
        "id": "hk48VZD4W1pj"
      },
      "source": [
        "from sklearn.model_selection import train_test_split\n",
        "X_train, X_test, y_train, y_test = train_test_split(X, y, train_size = 0.61)"
      ],
      "execution_count": 14,
      "outputs": []
    },
    {
      "cell_type": "code",
      "metadata": {
        "colab": {
          "base_uri": "https://localhost:8080/"
        },
        "id": "6TPcGI5MW3d1",
        "outputId": "d4001c65-c11c-49fb-ffcc-bb7b101c0de1"
      },
      "source": [
        "event_train, event_test, submissions_train, submissions_test = split_events_submissions(events_data_train, submissions_data_train)\n",
        "\n",
        "X_train, y_train = create_dataset(event_train, submissions_train)\n",
        "X_test, y_test   = create_dataset(event_test, submissions_test)"
      ],
      "execution_count": 15,
      "outputs": [
        {
          "output_type": "stream",
          "name": "stdout",
          "text": [
            "events_data:  (2404741, 6)\n",
            "submissions_data:  (356395, 6)\n"
          ]
        },
        {
          "output_type": "stream",
          "name": "stderr",
          "text": [
            "/usr/local/lib/python3.7/dist-packages/ipykernel_launcher.py:195: SettingWithCopyWarning: \n",
            "A value is trying to be set on a copy of a slice from a DataFrame.\n",
            "Try using .loc[row_indexer,col_indexer] = value instead\n",
            "\n",
            "See the caveats in the documentation: https://pandas.pydata.org/pandas-docs/stable/user_guide/indexing.html#returning-a-view-versus-a-copy\n",
            "/usr/local/lib/python3.7/dist-packages/ipykernel_launcher.py:196: SettingWithCopyWarning: \n",
            "A value is trying to be set on a copy of a slice from a DataFrame.\n",
            "Try using .loc[row_indexer,col_indexer] = value instead\n",
            "\n",
            "See the caveats in the documentation: https://pandas.pydata.org/pandas-docs/stable/user_guide/indexing.html#returning-a-view-versus-a-copy\n",
            "/usr/local/lib/python3.7/dist-packages/ipykernel_launcher.py:198: SettingWithCopyWarning: \n",
            "A value is trying to be set on a copy of a slice from a DataFrame.\n",
            "Try using .loc[row_indexer,col_indexer] = value instead\n",
            "\n",
            "See the caveats in the documentation: https://pandas.pydata.org/pandas-docs/stable/user_guide/indexing.html#returning-a-view-versus-a-copy\n",
            "/usr/local/lib/python3.7/dist-packages/ipykernel_launcher.py:199: SettingWithCopyWarning: \n",
            "A value is trying to be set on a copy of a slice from a DataFrame.\n",
            "Try using .loc[row_indexer,col_indexer] = value instead\n",
            "\n",
            "See the caveats in the documentation: https://pandas.pydata.org/pandas-docs/stable/user_guide/indexing.html#returning-a-view-versus-a-copy\n"
          ]
        },
        {
          "output_type": "stream",
          "name": "stdout",
          "text": [
            "users_course_result:  (12072, 2)\n",
            "user_start_time:  (13464, 2)\n",
            "user_last_visit_time:  (13464, 2)\n",
            "events_data after triming:  (13464, 2)\n",
            "unique_days_in_events_data:  3\n",
            "submissions_data after triming:  (13464, 2)\n",
            "unique_days_in_submissions_data:  3\n",
            "users_scores:  (6183, 3)\n",
            "steps_tried:  (6183, 2)\n",
            "users_actions:  (13464, 5)\n",
            "users_days:  (13464, 2)\n",
            "X:  (13464, 7)\n",
            "y:  (13464,)\n",
            "events_data:  (1075962, 6)\n",
            "submissions_data:  (152709, 6)\n"
          ]
        },
        {
          "output_type": "stream",
          "name": "stderr",
          "text": [
            "/usr/local/lib/python3.7/dist-packages/ipykernel_launcher.py:195: SettingWithCopyWarning: \n",
            "A value is trying to be set on a copy of a slice from a DataFrame.\n",
            "Try using .loc[row_indexer,col_indexer] = value instead\n",
            "\n",
            "See the caveats in the documentation: https://pandas.pydata.org/pandas-docs/stable/user_guide/indexing.html#returning-a-view-versus-a-copy\n",
            "/usr/local/lib/python3.7/dist-packages/ipykernel_launcher.py:196: SettingWithCopyWarning: \n",
            "A value is trying to be set on a copy of a slice from a DataFrame.\n",
            "Try using .loc[row_indexer,col_indexer] = value instead\n",
            "\n",
            "See the caveats in the documentation: https://pandas.pydata.org/pandas-docs/stable/user_guide/indexing.html#returning-a-view-versus-a-copy\n",
            "/usr/local/lib/python3.7/dist-packages/ipykernel_launcher.py:198: SettingWithCopyWarning: \n",
            "A value is trying to be set on a copy of a slice from a DataFrame.\n",
            "Try using .loc[row_indexer,col_indexer] = value instead\n",
            "\n",
            "See the caveats in the documentation: https://pandas.pydata.org/pandas-docs/stable/user_guide/indexing.html#returning-a-view-versus-a-copy\n",
            "/usr/local/lib/python3.7/dist-packages/ipykernel_launcher.py:199: SettingWithCopyWarning: \n",
            "A value is trying to be set on a copy of a slice from a DataFrame.\n",
            "Try using .loc[row_indexer,col_indexer] = value instead\n",
            "\n",
            "See the caveats in the documentation: https://pandas.pydata.org/pandas-docs/stable/user_guide/indexing.html#returning-a-view-versus-a-copy\n"
          ]
        },
        {
          "output_type": "stream",
          "name": "stdout",
          "text": [
            "users_course_result:  (5190, 2)\n",
            "user_start_time:  (5770, 2)\n",
            "user_last_visit_time:  (5770, 2)\n",
            "events_data after triming:  (5770, 2)\n",
            "unique_days_in_events_data:  3\n",
            "submissions_data after triming:  (5770, 2)\n",
            "unique_days_in_submissions_data:  3\n",
            "users_scores:  (2632, 3)\n",
            "steps_tried:  (2632, 2)\n",
            "users_actions:  (5770, 5)\n",
            "users_days:  (5770, 2)\n",
            "X:  (5770, 7)\n",
            "y:  (5770,)\n"
          ]
        }
      ]
    },
    {
      "cell_type": "code",
      "metadata": {
        "colab": {
          "base_uri": "https://localhost:8080/"
        },
        "id": "xLO1JKJaW4tu",
        "outputId": "a1cb9519-fc09-4392-e11c-1ba75f99a514"
      },
      "source": [
        "X_train.shape"
      ],
      "execution_count": 16,
      "outputs": [
        {
          "output_type": "execute_result",
          "data": {
            "text/plain": [
              "(13464, 7)"
            ]
          },
          "metadata": {},
          "execution_count": 16
        }
      ]
    },
    {
      "cell_type": "code",
      "metadata": {
        "colab": {
          "base_uri": "https://localhost:8080/",
          "height": 235
        },
        "id": "0oIHbq1QW5dr",
        "outputId": "e04e9bc1-0ede-4e3a-b596-a1cb654ecacc"
      },
      "source": [
        "X_train.head()"
      ],
      "execution_count": 17,
      "outputs": [
        {
          "output_type": "execute_result",
          "data": {
            "text/html": [
              "<div>\n",
              "<style scoped>\n",
              "    .dataframe tbody tr th:only-of-type {\n",
              "        vertical-align: middle;\n",
              "    }\n",
              "\n",
              "    .dataframe tbody tr th {\n",
              "        vertical-align: top;\n",
              "    }\n",
              "\n",
              "    .dataframe thead th {\n",
              "        text-align: right;\n",
              "    }\n",
              "</style>\n",
              "<table border=\"1\" class=\"dataframe\">\n",
              "  <thead>\n",
              "    <tr style=\"text-align: right;\">\n",
              "      <th></th>\n",
              "      <th>day</th>\n",
              "      <th>discovered</th>\n",
              "      <th>passed</th>\n",
              "      <th>started_attempt</th>\n",
              "      <th>viewed</th>\n",
              "      <th>correct</th>\n",
              "      <th>wrong</th>\n",
              "    </tr>\n",
              "    <tr>\n",
              "      <th>user_id</th>\n",
              "      <th></th>\n",
              "      <th></th>\n",
              "      <th></th>\n",
              "      <th></th>\n",
              "      <th></th>\n",
              "      <th></th>\n",
              "      <th></th>\n",
              "    </tr>\n",
              "  </thead>\n",
              "  <tbody>\n",
              "    <tr>\n",
              "      <th>1</th>\n",
              "      <td>1</td>\n",
              "      <td>1</td>\n",
              "      <td>0</td>\n",
              "      <td>0</td>\n",
              "      <td>1</td>\n",
              "      <td>0.0</td>\n",
              "      <td>0.0</td>\n",
              "    </tr>\n",
              "    <tr>\n",
              "      <th>14</th>\n",
              "      <td>1</td>\n",
              "      <td>4</td>\n",
              "      <td>3</td>\n",
              "      <td>1</td>\n",
              "      <td>9</td>\n",
              "      <td>0.0</td>\n",
              "      <td>1.0</td>\n",
              "    </tr>\n",
              "    <tr>\n",
              "      <th>16</th>\n",
              "      <td>2</td>\n",
              "      <td>50</td>\n",
              "      <td>49</td>\n",
              "      <td>21</td>\n",
              "      <td>117</td>\n",
              "      <td>18.0</td>\n",
              "      <td>23.0</td>\n",
              "    </tr>\n",
              "    <tr>\n",
              "      <th>17</th>\n",
              "      <td>1</td>\n",
              "      <td>6</td>\n",
              "      <td>5</td>\n",
              "      <td>1</td>\n",
              "      <td>13</td>\n",
              "      <td>0.0</td>\n",
              "      <td>2.0</td>\n",
              "    </tr>\n",
              "    <tr>\n",
              "      <th>18</th>\n",
              "      <td>1</td>\n",
              "      <td>3</td>\n",
              "      <td>2</td>\n",
              "      <td>0</td>\n",
              "      <td>3</td>\n",
              "      <td>0.0</td>\n",
              "      <td>0.0</td>\n",
              "    </tr>\n",
              "  </tbody>\n",
              "</table>\n",
              "</div>"
            ],
            "text/plain": [
              "         day  discovered  passed  started_attempt  viewed  correct  wrong\n",
              "user_id                                                                  \n",
              "1          1           1       0                0       1      0.0    0.0\n",
              "14         1           4       3                1       9      0.0    1.0\n",
              "16         2          50      49               21     117     18.0   23.0\n",
              "17         1           6       5                1      13      0.0    2.0\n",
              "18         1           3       2                0       3      0.0    0.0"
            ]
          },
          "metadata": {},
          "execution_count": 17
        }
      ]
    },
    {
      "cell_type": "code",
      "metadata": {
        "colab": {
          "base_uri": "https://localhost:8080/"
        },
        "id": "5f5okeoKW7rV",
        "outputId": "0cab81fe-e9d9-4d1f-8640-0c97a05b34b6"
      },
      "source": [
        "y_train.value_counts()"
      ],
      "execution_count": 18,
      "outputs": [
        {
          "output_type": "execute_result",
          "data": {
            "text/plain": [
              "0.0    10222\n",
              "1.0     3242\n",
              "Name: passed_course, dtype: int64"
            ]
          },
          "metadata": {},
          "execution_count": 18
        }
      ]
    },
    {
      "cell_type": "code",
      "metadata": {
        "colab": {
          "base_uri": "https://localhost:8080/"
        },
        "id": "l4O_CARHW-oU",
        "outputId": "1584d962-56f8-46aa-ad99-476ca4fbbbb1"
      },
      "source": [
        "control_X, control_y = create_dataset(control_events_data, control_submissions_data)"
      ],
      "execution_count": 19,
      "outputs": [
        {
          "output_type": "stream",
          "name": "stdout",
          "text": [
            "events_data:  (274768, 4)\n",
            "submissions_data:  (42261, 4)\n",
            "users_course_result:  (5551, 2)\n",
            "user_start_time:  (6184, 2)\n",
            "user_last_visit_time:  (6184, 2)\n",
            "events_data after triming:  (6184, 2)\n",
            "unique_days_in_events_data:  3\n",
            "submissions_data after triming:  (6184, 2)\n",
            "unique_days_in_submissions_data:  3\n",
            "users_scores:  (2398, 3)\n",
            "steps_tried:  (2398, 2)\n",
            "users_actions:  (6184, 5)\n",
            "users_days:  (6184, 2)\n",
            "X:  (6184, 7)\n",
            "y:  (6184,)\n"
          ]
        }
      ]
    },
    {
      "cell_type": "code",
      "metadata": {
        "colab": {
          "base_uri": "https://localhost:8080/",
          "height": 469
        },
        "id": "H2PQkxpRXF26",
        "outputId": "04ddffd1-e292-4de3-f7a0-42d220dcd9f4"
      },
      "source": [
        "print(pd.cut(control_X.passed[control_X.passed > 20], 10).value_counts())\n",
        "control_X[(control_X.passed > 20) & (control_X.passed < 40)].passed.hist(bins  = 20)"
      ],
      "execution_count": 20,
      "outputs": [
        {
          "output_type": "stream",
          "name": "stdout",
          "text": [
            "(20.87, 34.0]     529\n",
            "(34.0, 47.0]      255\n",
            "(47.0, 60.0]      105\n",
            "(60.0, 73.0]       80\n",
            "(86.0, 99.0]       32\n",
            "(73.0, 86.0]       25\n",
            "(99.0, 112.0]      13\n",
            "(112.0, 125.0]      3\n",
            "(125.0, 138.0]      2\n",
            "(138.0, 151.0]      1\n",
            "Name: passed, dtype: int64\n"
          ]
        },
        {
          "output_type": "execute_result",
          "data": {
            "text/plain": [
              "<matplotlib.axes._subplots.AxesSubplot at 0x7f8b1e3d8cd0>"
            ]
          },
          "metadata": {},
          "execution_count": 20
        },
        {
          "output_type": "display_data",
          "data": {
            "image/png": "[encoded data removed]",
            "text/plain": [
              "<Figure size 432x288 with 1 Axes>"
            ]
          },
          "metadata": {
            "needs_background": "light"
          }
        }
      ]
    },
    {
      "cell_type": "code",
      "metadata": {
        "colab": {
          "base_uri": "https://localhost:8080/"
        },
        "id": "Y5qzeWydXIn7",
        "outputId": "dad9d884-c8ef-467c-fcc7-895cd6e75aa7"
      },
      "source": [
        "control_y.value_counts()"
      ],
      "execution_count": 21,
      "outputs": [
        {
          "output_type": "execute_result",
          "data": {
            "text/plain": [
              "0.0    5816\n",
              "1.0     368\n",
              "Name: passed_course, dtype: int64"
            ]
          },
          "metadata": {},
          "execution_count": 21
        }
      ]
    },
    {
      "cell_type": "code",
      "metadata": {
        "id": "r40j0AR2XJet"
      },
      "source": [
        "from sklearn.ensemble import RandomForestClassifier\n",
        "from sklearn.model_selection import GridSearchCV, cross_val_score\n",
        "from sklearn import metrics\n",
        "\n",
        "from sklearn.linear_model import LogisticRegression"
      ],
      "execution_count": 22,
      "outputs": []
    },
    {
      "cell_type": "code",
      "metadata": {
        "colab": {
          "base_uri": "https://localhost:8080/"
        },
        "id": "nO18-kzPXM-7",
        "outputId": "bfd2957b-0bfb-49e7-a6ce-44c303664220"
      },
      "source": [
        "estimator = RandomForestClassifier()\n",
        "\n",
        "#params = {'n_estimators':range(1, 101), 'max_depth' : range(1, 20), 'min_samples_leaf' :[10], 'min_samples_split' : range(20, 100, 10), 'class_weight':['balanced','balanced_subsample']}\n",
        "# params = {'n_estimators':range(1, 101), 'min_samples_leaf' :[10], 'min_samples_split' : range(20, 50, 10), 'class_weight':['balanced','balanced_subsample']}\n",
        "\n",
        "params = {'n_estimators':[100], 'min_samples_leaf' :[10], 'min_samples_split' : [10], 'class_weight':['balanced','balanced_subsample']}\n",
        "\n",
        "# estimator = xgb.XGBClassifier()\n",
        "# params = {'n_estimators' : range(1, 51), 'learning_rate': np.arange(0.1, 0.6, 0.1), 'max_depth' : range(1,11) , 'min_child_weight': range(2, 11)}\n",
        "# params = {'n_estimators' :[45] , 'learning_rate': [0.3], 'max_depth' : range(1,11) , 'min_child_weight': range(2, 11)}\n",
        "\n",
        "searcher = GridSearchCV(estimator = estimator, param_grid=params, cv=3, scoring='roc_auc')\n",
        "\n",
        "get_ipython().magic(u'time searcher.fit(X_train, y_train)')\n",
        "\n",
        "best_estimator =  searcher.best_estimator_\n",
        "\n",
        "scorer = searcher.scorer_\n",
        "print(scorer)\n",
        "\n",
        "best_params = searcher.best_params_\n",
        "print(best_params)\n",
        "\n",
        "# best_estimator = RandomForestClassifier(n_estimators=100, n_jobs=2, \n",
        "#                             min_samples_leaf=10, min_samples_split=10, \n",
        "#                             class_weight='balanced')\n",
        "\n",
        "# best_estimator.fit(X_train, y_train)\n",
        "\n"
      ],
      "execution_count": 23,
      "outputs": [
        {
          "output_type": "stream",
          "name": "stdout",
          "text": [
            "CPU times: user 4.97 s, sys: 4.75 ms, total: 4.97 s\n",
            "Wall time: 4.97 s\n",
            "make_scorer(roc_auc_score, needs_threshold=True)\n",
            "{'class_weight': 'balanced_subsample', 'min_samples_leaf': 10, 'min_samples_split': 10, 'n_estimators': 100}\n"
          ]
        }
      ]
    },
    {
      "cell_type": "code",
      "metadata": {
        "colab": {
          "base_uri": "https://localhost:8080/",
          "height": 266
        },
        "id": "Bn93RcbCXVUN",
        "outputId": "9774e364-c308-45f7-aa35-b14c54c991ca"
      },
      "source": [
        "fimp = pd.DataFrame([best_estimator.feature_importances_], columns=X_train.columns).T\n",
        "fimp.columns = ['weight']\n",
        "fimp.sort_values(by='weight', ascending=False)"
      ],
      "execution_count": 24,
      "outputs": [
        {
          "output_type": "execute_result",
          "data": {
            "text/html": [
              "<div>\n",
              "<style scoped>\n",
              "    .dataframe tbody tr th:only-of-type {\n",
              "        vertical-align: middle;\n",
              "    }\n",
              "\n",
              "    .dataframe tbody tr th {\n",
              "        vertical-align: top;\n",
              "    }\n",
              "\n",
              "    .dataframe thead th {\n",
              "        text-align: right;\n",
              "    }\n",
              "</style>\n",
              "<table border=\"1\" class=\"dataframe\">\n",
              "  <thead>\n",
              "    <tr style=\"text-align: right;\">\n",
              "      <th></th>\n",
              "      <th>weight</th>\n",
              "    </tr>\n",
              "  </thead>\n",
              "  <tbody>\n",
              "    <tr>\n",
              "      <th>passed</th>\n",
              "      <td>0.287768</td>\n",
              "    </tr>\n",
              "    <tr>\n",
              "      <th>discovered</th>\n",
              "      <td>0.198695</td>\n",
              "    </tr>\n",
              "    <tr>\n",
              "      <th>viewed</th>\n",
              "      <td>0.177122</td>\n",
              "    </tr>\n",
              "    <tr>\n",
              "      <th>correct</th>\n",
              "      <td>0.174789</td>\n",
              "    </tr>\n",
              "    <tr>\n",
              "      <th>started_attempt</th>\n",
              "      <td>0.095832</td>\n",
              "    </tr>\n",
              "    <tr>\n",
              "      <th>wrong</th>\n",
              "      <td>0.038775</td>\n",
              "    </tr>\n",
              "    <tr>\n",
              "      <th>day</th>\n",
              "      <td>0.027020</td>\n",
              "    </tr>\n",
              "  </tbody>\n",
              "</table>\n",
              "</div>"
            ],
            "text/plain": [
              "                   weight\n",
              "passed           0.287768\n",
              "discovered       0.198695\n",
              "viewed           0.177122\n",
              "correct          0.174789\n",
              "started_attempt  0.095832\n",
              "wrong            0.038775\n",
              "day              0.027020"
            ]
          },
          "metadata": {},
          "execution_count": 24
        }
      ]
    },
    {
      "cell_type": "code",
      "metadata": {
        "colab": {
          "base_uri": "https://localhost:8080/"
        },
        "id": "ACjeRh5AXW6r",
        "outputId": "4c5ee003-421b-4c93-cb27-510748b7615a"
      },
      "source": [
        "prdict_proba_train = best_estimator.predict_proba(X_train)\n",
        "print(prdict_proba_train)\n",
        "\n",
        "prdict_proba_train[np.where(y_train == 1), 1] = 1\n",
        "print(prdict_proba_train)\n",
        "\n",
        "fpr, tpr, thresholds = metrics.roc_curve(y_train, prdict_proba_train[:,1])\n",
        "roc_auc = metrics.auc(fpr, tpr)\n",
        "print(roc_auc)\n",
        "print('\\n')\n",
        "\n",
        "metrics.roc_auc_score(y_train, best_estimator.predict(X_train))"
      ],
      "execution_count": 25,
      "outputs": [
        {
          "output_type": "stream",
          "name": "stdout",
          "text": [
            "[[9.80397540e-01 1.96024604e-02]\n",
            " [9.07761916e-01 9.22380842e-02]\n",
            " [7.12956523e-04 9.99287043e-01]\n",
            " ...\n",
            " [9.88357189e-01 1.16428114e-02]\n",
            " [4.61761595e-01 5.38238405e-01]\n",
            " [6.88628510e-01 3.11371490e-01]]\n",
            "[[9.80397540e-01 1.96024604e-02]\n",
            " [9.07761916e-01 9.22380842e-02]\n",
            " [7.12956523e-04 1.00000000e+00]\n",
            " ...\n",
            " [9.88357189e-01 1.16428114e-02]\n",
            " [4.61761595e-01 5.38238405e-01]\n",
            " [6.88628510e-01 3.11371490e-01]]\n",
            "1.0\n",
            "\n",
            "\n"
          ]
        },
        {
          "output_type": "execute_result",
          "data": {
            "text/plain": [
              "0.81586207537516"
            ]
          },
          "metadata": {},
          "execution_count": 25
        }
      ]
    },
    {
      "cell_type": "code",
      "metadata": {
        "colab": {
          "base_uri": "https://localhost:8080/",
          "height": 938
        },
        "id": "pGWbSko1XF7n",
        "outputId": "761eb6e7-0b88-4c68-d601-35e6932935b5"
      },
      "source": [
        "model_assessment(best_estimator, X_train, y_train, 'X_train')"
      ],
      "execution_count": 26,
      "outputs": [
        {
          "output_type": "stream",
          "name": "stdout",
          "text": [
            "X_train  score: 0.8254604872251932\n",
            "X_train  roc_auc: 0.81586207537516\n",
            "X_train  cross_val mean score: 0.8770528548410842\n",
            "\n",
            "\n",
            "(0.00551, 0.106]    1751\n",
            "(0.106, 0.205]      4313\n",
            "(0.205, 0.305]      1146\n",
            "(0.305, 0.404]       893\n",
            "(0.404, 0.503]      1099\n",
            "(0.503, 0.603]      1195\n",
            "(0.603, 0.702]       715\n",
            "(0.702, 0.801]       601\n",
            "(0.801, 0.901]       575\n",
            "(0.901, 1.0]        1176\n",
            "dtype: int64\n",
            "\n",
            "\n",
            "0.9020132454935353\n",
            "\n",
            "\n",
            "[[8529 1693]\n",
            " [ 657 2585]]\n",
            "\n",
            "\n"
          ]
        },
        {
          "output_type": "display_data",
          "data": {
            "image/png": "[encoded data removed]",
            "text/plain": [
              "<Figure size 432x288 with 1 Axes>"
            ]
          },
          "metadata": {
            "needs_background": "light"
          }
        },
        {
          "output_type": "display_data",
          "data": {
            "image/png": "[encoded data removed]",
            "text/plain": [
              "<Figure size 432x288 with 1 Axes>"
            ]
          },
          "metadata": {
            "needs_background": "light"
          }
        }
      ]
    },
    {
      "cell_type": "code",
      "metadata": {
        "colab": {
          "base_uri": "https://localhost:8080/"
        },
        "id": "wAJwprklXiX1",
        "outputId": "98199eed-08ad-463e-ab85-250f6fb31631"
      },
      "source": [
        "X_train.shape"
      ],
      "execution_count": 27,
      "outputs": [
        {
          "output_type": "execute_result",
          "data": {
            "text/plain": [
              "(13464, 7)"
            ]
          },
          "metadata": {},
          "execution_count": 27
        }
      ]
    },
    {
      "cell_type": "code",
      "metadata": {
        "colab": {
          "base_uri": "https://localhost:8080/",
          "height": 938
        },
        "id": "LElc2d7WXi-b",
        "outputId": "c3b2069b-9e58-4f17-8294-86f37c97c82f"
      },
      "source": [
        "model_assessment(best_estimator, X_test, y_test, 'X_test')"
      ],
      "execution_count": 28,
      "outputs": [
        {
          "output_type": "stream",
          "name": "stdout",
          "text": [
            "X_test  score: 0.8045060658578856\n",
            "X_test  roc_auc: 0.7854633658385117\n",
            "X_test  cross_val mean score: 0.8684971100400435\n",
            "\n",
            "\n",
            "(0.00551, 0.106]     762\n",
            "(0.106, 0.205]      1871\n",
            "(0.205, 0.305]       450\n",
            "(0.305, 0.404]       403\n",
            "(0.404, 0.503]       469\n",
            "(0.503, 0.603]       539\n",
            "(0.603, 0.702]       308\n",
            "(0.702, 0.801]       239\n",
            "(0.801, 0.901]       258\n",
            "(0.901, 1.0]         471\n",
            "dtype: int64\n",
            "\n",
            "\n",
            "0.8706923432683098\n",
            "\n",
            "\n",
            "[[3597  777]\n",
            " [ 351 1045]]\n",
            "\n",
            "\n"
          ]
        },
        {
          "output_type": "display_data",
          "data": {
            "image/png": "[encoded data removed]",
            "text/plain": [
              "<Figure size 432x288 with 1 Axes>"
            ]
          },
          "metadata": {
            "needs_background": "light"
          }
        },
        {
          "output_type": "display_data",
          "data": {
            "image/png": "[encoded data removed]",
            "text/plain": [
              "<Figure size 432x288 with 1 Axes>"
            ]
          },
          "metadata": {
            "needs_background": "light"
          }
        }
      ]
    },
    {
      "cell_type": "code",
      "metadata": {
        "colab": {
          "base_uri": "https://localhost:8080/"
        },
        "id": "2kdHUJJZXmN1",
        "outputId": "d89d5bc4-8f7e-4cd0-8306-3b80b35b09f6"
      },
      "source": [
        "X_test.shape"
      ],
      "execution_count": 29,
      "outputs": [
        {
          "output_type": "execute_result",
          "data": {
            "text/plain": [
              "(5770, 7)"
            ]
          },
          "metadata": {},
          "execution_count": 29
        }
      ]
    },
    {
      "cell_type": "code",
      "metadata": {
        "colab": {
          "base_uri": "https://localhost:8080/",
          "height": 938
        },
        "id": "ZYyDGH0bXmQS",
        "outputId": "186bb05b-4292-4727-d16c-8dbfd976fdac"
      },
      "source": [
        "model_assessment(best_estimator, control_X, control_y, 'control_X')"
      ],
      "execution_count": 30,
      "outputs": [
        {
          "output_type": "stream",
          "name": "stdout",
          "text": [
            "control_X  score: 0.8040103492884865\n",
            "control_X  roc_auc: 0.8958046767537826\n",
            "control_X  cross_val mean score: 1.0\n",
            "\n",
            "\n",
            "(0.00896, 0.109]     713\n",
            "(0.109, 0.208]      2725\n",
            "(0.208, 0.307]       404\n",
            "(0.307, 0.406]       357\n",
            "(0.406, 0.505]       412\n",
            "(0.505, 0.604]       416\n",
            "(0.604, 0.703]       217\n",
            "(0.703, 0.802]       227\n",
            "(0.802, 0.901]       222\n",
            "(0.901, 1.0]         491\n",
            "dtype: int64\n",
            "\n",
            "\n",
            "0.9991664673165481\n",
            "\n",
            "\n",
            "[[4604 1212]\n",
            " [   0  368]]\n",
            "\n",
            "\n"
          ]
        },
        {
          "output_type": "display_data",
          "data": {
            "image/png": "[encoded data removed]",
            "text/plain": [
              "<Figure size 432x288 with 1 Axes>"
            ]
          },
          "metadata": {
            "needs_background": "light"
          }
        },
        {
          "output_type": "display_data",
          "data": {
            "image/png": "[encoded data removed]",
            "text/plain": [
              "<Figure size 432x288 with 1 Axes>"
            ]
          },
          "metadata": {
            "needs_background": "light"
          }
        }
      ]
    },
    {
      "cell_type": "code",
      "metadata": {
        "colab": {
          "base_uri": "https://localhost:8080/"
        },
        "id": "noWxyIo9XmSy",
        "outputId": "da3fceb1-f11c-474c-c259-721327cc96f9"
      },
      "source": [
        "control_X.shape"
      ],
      "execution_count": 31,
      "outputs": [
        {
          "output_type": "execute_result",
          "data": {
            "text/plain": [
              "(6184, 7)"
            ]
          },
          "metadata": {},
          "execution_count": 31
        }
      ]
    },
    {
      "cell_type": "code",
      "metadata": {
        "id": "vD9XhPsEXmVh"
      },
      "source": [
        "result_X = control_X.copy()\n",
        "result_y = control_y.copy()"
      ],
      "execution_count": 32,
      "outputs": []
    },
    {
      "cell_type": "code",
      "metadata": {
        "id": "WdlNhHBoXtBN"
      },
      "source": [
        "result_predict_proba = best_estimator.predict_proba(result_X)\n",
        "# result_predict_proba[np.where(result_y == 1), 1] = 1\n"
      ],
      "execution_count": 33,
      "outputs": []
    },
    {
      "cell_type": "code",
      "metadata": {
        "id": "_0g1R_9AXvCP"
      },
      "source": [
        "result_X['is_gone'] = pd.Series(result_predict_proba[:,1], index=result_X.index)\n",
        "             \n",
        "#result_X.loc[:,is_gone'] = pd.Series(result_predict_proba[:,1], index=result_X.index)\n",
        "\n",
        "# result_X['is_gone'] = np.where(result_X['passed'] >= 40, 1, result_X['passed'] / 40)\n",
        "# result_X['is_gone'] = np.where(result_X['passed'] < 13, 0, result_X['is_gone'])"
      ],
      "execution_count": 35,
      "outputs": []
    },
    {
      "cell_type": "code",
      "metadata": {
        "colab": {
          "base_uri": "https://localhost:8080/",
          "height": 450
        },
        "id": "IfcsZ6Q8XvEy",
        "outputId": "a9c1781f-4fbd-40d0-a4b9-d2917d9ceae4"
      },
      "source": [
        "result_X[result_X.is_gone > 0]"
      ],
      "execution_count": 36,
      "outputs": [
        {
          "output_type": "execute_result",
          "data": {
            "text/html": [
              "<div>\n",
              "<style scoped>\n",
              "    .dataframe tbody tr th:only-of-type {\n",
              "        vertical-align: middle;\n",
              "    }\n",
              "\n",
              "    .dataframe tbody tr th {\n",
              "        vertical-align: top;\n",
              "    }\n",
              "\n",
              "    .dataframe thead th {\n",
              "        text-align: right;\n",
              "    }\n",
              "</style>\n",
              "<table border=\"1\" class=\"dataframe\">\n",
              "  <thead>\n",
              "    <tr style=\"text-align: right;\">\n",
              "      <th></th>\n",
              "      <th>day</th>\n",
              "      <th>discovered</th>\n",
              "      <th>passed</th>\n",
              "      <th>started_attempt</th>\n",
              "      <th>viewed</th>\n",
              "      <th>correct</th>\n",
              "      <th>wrong</th>\n",
              "      <th>is_gone</th>\n",
              "    </tr>\n",
              "    <tr>\n",
              "      <th>user_id</th>\n",
              "      <th></th>\n",
              "      <th></th>\n",
              "      <th></th>\n",
              "      <th></th>\n",
              "      <th></th>\n",
              "      <th></th>\n",
              "      <th></th>\n",
              "      <th></th>\n",
              "    </tr>\n",
              "  </thead>\n",
              "  <tbody>\n",
              "    <tr>\n",
              "      <th>4</th>\n",
              "      <td>1</td>\n",
              "      <td>1</td>\n",
              "      <td>1</td>\n",
              "      <td>0</td>\n",
              "      <td>1</td>\n",
              "      <td>0.0</td>\n",
              "      <td>0.0</td>\n",
              "      <td>0.125463</td>\n",
              "    </tr>\n",
              "    <tr>\n",
              "      <th>6</th>\n",
              "      <td>1</td>\n",
              "      <td>1</td>\n",
              "      <td>1</td>\n",
              "      <td>0</td>\n",
              "      <td>1</td>\n",
              "      <td>0.0</td>\n",
              "      <td>0.0</td>\n",
              "      <td>0.125463</td>\n",
              "    </tr>\n",
              "    <tr>\n",
              "      <th>10</th>\n",
              "      <td>1</td>\n",
              "      <td>2</td>\n",
              "      <td>2</td>\n",
              "      <td>0</td>\n",
              "      <td>6</td>\n",
              "      <td>0.0</td>\n",
              "      <td>0.0</td>\n",
              "      <td>0.380796</td>\n",
              "    </tr>\n",
              "    <tr>\n",
              "      <th>12</th>\n",
              "      <td>1</td>\n",
              "      <td>11</td>\n",
              "      <td>9</td>\n",
              "      <td>4</td>\n",
              "      <td>14</td>\n",
              "      <td>1.0</td>\n",
              "      <td>0.0</td>\n",
              "      <td>0.391316</td>\n",
              "    </tr>\n",
              "    <tr>\n",
              "      <th>13</th>\n",
              "      <td>2</td>\n",
              "      <td>70</td>\n",
              "      <td>70</td>\n",
              "      <td>35</td>\n",
              "      <td>105</td>\n",
              "      <td>29.0</td>\n",
              "      <td>36.0</td>\n",
              "      <td>1.000000</td>\n",
              "    </tr>\n",
              "    <tr>\n",
              "      <th>...</th>\n",
              "      <td>...</td>\n",
              "      <td>...</td>\n",
              "      <td>...</td>\n",
              "      <td>...</td>\n",
              "      <td>...</td>\n",
              "      <td>...</td>\n",
              "      <td>...</td>\n",
              "      <td>...</td>\n",
              "    </tr>\n",
              "    <tr>\n",
              "      <th>26791</th>\n",
              "      <td>1</td>\n",
              "      <td>1</td>\n",
              "      <td>1</td>\n",
              "      <td>0</td>\n",
              "      <td>1</td>\n",
              "      <td>0.0</td>\n",
              "      <td>0.0</td>\n",
              "      <td>0.125463</td>\n",
              "    </tr>\n",
              "    <tr>\n",
              "      <th>26795</th>\n",
              "      <td>1</td>\n",
              "      <td>1</td>\n",
              "      <td>1</td>\n",
              "      <td>0</td>\n",
              "      <td>1</td>\n",
              "      <td>0.0</td>\n",
              "      <td>0.0</td>\n",
              "      <td>0.125463</td>\n",
              "    </tr>\n",
              "    <tr>\n",
              "      <th>26796</th>\n",
              "      <td>1</td>\n",
              "      <td>6</td>\n",
              "      <td>4</td>\n",
              "      <td>2</td>\n",
              "      <td>12</td>\n",
              "      <td>0.0</td>\n",
              "      <td>0.0</td>\n",
              "      <td>0.375063</td>\n",
              "    </tr>\n",
              "    <tr>\n",
              "      <th>26799</th>\n",
              "      <td>2</td>\n",
              "      <td>6</td>\n",
              "      <td>6</td>\n",
              "      <td>2</td>\n",
              "      <td>6</td>\n",
              "      <td>2.0</td>\n",
              "      <td>0.0</td>\n",
              "      <td>0.358931</td>\n",
              "    </tr>\n",
              "    <tr>\n",
              "      <th>26800</th>\n",
              "      <td>1</td>\n",
              "      <td>1</td>\n",
              "      <td>0</td>\n",
              "      <td>1</td>\n",
              "      <td>1</td>\n",
              "      <td>0.0</td>\n",
              "      <td>0.0</td>\n",
              "      <td>0.011643</td>\n",
              "    </tr>\n",
              "  </tbody>\n",
              "</table>\n",
              "<p>6184 rows × 8 columns</p>\n",
              "</div>"
            ],
            "text/plain": [
              "         day  discovered  passed  ...  correct  wrong   is_gone\n",
              "user_id                           ...                          \n",
              "4          1           1       1  ...      0.0    0.0  0.125463\n",
              "6          1           1       1  ...      0.0    0.0  0.125463\n",
              "10         1           2       2  ...      0.0    0.0  0.380796\n",
              "12         1          11       9  ...      1.0    0.0  0.391316\n",
              "13         2          70      70  ...     29.0   36.0  1.000000\n",
              "...      ...         ...     ...  ...      ...    ...       ...\n",
              "26791      1           1       1  ...      0.0    0.0  0.125463\n",
              "26795      1           1       1  ...      0.0    0.0  0.125463\n",
              "26796      1           6       4  ...      0.0    0.0  0.375063\n",
              "26799      2           6       6  ...      2.0    0.0  0.358931\n",
              "26800      1           1       0  ...      0.0    0.0  0.011643\n",
              "\n",
              "[6184 rows x 8 columns]"
            ]
          },
          "metadata": {},
          "execution_count": 36
        }
      ]
    },
    {
      "cell_type": "code",
      "metadata": {
        "colab": {
          "base_uri": "https://localhost:8080/"
        },
        "id": "m0r0n3f7XvHv",
        "outputId": "848eef42-0ba6-456b-f0ac-5111ebd5df65"
      },
      "source": [
        "pd.cut(result_X.is_gone, 10).value_counts()"
      ],
      "execution_count": 37,
      "outputs": [
        {
          "output_type": "execute_result",
          "data": {
            "text/plain": [
              "(0.109, 0.208]      2725\n",
              "(0.00896, 0.109]     713\n",
              "(0.901, 1.0]         491\n",
              "(0.505, 0.604]       416\n",
              "(0.406, 0.505]       412\n",
              "(0.208, 0.307]       404\n",
              "(0.307, 0.406]       357\n",
              "(0.703, 0.802]       227\n",
              "(0.802, 0.901]       222\n",
              "(0.604, 0.703]       217\n",
              "Name: is_gone, dtype: int64"
            ]
          },
          "metadata": {},
          "execution_count": 37
        }
      ]
    },
    {
      "cell_type": "code",
      "metadata": {
        "colab": {
          "base_uri": "https://localhost:8080/",
          "height": 282
        },
        "id": "boj_1q2oXzIF",
        "outputId": "28f2f3a9-fe2e-4c81-a587-44ff92836851"
      },
      "source": [
        "result_X.is_gone.hist()"
      ],
      "execution_count": 38,
      "outputs": [
        {
          "output_type": "execute_result",
          "data": {
            "text/plain": [
              "<matplotlib.axes._subplots.AxesSubplot at 0x7f8b1a75c3d0>"
            ]
          },
          "metadata": {},
          "execution_count": 38
        },
        {
          "output_type": "display_data",
          "data": {
            "image/png": "[encoded data removed]",
            "text/plain": [
              "<Figure size 432x288 with 1 Axes>"
            ]
          },
          "metadata": {
            "needs_background": "light"
          }
        }
      ]
    },
    {
      "cell_type": "code",
      "metadata": {
        "id": "YzDAEs27X0XJ"
      },
      "source": [
        "user_success_probability = result_X[['is_gone']]"
      ],
      "execution_count": 39,
      "outputs": []
    },
    {
      "cell_type": "code",
      "metadata": {
        "colab": {
          "base_uri": "https://localhost:8080/"
        },
        "id": "Mv_-L3ENX1-2",
        "outputId": "494e921a-1884-4a87-cefc-48c782a56045"
      },
      "source": [
        "user_success_probability.shape"
      ],
      "execution_count": 40,
      "outputs": [
        {
          "output_type": "execute_result",
          "data": {
            "text/plain": [
              "(6184, 1)"
            ]
          },
          "metadata": {},
          "execution_count": 40
        }
      ]
    },
    {
      "cell_type": "code",
      "metadata": {
        "colab": {
          "base_uri": "https://localhost:8080/",
          "height": 235
        },
        "id": "VR0GQAmwX3hA",
        "outputId": "16e8a2d1-a5e7-40bd-e9cd-297a04b8e55c"
      },
      "source": [
        "user_success_probability.head()"
      ],
      "execution_count": 41,
      "outputs": [
        {
          "output_type": "execute_result",
          "data": {
            "text/html": [
              "<div>\n",
              "<style scoped>\n",
              "    .dataframe tbody tr th:only-of-type {\n",
              "        vertical-align: middle;\n",
              "    }\n",
              "\n",
              "    .dataframe tbody tr th {\n",
              "        vertical-align: top;\n",
              "    }\n",
              "\n",
              "    .dataframe thead th {\n",
              "        text-align: right;\n",
              "    }\n",
              "</style>\n",
              "<table border=\"1\" class=\"dataframe\">\n",
              "  <thead>\n",
              "    <tr style=\"text-align: right;\">\n",
              "      <th></th>\n",
              "      <th>is_gone</th>\n",
              "    </tr>\n",
              "    <tr>\n",
              "      <th>user_id</th>\n",
              "      <th></th>\n",
              "    </tr>\n",
              "  </thead>\n",
              "  <tbody>\n",
              "    <tr>\n",
              "      <th>4</th>\n",
              "      <td>0.125463</td>\n",
              "    </tr>\n",
              "    <tr>\n",
              "      <th>6</th>\n",
              "      <td>0.125463</td>\n",
              "    </tr>\n",
              "    <tr>\n",
              "      <th>10</th>\n",
              "      <td>0.380796</td>\n",
              "    </tr>\n",
              "    <tr>\n",
              "      <th>12</th>\n",
              "      <td>0.391316</td>\n",
              "    </tr>\n",
              "    <tr>\n",
              "      <th>13</th>\n",
              "      <td>1.000000</td>\n",
              "    </tr>\n",
              "  </tbody>\n",
              "</table>\n",
              "</div>"
            ],
            "text/plain": [
              "          is_gone\n",
              "user_id          \n",
              "4        0.125463\n",
              "6        0.125463\n",
              "10       0.380796\n",
              "12       0.391316\n",
              "13       1.000000"
            ]
          },
          "metadata": {},
          "execution_count": 41
        }
      ]
    },
    {
      "cell_type": "code",
      "metadata": {
        "id": "_jpm3WVbX5GI"
      },
      "source": [
        "user_success_probability.to_csv('C/content/user_success_probability.csv')"
      ],
      "execution_count": null,
      "outputs": []
    },
    {
      "cell_type": "code",
      "metadata": {
        "id": "QnqkzyfNXvKu"
      },
      "source": [
        ""
      ],
      "execution_count": null,
      "outputs": []
    }
  ]
}
{
  "nbformat": 4,
  "nbformat_minor": 0,
  "metadata": {
    "colab": {
      "name": "Анализ результатов AB тестов.ipynb",
      "provenance": []
    },
    "kernelspec": {
      "name": "python3",
      "display_name": "Python 3"
    }
  },
  "cells": [
    {
      "cell_type": "code",
      "metadata": {
        "colab": {
          "base_uri": "https://localhost:8080/",
          "height": 255
        },
        "id": "zXyclPzSFVSm",
        "outputId": "76ec91d7-942f-4009-d9bf-913e788b9155"
      },
      "source": [
        "import pandas as pd\r\n",
        "import numpy as np\r\n",
        "from statsmodels.sandbox.stats.multicomp import multipletests \r\n",
        "data = pd.read_csv('/content/sample_data/ab_browser_test.csv')\r\n",
        "data.head()"
      ],
      "execution_count": 90,
      "outputs": [
        {
          "output_type": "stream",
          "text": [
            "/usr/local/lib/python3.6/dist-packages/statsmodels/tools/_testing.py:19: FutureWarning: pandas.util.testing is deprecated. Use the functions in the public API at pandas.testing instead.\n",
            "  import pandas.util.testing as tm\n"
          ],
          "name": "stderr"
        },
        {
          "output_type": "execute_result",
          "data": {
            "text/html": [
              "<div>\n",
              "<style scoped>\n",
              "    .dataframe tbody tr th:only-of-type {\n",
              "        vertical-align: middle;\n",
              "    }\n",
              "\n",
              "    .dataframe tbody tr th {\n",
              "        vertical-align: top;\n",
              "    }\n",
              "\n",
              "    .dataframe thead th {\n",
              "        text-align: right;\n",
              "    }\n",
              "</style>\n",
              "<table border=\"1\" class=\"dataframe\">\n",
              "  <thead>\n",
              "    <tr style=\"text-align: right;\">\n",
              "      <th></th>\n",
              "      <th>userID</th>\n",
              "      <th>browser</th>\n",
              "      <th>slot</th>\n",
              "      <th>n_clicks</th>\n",
              "      <th>n_queries</th>\n",
              "      <th>n_nonclk_queries</th>\n",
              "    </tr>\n",
              "  </thead>\n",
              "  <tbody>\n",
              "    <tr>\n",
              "      <th>0</th>\n",
              "      <td>1</td>\n",
              "      <td>Browser #2</td>\n",
              "      <td>exp</td>\n",
              "      <td>23</td>\n",
              "      <td>32</td>\n",
              "      <td>19</td>\n",
              "    </tr>\n",
              "    <tr>\n",
              "      <th>1</th>\n",
              "      <td>3</td>\n",
              "      <td>Browser #4</td>\n",
              "      <td>exp</td>\n",
              "      <td>3</td>\n",
              "      <td>4</td>\n",
              "      <td>2</td>\n",
              "    </tr>\n",
              "    <tr>\n",
              "      <th>2</th>\n",
              "      <td>5</td>\n",
              "      <td>Browser #4</td>\n",
              "      <td>exp</td>\n",
              "      <td>29</td>\n",
              "      <td>35</td>\n",
              "      <td>16</td>\n",
              "    </tr>\n",
              "    <tr>\n",
              "      <th>3</th>\n",
              "      <td>6</td>\n",
              "      <td>Browser #4</td>\n",
              "      <td>control</td>\n",
              "      <td>12</td>\n",
              "      <td>6</td>\n",
              "      <td>0</td>\n",
              "    </tr>\n",
              "    <tr>\n",
              "      <th>4</th>\n",
              "      <td>7</td>\n",
              "      <td>Browser #4</td>\n",
              "      <td>exp</td>\n",
              "      <td>54</td>\n",
              "      <td>68</td>\n",
              "      <td>30</td>\n",
              "    </tr>\n",
              "  </tbody>\n",
              "</table>\n",
              "</div>"
            ],
            "text/plain": [
              "   userID     browser     slot  n_clicks  n_queries  n_nonclk_queries\n",
              "0       1  Browser #2      exp        23         32                19\n",
              "1       3  Browser #4      exp         3          4                 2\n",
              "2       5  Browser #4      exp        29         35                16\n",
              "3       6  Browser #4  control        12          6                 0\n",
              "4       7  Browser #4      exp        54         68                30"
            ]
          },
          "metadata": {
            "tags": []
          },
          "execution_count": 90
        }
      ]
    },
    {
      "cell_type": "code",
      "metadata": {
        "colab": {
          "base_uri": "https://localhost:8080/"
        },
        "id": "Xc0ztdmnJfdE",
        "outputId": "5450e8f8-51d2-4290-fbfa-f7d5d8816f19"
      },
      "source": [
        "data.shape"
      ],
      "execution_count": 3,
      "outputs": [
        {
          "output_type": "execute_result",
          "data": {
            "text/plain": [
              "(566134, 6)"
            ]
          },
          "metadata": {
            "tags": []
          },
          "execution_count": 3
        }
      ]
    },
    {
      "cell_type": "markdown",
      "metadata": {
        "id": "oy-TxSmbGzM-"
      },
      "source": [
        "Задание 1."
      ]
    },
    {
      "cell_type": "code",
      "metadata": {
        "colab": {
          "base_uri": "https://localhost:8080/"
        },
        "id": "1Vy64uGsGepG",
        "outputId": "22701af6-1360-4dfd-bcb2-f0e3fe48fca3"
      },
      "source": [
        "diff_n_clicks = data[data['slot']=='exp']['n_clicks'].sum() - data[data['slot']=='control']['n_clicks'].sum()\r\n",
        "print(diff_n_clicks*100/data[data['slot']=='control']['n_clicks'].sum())"
      ],
      "execution_count": 4,
      "outputs": [
        {
          "output_type": "stream",
          "text": [
            "1.6135689824415806\n"
          ],
          "name": "stdout"
        }
      ]
    },
    {
      "cell_type": "markdown",
      "metadata": {
        "id": "LVGczXLAHwhU"
      },
      "source": [
        "Задание 2. "
      ]
    },
    {
      "cell_type": "code",
      "metadata": {
        "id": "mKwqFl30HeEt"
      },
      "source": [
        "def get_bootstrap_samples(data, n_samples):\r\n",
        "    indices = np.random.randint(0, len(data), (n_samples, len(data)))\r\n",
        "    samples = data[indices]\r\n",
        "    return samples\r\n",
        "\r\n",
        "def stat_intervals(stat, alpha):\r\n",
        "    boundaries = np.percentile(stat, [100 * alpha / 2., 100 * (1 - alpha / 2.)])\r\n",
        "    return boundaries"
      ],
      "execution_count": 5,
      "outputs": []
    },
    {
      "cell_type": "code",
      "metadata": {
        "id": "WzGo4VrtISPU"
      },
      "source": [
        "group_exp = data[data['slot']=='exp'].n_clicks\r\n",
        "group_control = data[data['slot']=='control'].n_clicks"
      ],
      "execution_count": 15,
      "outputs": []
    },
    {
      "cell_type": "code",
      "metadata": {
        "id": "b0FRpgDgIyNa"
      },
      "source": [
        "np.random.seed(0)\r\n",
        "\r\n",
        "group_exp_median_scores = map(np.median, get_bootstrap_samples(group_exp.values, 100))\r\n",
        "group_control_median_scores = map(np.median, get_bootstrap_samples(group_control.values, 100))\r\n",
        "\r\n",
        "group_exp_mean_scores = map(np.mean, get_bootstrap_samples(group_exp.values, 100))\r\n",
        "group_control_mean_scores = map(np.mean, get_bootstrap_samples(group_control.values, 100))"
      ],
      "execution_count": 16,
      "outputs": []
    },
    {
      "cell_type": "code",
      "metadata": {
        "id": "KfcnJtmqJFQs"
      },
      "source": [
        "delta_median_scores = map(lambda x: x[1] - x[0], zip(group_exp_median_scores, group_control_median_scores))\r\n",
        "delta_mean_scores = map(lambda x: x[1] - x[0], zip(group_exp_mean_scores, group_control_mean_scores))"
      ],
      "execution_count": 17,
      "outputs": []
    },
    {
      "cell_type": "code",
      "metadata": {
        "colab": {
          "base_uri": "https://localhost:8080/"
        },
        "id": "vXTrJUfRJJkD",
        "outputId": "9816c2f7-6264-4748-d2c9-6679076afe80"
      },
      "source": [
        "print(\"95% confidence interval for the difference between medians\",  stat_intervals(list(delta_median_scores), 0.05))\r\n",
        "print(\"95% confidence interval for the difference between means\",  stat_intervals(list(delta_mean_scores), 0.05))"
      ],
      "execution_count": 18,
      "outputs": [
        {
          "output_type": "stream",
          "text": [
            "95% confidence interval for the difference between medians [-1. -1.]\n",
            "95% confidence interval for the difference between means [-0.40760687 -0.19018207]\n"
          ],
          "name": "stdout"
        }
      ]
    },
    {
      "cell_type": "markdown",
      "metadata": {
        "id": "f6ZhUvozMDzc"
      },
      "source": [
        "Задание 3."
      ]
    },
    {
      "cell_type": "markdown",
      "metadata": {
        "id": "Ur6OKjKLNKFh"
      },
      "source": [
        "Посмотрим на распределение наших выборок с помощью Q-Q plot"
      ]
    },
    {
      "cell_type": "code",
      "metadata": {
        "colab": {
          "base_uri": "https://localhost:8080/",
          "height": 295
        },
        "id": "gG1YNIsrKjyZ",
        "outputId": "3aabe262-865f-4c47-e541-5caf390d46a1"
      },
      "source": [
        "import pylab \r\n",
        "import scipy.stats as stats\r\n",
        "\r\n",
        "stats.probplot(group_exp, dist=\"norm\", plot=pylab)\r\n",
        "pylab.show()\r\n"
      ],
      "execution_count": 22,
      "outputs": [
        {
          "output_type": "display_data",
          "data": {
            "image/png": "[encoded data removed]",
            "text/plain": [
              "<Figure size 432x288 with 1 Axes>"
            ]
          },
          "metadata": {
            "tags": [],
            "needs_background": "light"
          }
        }
      ]
    },
    {
      "cell_type": "code",
      "metadata": {
        "colab": {
          "base_uri": "https://localhost:8080/",
          "height": 295
        },
        "id": "Sz3QmEXuN568",
        "outputId": "36916655-1781-4f04-9206-b0475259f7a8"
      },
      "source": [
        "stats.probplot(group_control, dist=\"norm\", plot=pylab)\r\n",
        "pylab.show()\r\n"
      ],
      "execution_count": 23,
      "outputs": [
        {
          "output_type": "display_data",
          "data": {
            "image/png": "[encoded data removed]",
            "text/plain": [
              "<Figure size 432x288 with 1 Axes>"
            ]
          },
          "metadata": {
            "tags": [],
            "needs_background": "light"
          }
        }
      ]
    },
    {
      "cell_type": "markdown",
      "metadata": {
        "id": "TqaNEP5nW_Lq"
      },
      "source": [
        "Видим из графиков, что выборки мало похожи на нормальные"
      ]
    },
    {
      "cell_type": "markdown",
      "metadata": {
        "id": "GH9N2fXBXAT3"
      },
      "source": [
        "Задание 4."
      ]
    },
    {
      "cell_type": "code",
      "metadata": {
        "id": "KaKd7APOOA2F"
      },
      "source": [
        "np.random.seed(0)\r\n",
        "n_boot_samples = 500\r\n",
        "bootstrap_exp = get_bootstrap_samples(group_exp.values,n_boot_samples)\r\n",
        "bootstrap_control_mean = map(np.mean, bootstrap_control)\r\n",
        "bootstrap_control_std = np.std(bootstrap_control,axis = 0, ddof = 1)"
      ],
      "execution_count": 81,
      "outputs": []
    },
    {
      "cell_type": "code",
      "metadata": {
        "colab": {
          "base_uri": "https://localhost:8080/"
        },
        "id": "CHauzVKFYeE9",
        "outputId": "41a1cd5d-5390-4dfc-8419-fc8b8a748057"
      },
      "source": [
        "stats.probplot(list(bootstrap_control_mean) , dist=\"norm\", fit= True, rvalue=True,plot=None)[1]"
      ],
      "execution_count": 83,
      "outputs": [
        {
          "output_type": "execute_result",
          "data": {
            "text/plain": [
              "(0.03821611315715045, 11.280319503503728, 0.9991755399263491)"
            ]
          },
          "metadata": {
            "tags": []
          },
          "execution_count": 83
        }
      ]
    },
    {
      "cell_type": "code",
      "metadata": {
        "colab": {
          "base_uri": "https://localhost:8080/"
        },
        "id": "fqXc1_8FYl4R",
        "outputId": "5e10281d-cab7-4f04-f575-66c304a3b3cf"
      },
      "source": [
        "stats.probplot(list(bootstrap_control_std), dist=\"chi2\", sparams=(len(list(bootstrap_control_std))-1), fit= True, rvalue=True,plot=None)[1]"
      ],
      "execution_count": 86,
      "outputs": [
        {
          "output_type": "execute_result",
          "data": {
            "text/plain": [
              "(0.004383681847721979, -1227.4051489365143, 0.9462970459338818)"
            ]
          },
          "metadata": {
            "tags": []
          },
          "execution_count": 86
        }
      ]
    },
    {
      "cell_type": "markdown",
      "metadata": {
        "id": "7J6A-buwgAHp"
      },
      "source": [
        "Задание 5."
      ]
    },
    {
      "cell_type": "code",
      "metadata": {
        "id": "zATdmYnIZoLg"
      },
      "source": [
        "group_exp = data[data['slot']=='exp'].groupby('userID').agg({'n_clicks':'sum'},axis = 1)\r\n",
        "group_control = data[data['slot']=='control'].groupby('userID').agg({'n_clicks':'sum'},axis = 1)"
      ],
      "execution_count": 87,
      "outputs": []
    },
    {
      "cell_type": "code",
      "metadata": {
        "colab": {
          "base_uri": "https://localhost:8080/"
        },
        "id": "tzsTrUypnY43",
        "outputId": "894112ba-0c73-4918-80ac-5c0a8c6f25f9"
      },
      "source": [
        "stats.mannwhitneyu(group_exp,group_control)"
      ],
      "execution_count": 88,
      "outputs": [
        {
          "output_type": "execute_result",
          "data": {
            "text/plain": [
              "MannwhitneyuResult(statistic=38901259929.0, pvalue=4.3471471887604393e-75)"
            ]
          },
          "metadata": {
            "tags": []
          },
          "execution_count": 88
        }
      ]
    },
    {
      "cell_type": "markdown",
      "metadata": {
        "id": "7Sc5fXG9oQt4"
      },
      "source": [
        "Задание 6."
      ]
    },
    {
      "cell_type": "code",
      "metadata": {
        "colab": {
          "base_uri": "https://localhost:8080/"
        },
        "id": "Og6Jr9UDnd0T",
        "outputId": "d7850451-debc-449b-8646-36e763a0aeef"
      },
      "source": [
        "exp = data.slot.loc[data.slot == 'exp'].index\r\n",
        "ctrl = data.slot.loc[data.slot == 'control'].index\r\n",
        "browsers_nclicks_exp = data.loc[exp].groupby(['browser', 'userID']).sum().loc[:,'n_clicks']\r\n",
        "browsers_nclicks_ctrl = data.loc[ctrl].groupby(['browser', 'userID']).sum().loc[:,'n_clicks']\r\n",
        "browsers = np.unique(data.browser)\r\n",
        "print('Unique browsers numbers: ' + str(browsers))\r\n",
        "print('')\r\n",
        "\r\n",
        "print('Mann-Whitney rank test without multipletest')\r\n",
        "mw_p = np.empty(browsers.shape[0])\r\n",
        "for i, br in enumerate(browsers):\r\n",
        "    print('Browser : ' ,br),\r\n",
        "    _, mw_p[i] = stats.mannwhitneyu(browsers_nclicks_exp.loc[br, :], browsers_nclicks_ctrl.loc[br, :], alternative='two-sided')\r\n",
        "    print('p-value = %.4f' % mw_p[i])\r\n",
        "\r\n",
        "print('')\r\n",
        "print('Mann-Whitney rank test with multipletest')\r\n",
        "_, mw_p_corr, _, _ = multipletests(mw_p, alpha = 0.05, method = 'holm')\r\n",
        "for i, br in enumerate(browsers):\r\n",
        "    print('Browser : ' ,br),\r\n",
        "    print('p-value = %.4f' % mw_p_corr[i])"
      ],
      "execution_count": 97,
      "outputs": [
        {
          "output_type": "stream",
          "text": [
            "Unique browsers numbers: ['Browser #14' 'Browser #17' 'Browser #2' 'Browser #20' 'Browser #22'\n",
            " 'Browser #4']\n",
            "\n",
            "Mann-Whitney rank test without multipletest\n",
            "Browser :  Browser #14\n",
            "p-value = 0.0000\n",
            "Browser :  Browser #17\n",
            "p-value = 0.0748\n",
            "Browser :  Browser #2\n",
            "p-value = 0.0545\n",
            "Browser :  Browser #20\n",
            "p-value = 0.9073\n",
            "Browser :  Browser #22\n",
            "p-value = 0.5148\n",
            "Browser :  Browser #4\n",
            "p-value = 0.8152\n",
            "\n",
            "Mann-Whitney rank test with multipletest\n",
            "Browser :  Browser #14\n",
            "p-value = 0.0000\n",
            "Browser :  Browser #17\n",
            "p-value = 0.2992\n",
            "Browser :  Browser #2\n",
            "p-value = 0.2724\n",
            "Browser :  Browser #20\n",
            "p-value = 1.0000\n",
            "Browser :  Browser #22\n",
            "p-value = 1.0000\n",
            "Browser :  Browser #4\n",
            "p-value = 1.0000\n"
          ],
          "name": "stdout"
        }
      ]
    },
    {
      "cell_type": "code",
      "metadata": {
        "id": "iYMWHNolpJTl"
      },
      "source": [
        ""
      ],
      "execution_count": null,
      "outputs": []
    }
  ]
}
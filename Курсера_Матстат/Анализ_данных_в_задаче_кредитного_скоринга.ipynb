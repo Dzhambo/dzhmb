{
  "nbformat": 4,
  "nbformat_minor": 0,
  "metadata": {
    "colab": {
      "name": "Анализ данных в задаче кредитного скоринга.ipynb",
      "provenance": []
    },
    "kernelspec": {
      "name": "python3",
      "display_name": "Python 3"
    }
  },
  "cells": [
    {
      "cell_type": "code",
      "metadata": {
        "colab": {
          "base_uri": "https://localhost:8080/",
          "height": 321
        },
        "id": "d4CKSatUwwGh",
        "outputId": "7b1f2567-a468-442b-8405-51256c2bc899"
      },
      "source": [
        "import pandas as pd\r\n",
        "import numpy as np\r\n",
        "import itertools\r\n",
        "import scipy\r\n",
        "from statsmodels.stats.proportion import proportion_confint\r\n",
        "from scipy.stats import chi2_contingency\r\n",
        "from scipy.stats import chisquare\r\n",
        "%pylab inline\r\n",
        "data = pd.read_csv('/content/sample_data/credit_card_default_analysis.csv',index_col=['ID'])\r\n",
        "data.head()"
      ],
      "execution_count": 65,
      "outputs": [
        {
          "output_type": "stream",
          "text": [
            "Populating the interactive namespace from numpy and matplotlib\n"
          ],
          "name": "stdout"
        },
        {
          "output_type": "stream",
          "text": [
            "/usr/local/lib/python3.6/dist-packages/IPython/core/magics/pylab.py:161: UserWarning: pylab import has clobbered these variables: ['chisquare']\n",
            "`%matplotlib` prevents importing * from pylab and numpy\n",
            "  \"\\n`%matplotlib` prevents importing * from pylab and numpy\"\n"
          ],
          "name": "stderr"
        },
        {
          "output_type": "execute_result",
          "data": {
            "text/html": [
              "<div>\n",
              "<style scoped>\n",
              "    .dataframe tbody tr th:only-of-type {\n",
              "        vertical-align: middle;\n",
              "    }\n",
              "\n",
              "    .dataframe tbody tr th {\n",
              "        vertical-align: top;\n",
              "    }\n",
              "\n",
              "    .dataframe thead th {\n",
              "        text-align: right;\n",
              "    }\n",
              "</style>\n",
              "<table border=\"1\" class=\"dataframe\">\n",
              "  <thead>\n",
              "    <tr style=\"text-align: right;\">\n",
              "      <th></th>\n",
              "      <th>LIMIT_BAL</th>\n",
              "      <th>SEX</th>\n",
              "      <th>EDUCATION</th>\n",
              "      <th>MARRIAGE</th>\n",
              "      <th>AGE</th>\n",
              "      <th>PAY_0</th>\n",
              "      <th>PAY_2</th>\n",
              "      <th>PAY_3</th>\n",
              "      <th>PAY_4</th>\n",
              "      <th>PAY_5</th>\n",
              "      <th>PAY_6</th>\n",
              "      <th>BILL_AMT1</th>\n",
              "      <th>BILL_AMT2</th>\n",
              "      <th>BILL_AMT3</th>\n",
              "      <th>BILL_AMT4</th>\n",
              "      <th>BILL_AMT5</th>\n",
              "      <th>BILL_AMT6</th>\n",
              "      <th>PAY_AMT1</th>\n",
              "      <th>PAY_AMT2</th>\n",
              "      <th>PAY_AMT3</th>\n",
              "      <th>PAY_AMT4</th>\n",
              "      <th>PAY_AMT5</th>\n",
              "      <th>PAY_AMT6</th>\n",
              "      <th>default</th>\n",
              "    </tr>\n",
              "    <tr>\n",
              "      <th>ID</th>\n",
              "      <th></th>\n",
              "      <th></th>\n",
              "      <th></th>\n",
              "      <th></th>\n",
              "      <th></th>\n",
              "      <th></th>\n",
              "      <th></th>\n",
              "      <th></th>\n",
              "      <th></th>\n",
              "      <th></th>\n",
              "      <th></th>\n",
              "      <th></th>\n",
              "      <th></th>\n",
              "      <th></th>\n",
              "      <th></th>\n",
              "      <th></th>\n",
              "      <th></th>\n",
              "      <th></th>\n",
              "      <th></th>\n",
              "      <th></th>\n",
              "      <th></th>\n",
              "      <th></th>\n",
              "      <th></th>\n",
              "      <th></th>\n",
              "    </tr>\n",
              "  </thead>\n",
              "  <tbody>\n",
              "    <tr>\n",
              "      <th>1</th>\n",
              "      <td>20000</td>\n",
              "      <td>2</td>\n",
              "      <td>2</td>\n",
              "      <td>1</td>\n",
              "      <td>24</td>\n",
              "      <td>2</td>\n",
              "      <td>2</td>\n",
              "      <td>0</td>\n",
              "      <td>0</td>\n",
              "      <td>0</td>\n",
              "      <td>0</td>\n",
              "      <td>3913</td>\n",
              "      <td>3102</td>\n",
              "      <td>689</td>\n",
              "      <td>0</td>\n",
              "      <td>0</td>\n",
              "      <td>0</td>\n",
              "      <td>0</td>\n",
              "      <td>689</td>\n",
              "      <td>0</td>\n",
              "      <td>0</td>\n",
              "      <td>0</td>\n",
              "      <td>0</td>\n",
              "      <td>1</td>\n",
              "    </tr>\n",
              "    <tr>\n",
              "      <th>2</th>\n",
              "      <td>120000</td>\n",
              "      <td>2</td>\n",
              "      <td>2</td>\n",
              "      <td>2</td>\n",
              "      <td>26</td>\n",
              "      <td>0</td>\n",
              "      <td>2</td>\n",
              "      <td>0</td>\n",
              "      <td>0</td>\n",
              "      <td>0</td>\n",
              "      <td>2</td>\n",
              "      <td>2682</td>\n",
              "      <td>1725</td>\n",
              "      <td>2682</td>\n",
              "      <td>3272</td>\n",
              "      <td>3455</td>\n",
              "      <td>3261</td>\n",
              "      <td>0</td>\n",
              "      <td>1000</td>\n",
              "      <td>1000</td>\n",
              "      <td>1000</td>\n",
              "      <td>0</td>\n",
              "      <td>2000</td>\n",
              "      <td>1</td>\n",
              "    </tr>\n",
              "    <tr>\n",
              "      <th>3</th>\n",
              "      <td>90000</td>\n",
              "      <td>2</td>\n",
              "      <td>2</td>\n",
              "      <td>2</td>\n",
              "      <td>34</td>\n",
              "      <td>0</td>\n",
              "      <td>0</td>\n",
              "      <td>0</td>\n",
              "      <td>0</td>\n",
              "      <td>0</td>\n",
              "      <td>0</td>\n",
              "      <td>29239</td>\n",
              "      <td>14027</td>\n",
              "      <td>13559</td>\n",
              "      <td>14331</td>\n",
              "      <td>14948</td>\n",
              "      <td>15549</td>\n",
              "      <td>1518</td>\n",
              "      <td>1500</td>\n",
              "      <td>1000</td>\n",
              "      <td>1000</td>\n",
              "      <td>1000</td>\n",
              "      <td>5000</td>\n",
              "      <td>0</td>\n",
              "    </tr>\n",
              "    <tr>\n",
              "      <th>4</th>\n",
              "      <td>50000</td>\n",
              "      <td>2</td>\n",
              "      <td>2</td>\n",
              "      <td>1</td>\n",
              "      <td>37</td>\n",
              "      <td>0</td>\n",
              "      <td>0</td>\n",
              "      <td>0</td>\n",
              "      <td>0</td>\n",
              "      <td>0</td>\n",
              "      <td>0</td>\n",
              "      <td>46990</td>\n",
              "      <td>48233</td>\n",
              "      <td>49291</td>\n",
              "      <td>28314</td>\n",
              "      <td>28959</td>\n",
              "      <td>29547</td>\n",
              "      <td>2000</td>\n",
              "      <td>2019</td>\n",
              "      <td>1200</td>\n",
              "      <td>1100</td>\n",
              "      <td>1069</td>\n",
              "      <td>1000</td>\n",
              "      <td>0</td>\n",
              "    </tr>\n",
              "    <tr>\n",
              "      <th>5</th>\n",
              "      <td>50000</td>\n",
              "      <td>1</td>\n",
              "      <td>2</td>\n",
              "      <td>1</td>\n",
              "      <td>57</td>\n",
              "      <td>0</td>\n",
              "      <td>0</td>\n",
              "      <td>0</td>\n",
              "      <td>0</td>\n",
              "      <td>0</td>\n",
              "      <td>0</td>\n",
              "      <td>8617</td>\n",
              "      <td>5670</td>\n",
              "      <td>35835</td>\n",
              "      <td>20940</td>\n",
              "      <td>19146</td>\n",
              "      <td>19131</td>\n",
              "      <td>2000</td>\n",
              "      <td>36681</td>\n",
              "      <td>10000</td>\n",
              "      <td>9000</td>\n",
              "      <td>689</td>\n",
              "      <td>679</td>\n",
              "      <td>0</td>\n",
              "    </tr>\n",
              "  </tbody>\n",
              "</table>\n",
              "</div>"
            ],
            "text/plain": [
              "    LIMIT_BAL  SEX  EDUCATION  MARRIAGE  ...  PAY_AMT4  PAY_AMT5  PAY_AMT6  default\n",
              "ID                                       ...                                       \n",
              "1       20000    2          2         1  ...         0         0         0        1\n",
              "2      120000    2          2         2  ...      1000         0      2000        1\n",
              "3       90000    2          2         2  ...      1000      1000      5000        0\n",
              "4       50000    2          2         1  ...      1100      1069      1000        0\n",
              "5       50000    1          2         1  ...      9000       689       679        0\n",
              "\n",
              "[5 rows x 24 columns]"
            ]
          },
          "metadata": {
            "tags": []
          },
          "execution_count": 65
        }
      ]
    },
    {
      "cell_type": "markdown",
      "metadata": {
        "id": "HU86PL1A1Zjn"
      },
      "source": [
        "1. Размер кредитного лимита (LIMIT_BAL). В двух группах, тех людей, кто вернул кредит (default = 0) и тех, кто его не вернул (default = 1) проверьте гипотезы:   a)  о равенстве медианных значений кредитного лимита с помощью подходящей интервальной оценки  b) о равенстве распределений с помощью одного из подходящих непараметрических критериев проверки равенства средних.  Значимы ли полученные результаты с практической точки зрения ?\r\n"
      ]
    },
    {
      "cell_type": "markdown",
      "metadata": {
        "id": "ZUaoKDI51xLM"
      },
      "source": [
        "LIMIT_BAL:  размер кредитного лимита (в том числе и на семью клиента)"
      ]
    },
    {
      "cell_type": "code",
      "metadata": {
        "id": "k5v8G4eu1O0n"
      },
      "source": [
        "group_default_0 = data[data['default']==0].LIMIT_BAL\r\n",
        "group_default_1 = data[data['default']==1].LIMIT_BAL"
      ],
      "execution_count": 3,
      "outputs": []
    },
    {
      "cell_type": "code",
      "metadata": {
        "colab": {
          "base_uri": "https://localhost:8080/",
          "height": 296
        },
        "id": "JBvyp2WA4MNX",
        "outputId": "a6b04850-eda5-4ef4-e99b-479d934a4e14"
      },
      "source": [
        "group_default_0.hist()\r\n",
        "group_default_1.hist()"
      ],
      "execution_count": 4,
      "outputs": [
        {
          "output_type": "execute_result",
          "data": {
            "text/plain": [
              "<matplotlib.axes._subplots.AxesSubplot at 0x7fc1880a4518>"
            ]
          },
          "metadata": {
            "tags": []
          },
          "execution_count": 4
        },
        {
          "output_type": "display_data",
          "data": {
            "image/png": "[encoded data removed]",
            "text/plain": [
              "<Figure size 432x288 with 1 Axes>"
            ]
          },
          "metadata": {
            "tags": [],
            "needs_background": "light"
          }
        }
      ]
    },
    {
      "cell_type": "markdown",
      "metadata": {
        "id": "bkWvk0Ta2g0s"
      },
      "source": [
        "H0 : medX1 = medX2\r\n",
        "\r\n",
        "H1 : medX1 != medX2\r\n",
        "\r\n",
        "a) Проверяем гипотезу о равенстве медианных значений с помощью интервальной оценки. Доверительный интервал будем строить на основе бутстрэпа. Для  начала приведем точечную оценку разности медиан:\r\n"
      ]
    },
    {
      "cell_type": "code",
      "metadata": {
        "id": "ZQHb5hOB2zB3"
      },
      "source": [
        "def get_bootstrap_samples(data, n_samples):\r\n",
        "    indices = np.random.randint(0, len(data), (n_samples, len(data)))\r\n",
        "    samples = data[indices]\r\n",
        "    return samples\r\n",
        "def stat_intervals(stat, alpha):\r\n",
        "    boundaries = np.percentile(stat, [100 * alpha / 2., 100 * (1 - alpha / 2.)])\r\n",
        "    return boundaries"
      ],
      "execution_count": 5,
      "outputs": []
    },
    {
      "cell_type": "code",
      "metadata": {
        "colab": {
          "base_uri": "https://localhost:8080/"
        },
        "id": "Jd2qIrLV4-tG",
        "outputId": "4be2c940-2033-43a2-e24c-60250f7d1687"
      },
      "source": [
        "print('Точечная оценка разности медиан = ', np.median(group_default_0) - np.median(group_default_1))"
      ],
      "execution_count": 6,
      "outputs": [
        {
          "output_type": "stream",
          "text": [
            "Точечная оценка разности медиан =  60000.0\n"
          ],
          "name": "stdout"
        }
      ]
    },
    {
      "cell_type": "markdown",
      "metadata": {
        "id": "jesL5qjB6FUa"
      },
      "source": [
        "Получим бутсрэпом наши выборки:"
      ]
    },
    {
      "cell_type": "code",
      "metadata": {
        "id": "k0hV3Q1u58_k"
      },
      "source": [
        "default0_median_scores = map(np.median, get_bootstrap_samples(group_default_0.values, 10000))\r\n",
        "default1_median_scores = map(np.median, get_bootstrap_samples(group_default_1.values, 10000))"
      ],
      "execution_count": 7,
      "outputs": []
    },
    {
      "cell_type": "markdown",
      "metadata": {
        "id": "sD72OowB5ye7"
      },
      "source": [
        "Строим 95% доверительный интервал:"
      ]
    },
    {
      "cell_type": "code",
      "metadata": {
        "id": "g3lIWL9O5ftu"
      },
      "source": [
        "delta_median_scores = map(lambda x: x[0] - x[1], zip(default0_median_scores, default1_median_scores))"
      ],
      "execution_count": 8,
      "outputs": []
    },
    {
      "cell_type": "code",
      "metadata": {
        "colab": {
          "base_uri": "https://localhost:8080/"
        },
        "id": "aaAzgJEa5WwE",
        "outputId": "2bf56a0f-5f7e-44bd-f7a0-bbc7703c55a4"
      },
      "source": [
        "print(\"95% confidence interval for the difference between medians\",  stat_intervals(list(delta_median_scores), 0.05))"
      ],
      "execution_count": 9,
      "outputs": [
        {
          "output_type": "stream",
          "text": [
            "95% confidence interval for the difference between medians [60000. 70000.]\n"
          ],
          "name": "stdout"
        }
      ]
    },
    {
      "cell_type": "markdown",
      "metadata": {
        "id": "vlSsvoF57Fin"
      },
      "source": [
        "Видим,что 0 не содержится в этом интервале, следовательно мы можем сделать вывод, что нулевая гипотеза отклоняется. Чтобы удостоверитсья в этом можно посчитать p_value: который равен наибольшему значению alpha, при котором интервал захватывает 0. Практически, двигая alpha установилось что правый конец ниже порога 60000 не идет"
      ]
    },
    {
      "cell_type": "markdown",
      "metadata": {
        "id": "Lvi959i3-Rbi"
      },
      "source": [
        "Теперь хотим проверить гипотезу о равенстве распределений с помощью перестановочного критерия для независимых выборок:\r\n",
        "\r\n",
        "$H_0\\colon F_{X_1}(x) = F_{X_2}(x)$\r\n",
        "\r\n",
        "$H_1\\colon F_{X_1}(x) = F_{X_2}(x + \\Delta), \\Delta\\neq 0$"
      ]
    },
    {
      "cell_type": "code",
      "metadata": {
        "id": "dD8bL9rs-Fqq"
      },
      "source": [
        "def permutation_t_stat_ind(sample1, sample2):\r\n",
        "    return np.mean(sample1) - np.mean(sample2)\r\n",
        "\r\n",
        "def get_random_combinations(n1, n2, max_combinations):\r\n",
        "    index = list(range(n1 + n2))\r\n",
        "    indices = set([tuple(index)])\r\n",
        "    for i in range(max_combinations - 1):\r\n",
        "      np.random.shuffle(index)\r\n",
        "      indices.add(tuple(index))\r\n",
        "    return [(index[:n1], index[n1:]) for index in indices]\r\n",
        "\r\n",
        "def permutation_zero_dist_ind(sample1, sample2, max_combinations = None):\r\n",
        "    joined_sample = np.hstack((sample1, sample2))\r\n",
        "    n1 = len(sample1)\r\n",
        "    n = len(joined_sample)\r\n",
        "    \r\n",
        "    if max_combinations:\r\n",
        "        indices = get_random_combinations(n1, len(sample2), max_combinations)\r\n",
        "    else:\r\n",
        "        indices = [(list(index), filter(lambda i: i not in index, range(n))) \\\r\n",
        "                    for index in itertools.combinations(range(n), n1)]\r\n",
        "    \r\n",
        "    distr = [joined_sample[list(i[0])].mean() - joined_sample[list(i[1])].mean() \\\r\n",
        "             for i in indices]\r\n",
        "    return distr\r\n",
        "\r\n",
        "def permutation_test(sample, mean, max_permutations = None, alternative = 'two-sided'):\r\n",
        "    if alternative not in ('two-sided', 'less', 'greater'):\r\n",
        "        raise ValueError(\"alternative not recognized\\n\"\r\n",
        "                         \"should be 'two-sided', 'less' or 'greater'\")\r\n",
        "    \r\n",
        "    t_stat = permutation_t_stat_ind(sample, mean)\r\n",
        "    \r\n",
        "    zero_distr = permutation_zero_dist_ind(sample, mean, max_permutations)\r\n",
        "    \r\n",
        "    if alternative == 'two-sided':\r\n",
        "        return sum([1. if abs(x) >= abs(t_stat) else 0. for x in zero_distr]) / len(zero_distr)\r\n",
        "    \r\n",
        "    if alternative == 'less':\r\n",
        "        return sum([1. if x <= t_stat else 0. for x in zero_distr]) / len(zero_distr)\r\n",
        "\r\n",
        "    if alternative == 'greater':\r\n",
        "        return sum([1. if x >= t_stat else 0. for x in zero_distr]) / len(zero_distr)"
      ],
      "execution_count": 10,
      "outputs": []
    },
    {
      "cell_type": "code",
      "metadata": {
        "colab": {
          "base_uri": "https://localhost:8080/",
          "height": 265
        },
        "id": "dZfJJDQhCASO",
        "outputId": "594d676b-e8a0-4578-b10b-7b3258f6b3da"
      },
      "source": [
        "pylab.hist(permutation_zero_dist_ind(group_default_0.values, group_default_1.values, max_combinations = 1000))\r\n",
        "pylab.show()"
      ],
      "execution_count": 11,
      "outputs": [
        {
          "output_type": "display_data",
          "data": {
            "image/png": "[encoded data removed]",
            "text/plain": [
              "<Figure size 432x288 with 1 Axes>"
            ]
          },
          "metadata": {
            "tags": [],
            "needs_background": "light"
          }
        }
      ]
    },
    {
      "cell_type": "code",
      "metadata": {
        "colab": {
          "base_uri": "https://localhost:8080/"
        },
        "id": "hKR2WxmeDG_H",
        "outputId": "063640d3-7cdd-4a1a-d2f0-1fbb61a46d89"
      },
      "source": [
        "print(\"p-value: %f\" % permutation_test(group_default_0, group_default_1, max_permutations = 10000))"
      ],
      "execution_count": 12,
      "outputs": [
        {
          "output_type": "stream",
          "text": [
            "p-value: 0.000100\n"
          ],
          "name": "stdout"
        }
      ]
    },
    {
      "cell_type": "markdown",
      "metadata": {
        "id": "ig_aPmvdGgwt"
      },
      "source": [
        "p_value < 0.05. Следовательно, нулевую гипотезу на уровне значимости 0.05 мы отвергаем"
      ]
    },
    {
      "cell_type": "markdown",
      "metadata": {
        "id": "tEaKJgRN9dJM"
      },
      "source": [
        "2. Пол (SEX): Проверьте гипотезу о том,  что гендерный состав  группы людей вернувших и не вернувших кредит отличается.  Хорошо, если вы предоставите несколько различных решений  этой задачи (с помощью доверительного интервала и подходящего статистического критерия)"
      ]
    },
    {
      "cell_type": "code",
      "metadata": {
        "id": "K6xOkCOrK1dn"
      },
      "source": [
        "group_default_0 = data[data['default']==0]['SEX'].apply(lambda x: 0 if x==1 else 1)\r\n",
        "group_default_1 = data[data['default']==1]['SEX'].apply(lambda x: 0 if x==1 else 1)"
      ],
      "execution_count": 15,
      "outputs": []
    },
    {
      "cell_type": "code",
      "metadata": {
        "colab": {
          "base_uri": "https://localhost:8080/",
          "height": 280
        },
        "id": "CdWQOaonLj8t",
        "outputId": "20b563dd-f3b8-4bd1-843d-62a2784d7498"
      },
      "source": [
        "group_default_0.value_counts().plot(kind='bar')"
      ],
      "execution_count": 21,
      "outputs": [
        {
          "output_type": "execute_result",
          "data": {
            "text/plain": [
              "<matplotlib.axes._subplots.AxesSubplot at 0x7fc1712ebef0>"
            ]
          },
          "metadata": {
            "tags": []
          },
          "execution_count": 21
        },
        {
          "output_type": "display_data",
          "data": {
            "image/png": "[encoded data removed]",
            "text/plain": [
              "<Figure size 432x288 with 1 Axes>"
            ]
          },
          "metadata": {
            "tags": [],
            "needs_background": "light"
          }
        }
      ]
    },
    {
      "cell_type": "code",
      "metadata": {
        "colab": {
          "base_uri": "https://localhost:8080/",
          "height": 280
        },
        "id": "M91mwckuL6Vc",
        "outputId": "d1767c82-1fe9-40b9-8dc3-9222a1b9f981"
      },
      "source": [
        "group_default_1.value_counts().plot(kind='bar')"
      ],
      "execution_count": 22,
      "outputs": [
        {
          "output_type": "execute_result",
          "data": {
            "text/plain": [
              "<matplotlib.axes._subplots.AxesSubplot at 0x7fc1711a0cc0>"
            ]
          },
          "metadata": {
            "tags": []
          },
          "execution_count": 22
        },
        {
          "output_type": "display_data",
          "data": {
            "image/png": "[encoded data removed]",
            "text/plain": [
              "<Figure size 432x288 with 1 Axes>"
            ]
          },
          "metadata": {
            "tags": [],
            "needs_background": "light"
          }
        }
      ]
    },
    {
      "cell_type": "markdown",
      "metadata": {
        "id": "_Z0VUa77IvKn"
      },
      "source": [
        "Построим доверительные интервалы для долей мужчин и женщин в выборке тех, кто вернул кредит и тех, кто не вернули кредит"
      ]
    },
    {
      "cell_type": "code",
      "metadata": {
        "colab": {
          "base_uri": "https://localhost:8080/"
        },
        "id": "8VFbvmjPhqvC",
        "outputId": "eab76fad-2034-4c7c-eead-b4133c0a8e3f"
      },
      "source": [
        "proportion_confint(sum(group_default_0), len(group_default_0), method = 'wilson')"
      ],
      "execution_count": 38,
      "outputs": [
        {
          "output_type": "execute_result",
          "data": {
            "text/plain": [
              "(0.607889734030124, 0.6203726841910749)"
            ]
          },
          "metadata": {
            "tags": []
          },
          "execution_count": 38
        }
      ]
    },
    {
      "cell_type": "code",
      "metadata": {
        "colab": {
          "base_uri": "https://localhost:8080/"
        },
        "id": "DytC7fQqhxfd",
        "outputId": "57f0bb9e-5b26-412c-b6d3-dcb82600f20a"
      },
      "source": [
        "proportion_confint(sum(group_default_1), len(group_default_1), method = 'wilson')"
      ],
      "execution_count": 40,
      "outputs": [
        {
          "output_type": "execute_result",
          "data": {
            "text/plain": [
              "(0.5551017630282817, 0.578937581965066)"
            ]
          },
          "metadata": {
            "tags": []
          },
          "execution_count": 40
        }
      ]
    },
    {
      "cell_type": "markdown",
      "metadata": {
        "id": "atNNCRPMiIXf"
      },
      "source": [
        "Как видно из интервальных оценок, сами интервалы не пересекаются, следовательно гендерный состав различается."
      ]
    },
    {
      "cell_type": "markdown",
      "metadata": {
        "id": "EsFONfEYT0fM"
      },
      "source": [
        "Применим z-критерий о равенстве двух долей и построим доверительный интервал для разности долей:"
      ]
    },
    {
      "cell_type": "code",
      "metadata": {
        "id": "gtG1i1MtMLPn"
      },
      "source": [
        "def proportions_diff_confint_ind(sample1, sample2, alpha = 0.05):    \r\n",
        "    z = scipy.stats.norm.ppf(1 - alpha / 2.)\r\n",
        "    \r\n",
        "    p1 = float(sum(sample1)) / len(sample1)\r\n",
        "    p2 = float(sum(sample2)) / len(sample2)\r\n",
        "    \r\n",
        "    left_boundary = (p1 - p2) - z * np.sqrt(p1 * (1 - p1)/ len(sample1) + p2 * (1 - p2)/ len(sample2))\r\n",
        "    right_boundary = (p1 - p2) + z * np.sqrt(p1 * (1 - p1)/ len(sample1) + p2 * (1 - p2)/ len(sample2))\r\n",
        "    \r\n",
        "    return (left_boundary, right_boundary)\r\n",
        "\r\n",
        "def proportions_diff_z_stat_ind(sample1, sample2):\r\n",
        "    n1 = len(sample1)\r\n",
        "    n2 = len(sample2)\r\n",
        "    \r\n",
        "    p1 = float(sum(sample1)) / n1\r\n",
        "    p2 = float(sum(sample2)) / n2 \r\n",
        "    P = float(p1*n1 + p2*n2) / (n1 + n2)\r\n",
        "    \r\n",
        "    return (p1 - p2) / np.sqrt(P * (1 - P) * (1. / n1 + 1. / n2))\r\n",
        "\r\n",
        "def proportions_diff_z_test(z_stat, alternative = 'two-sided'):\r\n",
        "    if alternative not in ('two-sided', 'less', 'greater'):\r\n",
        "        raise ValueError(\"alternative not recognized\\n\"\r\n",
        "                         \"should be 'two-sided', 'less' or 'greater'\")\r\n",
        "    \r\n",
        "    if alternative == 'two-sided':\r\n",
        "        return 2 * (1 - scipy.stats.norm.cdf(np.abs(z_stat)))\r\n",
        "    \r\n",
        "    if alternative == 'less':\r\n",
        "        return scipy.stats.norm.cdf(z_stat)\r\n",
        "\r\n",
        "    if alternative == 'greater':\r\n",
        "        return 1 - scipy.stats.norm.cdf(z_stat)"
      ],
      "execution_count": 33,
      "outputs": []
    },
    {
      "cell_type": "code",
      "metadata": {
        "colab": {
          "base_uri": "https://localhost:8080/"
        },
        "id": "uEp4LiGafsDt",
        "outputId": "ed5c34ed-f38b-414f-94b1-855f378d4882"
      },
      "source": [
        "print(\"95%% confidence interval for a difference between proportions: [%f, %f]\" %\\\r\n",
        "      proportions_diff_confint_ind(group_default_0, group_default_1))"
      ],
      "execution_count": 34,
      "outputs": [
        {
          "output_type": "stream",
          "text": [
            "95% confidence interval for a difference between proportions: [0.033635, 0.060548]\n"
          ],
          "name": "stdout"
        }
      ]
    },
    {
      "cell_type": "code",
      "metadata": {
        "colab": {
          "base_uri": "https://localhost:8080/"
        },
        "id": "AXuOVtLtfXal",
        "outputId": "8eab41d0-3888-4613-bdc5-920cd930fdad"
      },
      "source": [
        "print(\"p-value: \", proportions_diff_z_test(proportions_diff_z_stat_ind(group_default_0, group_default_1)))"
      ],
      "execution_count": 35,
      "outputs": [
        {
          "output_type": "stream",
          "text": [
            "p-value:  4.472866521609831e-12\n"
          ],
          "name": "stdout"
        }
      ]
    },
    {
      "cell_type": "markdown",
      "metadata": {
        "id": "TkZYxxVOgDZw"
      },
      "source": [
        "Видим, что доверительный интервал не захватывает 0 и значение p_value< 0.05. Следовательно, гипотезу о равенстве долей можно отвергнуть"
      ]
    },
    {
      "cell_type": "markdown",
      "metadata": {
        "id": "IMm9Bn3oiVRc"
      },
      "source": [
        "3. Образование (EDUCATION): Проверьте гипотезу о том, что образование не влияет на то, вернет ли человек долг.  Предложите способ наглядного представления разницы в ожидаемых и наблюдаемых значениях количества человек вернувших и не вернувших долг. Например, составьте таблицу сопряженности \"образование\" на \"возврат долга\", где значением ячейки была бы  разность между наблюдаемым и ожидаемым количеством человек.  Как бы вы предложили модифицировать таблицу так, чтобы привести значения ячеек к одному масштабу не потеряв в интерпретируемости ?  Наличие какого образования является наилучшим индикатором того, что человек  отдаст долг ? наоборт, не отдаст долг ?"
      ]
    },
    {
      "cell_type": "code",
      "metadata": {
        "id": "iLVSwt-3gCaS"
      },
      "source": [
        "group_default_0 = data[data['default']==0].EDUCATION\r\n",
        "group_default_1 = data[data['default']==1].EDUCATION"
      ],
      "execution_count": 41,
      "outputs": []
    },
    {
      "cell_type": "code",
      "metadata": {
        "colab": {
          "base_uri": "https://localhost:8080/",
          "height": 283
        },
        "id": "KjyxcHl-fWzQ",
        "outputId": "f84fc5da-4b15-4f99-a0e7-f21b57dac76b"
      },
      "source": [
        "group_default_0.hist()\r\n",
        "group_default_1.hist()"
      ],
      "execution_count": 42,
      "outputs": [
        {
          "output_type": "execute_result",
          "data": {
            "text/plain": [
              "<matplotlib.axes._subplots.AxesSubplot at 0x7fc171100160>"
            ]
          },
          "metadata": {
            "tags": []
          },
          "execution_count": 42
        },
        {
          "output_type": "display_data",
          "data": {
            "image/png": "[encoded data removed]",
            "text/plain": [
              "<Figure size 432x288 with 1 Axes>"
            ]
          },
          "metadata": {
            "tags": [],
            "needs_background": "light"
          }
        }
      ]
    },
    {
      "cell_type": "markdown",
      "metadata": {
        "id": "EzpbkXZ9vokP"
      },
      "source": [
        "По гистограмме видно, что если мы выкинем 0,4,5,6, то не потеряем в интепретируемости"
      ]
    },
    {
      "cell_type": "code",
      "metadata": {
        "colab": {
          "base_uri": "https://localhost:8080/",
          "height": 445
        },
        "id": "hGIXxaybjpFq",
        "outputId": "3abed1d2-ad50-4ba7-82d4-a99a630496e8"
      },
      "source": [
        "\r\n",
        "education = data.EDUCATION\r\n",
        "education_prop = np.empty((len(np.unique(group_default_0)), 2))\r\n",
        "for i, val in enumerate(np.unique(education)):\r\n",
        "    education_prop[i, 0] = val\r\n",
        "    education_prop[i, 1] = group_default_0[group_default_0 == val].shape[0] / (group_default_0[group_default_0 == val].shape[0] + group_default_1[group_default_1 == val].shape[0])\r\n",
        "\r\n",
        "\r\n",
        "\r\n",
        "plt.figure(1, figsize=(10,7))\r\n",
        "plt.title('Распределение вероятности вернуть долг по уровням образования')\r\n",
        "plt.plot(education_prop[:,0], education_prop[:,1])\r\n",
        "plt.axis([0, 6, 0.5, 1])\r\n",
        "plt.show()"
      ],
      "execution_count": 81,
      "outputs": [
        {
          "output_type": "display_data",
          "data": {
            "image/png": "[encoded data removed]",
            "text/plain": [
              "<Figure size 720x504 with 1 Axes>"
            ]
          },
          "metadata": {
            "tags": [],
            "needs_background": "light"
          }
        }
      ]
    },
    {
      "cell_type": "markdown",
      "metadata": {
        "id": "av1X8VeAnLeK"
      },
      "source": [
        "Видим, что хуже всего долг возвращают бакалавры и выпускники школ. А вот доктора наук долг возвращают всегда"
      ]
    },
    {
      "cell_type": "markdown",
      "metadata": {
        "id": "QFESqTVDnwyB"
      },
      "source": [
        "Хотим проверить гипотезу о том, что столбцы EDUCATION и default независимы, для этого воспользуемся критерием хи-квадрат. Проверим значимость отличия от нуля коэффициента V Крамера"
      ]
    },
    {
      "cell_type": "markdown",
      "metadata": {
        "id": "wkdYA5DMt8yE"
      },
      "source": [
        "Составим таблицу сопряжённости \"образование\" на \"возврат долга\", где в ячейке будет стоять количество людей в данных категориях"
      ]
    },
    {
      "cell_type": "code",
      "metadata": {
        "colab": {
          "base_uri": "https://localhost:8080/"
        },
        "id": "7iYpHZQqslQ2",
        "outputId": "b244ba96-5a37-4778-ce5d-0f08cdb61527"
      },
      "source": [
        "edu_num_0 = np.array([group_default_0[group_default_0 == ed_val].shape[0] for ed_val in range(7)])\r\n",
        "edu_num_1 = np.array([group_default_1[group_default_1 == ed_val].shape[0] for ed_val in range(7)])\r\n",
        "edu_num = edu_num_0 + edu_num_1\r\n",
        "\r\n",
        "\r\n",
        "d = {'default_0':[],'default_1':[]}\r\n",
        "for i in range(7):\r\n",
        "    d['default_0'].append(edu_num_0[i])\r\n",
        "    d['default_1'].append(edu_num_1[i])\r\n",
        "    print('Edu lvl %d: %d / %d | %d' % (i, edu_num_0[i], edu_num_1[i], edu_num[i]))\r\n",
        "print('Legend: deafault = 0 / default = 1 | total')\r\n",
        "dataframe_contingency = pd.DataFrame(data = d)"
      ],
      "execution_count": 74,
      "outputs": [
        {
          "output_type": "stream",
          "text": [
            "Edu lvl 0: 14 / 0 | 14\n",
            "Edu lvl 1: 8549 / 2036 | 10585\n",
            "Edu lvl 2: 10700 / 3330 | 14030\n",
            "Edu lvl 3: 3680 / 1237 | 4917\n",
            "Edu lvl 4: 116 / 7 | 123\n",
            "Edu lvl 5: 262 / 18 | 280\n",
            "Edu lvl 6: 43 / 8 | 51\n",
            "Legend: deafault = 0 / default = 1 | total\n"
          ],
          "name": "stdout"
        }
      ]
    },
    {
      "cell_type": "markdown",
      "metadata": {
        "id": "EsC7R-lJoSMX"
      },
      "source": [
        "Составим таблицу сопряжённости \"образование\" на \"возврат долга\", где значением ячейки была бы разность между наблюдаемым и ожидаемым количеством человек."
      ]
    },
    {
      "cell_type": "code",
      "metadata": {
        "colab": {
          "base_uri": "https://localhost:8080/"
        },
        "id": "R3p29_Tvms2g",
        "outputId": "07d9c317-628a-4e03-ea9b-0eb3bc12d7e0"
      },
      "source": [
        "prop_mean = education_prop[:,1].mean()\r\n",
        "edu_num_0 = np.array([group_default_0[group_default_0 == ed_val].shape[0] for ed_val in range(7)])\r\n",
        "edu_num_1 = np.array([group_default_1[group_default_1 == ed_val].shape[0] for ed_val in range(7)])\r\n",
        "edu_num = edu_num_0 + edu_num_1\r\n",
        "exp_freq = np.array([prop_mean * edu_num[i] for i in range(7)])\r\n",
        "print('Legend: exp freq / obs freq = 1 | delta')\r\n",
        "for i in range(7):\r\n",
        "    print('Edu lvl %d: %d / %d | %d' % (i, exp_freq[i], edu_num_0[i], edu_num_0[i] - exp_freq[i]))\r\n",
        "\r\n"
      ],
      "execution_count": 75,
      "outputs": [
        {
          "output_type": "stream",
          "text": [
            "Legend: exp freq / obs freq = 1 | delta\n",
            "Edu lvl 0: 12 / 14 | 1\n",
            "Edu lvl 1: 9134 / 8549 | -585\n",
            "Edu lvl 2: 12107 / 10700 | -1407\n",
            "Edu lvl 3: 4243 / 3680 | -563\n",
            "Edu lvl 4: 106 / 116 | 9\n",
            "Edu lvl 5: 241 / 262 | 20\n",
            "Edu lvl 6: 44 / 43 | -1\n"
          ],
          "name": "stdout"
        }
      ]
    },
    {
      "cell_type": "code",
      "metadata": {
        "colab": {
          "base_uri": "https://localhost:8080/"
        },
        "id": "qck4yLC-oixz",
        "outputId": "d52e9d41-707f-435d-8ba4-6451516aa5d1"
      },
      "source": [
        "p_val = chi2_contingency(dataframe_contingency)[1]\r\n",
        "print('p_value =',p_val)"
      ],
      "execution_count": 83,
      "outputs": [
        {
          "output_type": "stream",
          "text": [
            "p_value = 1.2332626245415605e-32\n"
          ],
          "name": "stdout"
        }
      ]
    },
    {
      "cell_type": "markdown",
      "metadata": {
        "id": "qDR83IjOuL3j"
      },
      "source": [
        "Видим, что на уровне значимости 0.05 нулевая гипотеза о независимости выборок отвергается.      Результат имеет практическую значимость для выдачи кредита, доли возврата значимо отличаются для разных уровней образования."
      ]
    },
    {
      "cell_type": "markdown",
      "metadata": {
        "id": "MFw2Ph8YvFwo"
      },
      "source": [
        "4. Семейное положение (MARRIAGE): Проверьте, как связан семейный статус с индикатором дефолта: нужно предложить меру, по которой можно измерить возможную связь этих переменных и посчитать ее значение."
      ]
    },
    {
      "cell_type": "code",
      "metadata": {
        "id": "E-qMf739wUvH"
      },
      "source": [
        "group_default_0 = data[data['default']==0].MARRIAGE\r\n",
        "group_default_1 = data[data['default']==1].MARRIAGE"
      ],
      "execution_count": 88,
      "outputs": []
    },
    {
      "cell_type": "code",
      "metadata": {
        "colab": {
          "base_uri": "https://localhost:8080/",
          "height": 283
        },
        "id": "TIKCS2KiwWLk",
        "outputId": "4988362f-b9f1-4685-ddf8-a614f5c9c9b4"
      },
      "source": [
        "group_default_0.hist()\r\n",
        "group_default_1.hist()"
      ],
      "execution_count": 89,
      "outputs": [
        {
          "output_type": "execute_result",
          "data": {
            "text/plain": [
              "<matplotlib.axes._subplots.AxesSubplot at 0x7fc1708b96d8>"
            ]
          },
          "metadata": {
            "tags": []
          },
          "execution_count": 89
        },
        {
          "output_type": "display_data",
          "data": {
            "image/png": "[encoded data removed]",
            "text/plain": [
              "<Figure size 432x288 with 1 Axes>"
            ]
          },
          "metadata": {
            "tags": [],
            "needs_background": "light"
          }
        }
      ]
    },
    {
      "cell_type": "markdown",
      "metadata": {
        "id": "PPk_E8NDwATj"
      },
      "source": [
        "Посчитаем коэффициент V Крамера для семейного статуса и индикатора дефолта. Вытащим статистику из chi2_contingency и посчитаем по формуле. Перед этим собирем таблицу сопряженности:"
      ]
    },
    {
      "cell_type": "code",
      "metadata": {
        "colab": {
          "base_uri": "https://localhost:8080/",
          "height": 168
        },
        "id": "HVHA97ZPsK6k",
        "outputId": "ac9fca70-4c3d-4cff-f7d4-d9482e001241"
      },
      "source": [
        "mar = data.MARRIAGE\r\n",
        "conf_table = np.empty( (len(mar.value_counts()), 2) )\r\n",
        "for i in range(len(mar.value_counts())):\r\n",
        "    conf_table[i, 0] = len(group_default_0.loc[group_default_0 == i])\r\n",
        "    conf_table[i, 1] = len(group_default_1.loc[group_default_1 == i])\r\n",
        "pd.DataFrame(conf_table)"
      ],
      "execution_count": 97,
      "outputs": [
        {
          "output_type": "execute_result",
          "data": {
            "text/html": [
              "<div>\n",
              "<style scoped>\n",
              "    .dataframe tbody tr th:only-of-type {\n",
              "        vertical-align: middle;\n",
              "    }\n",
              "\n",
              "    .dataframe tbody tr th {\n",
              "        vertical-align: top;\n",
              "    }\n",
              "\n",
              "    .dataframe thead th {\n",
              "        text-align: right;\n",
              "    }\n",
              "</style>\n",
              "<table border=\"1\" class=\"dataframe\">\n",
              "  <thead>\n",
              "    <tr style=\"text-align: right;\">\n",
              "      <th></th>\n",
              "      <th>0</th>\n",
              "      <th>1</th>\n",
              "    </tr>\n",
              "  </thead>\n",
              "  <tbody>\n",
              "    <tr>\n",
              "      <th>0</th>\n",
              "      <td>49.0</td>\n",
              "      <td>5.0</td>\n",
              "    </tr>\n",
              "    <tr>\n",
              "      <th>1</th>\n",
              "      <td>10453.0</td>\n",
              "      <td>3206.0</td>\n",
              "    </tr>\n",
              "    <tr>\n",
              "      <th>2</th>\n",
              "      <td>12623.0</td>\n",
              "      <td>3341.0</td>\n",
              "    </tr>\n",
              "    <tr>\n",
              "      <th>3</th>\n",
              "      <td>239.0</td>\n",
              "      <td>84.0</td>\n",
              "    </tr>\n",
              "  </tbody>\n",
              "</table>\n",
              "</div>"
            ],
            "text/plain": [
              "         0       1\n",
              "0     49.0     5.0\n",
              "1  10453.0  3206.0\n",
              "2  12623.0  3341.0\n",
              "3    239.0    84.0"
            ]
          },
          "metadata": {
            "tags": []
          },
          "execution_count": 97
        }
      ]
    },
    {
      "cell_type": "code",
      "metadata": {
        "id": "Y0BDkLxfx2ZW"
      },
      "source": [
        "def cramers_stat(confusion_matrix):\r\n",
        "    chi2 = chi2_contingency(confusion_matrix)[0]\r\n",
        "    n = confusion_matrix.sum()\r\n",
        "    return np.sqrt(chi2 / (n*(min(confusion_matrix.shape)-1)))"
      ],
      "execution_count": 95,
      "outputs": []
    },
    {
      "cell_type": "code",
      "metadata": {
        "colab": {
          "base_uri": "https://localhost:8080/"
        },
        "id": "3-8qITHDxWnJ",
        "outputId": "8c1e65ec-22cf-4630-e33e-145dc2aa637a"
      },
      "source": [
        "print('V Cramer stat value: %.4f' % cramers_stat(conf_table))"
      ],
      "execution_count": 96,
      "outputs": [
        {
          "output_type": "stream",
          "text": [
            "V Cramer stat value: 0.0345\n"
          ],
          "name": "stdout"
        }
      ]
    },
    {
      "cell_type": "markdown",
      "metadata": {
        "id": "f1t3Y0D7yJ_m"
      },
      "source": [
        "Видим, что коэффициент V Крамера близок к нулю, когда взаимосвязь отсутствует"
      ]
    },
    {
      "cell_type": "markdown",
      "metadata": {
        "id": "Nq5JHefIykfs"
      },
      "source": [
        "5. Возраст (AGE): Относительно двух групп людей  вернувших и не вернувших кредит  проверьте следующие гипотезы:   a)  о равенстве медианных значений возрастов людей   b) о равенстве распределений  с помощью одного из подходящих непараметрических критериев проверки равенства средних.  Значимы ли полученные результаты с практической точки зрения ?"
      ]
    },
    {
      "cell_type": "code",
      "metadata": {
        "id": "qzRYswfFx_zm"
      },
      "source": [
        "group_default_0 = data[data['default']==0].AGE\r\n",
        "group_default_1 = data[data['default']==1].AGE"
      ],
      "execution_count": 98,
      "outputs": []
    },
    {
      "cell_type": "code",
      "metadata": {
        "colab": {
          "base_uri": "https://localhost:8080/",
          "height": 283
        },
        "id": "F8G1EPnxyvsG",
        "outputId": "6f2ad73b-fdf5-48c2-da90-8acbfeca2c7b"
      },
      "source": [
        "group_default_0.hist()\r\n",
        "group_default_1.hist()"
      ],
      "execution_count": 99,
      "outputs": [
        {
          "output_type": "execute_result",
          "data": {
            "text/plain": [
              "<matplotlib.axes._subplots.AxesSubplot at 0x7fc170738390>"
            ]
          },
          "metadata": {
            "tags": []
          },
          "execution_count": 99
        },
        {
          "output_type": "display_data",
          "data": {
            "image/png": "[encoded data removed]",
            "text/plain": [
              "<Figure size 432x288 with 1 Axes>"
            ]
          },
          "metadata": {
            "tags": [],
            "needs_background": "light"
          }
        }
      ]
    },
    {
      "cell_type": "markdown",
      "metadata": {
        "id": "5mWJU44_zTfV"
      },
      "source": [
        "Построим 95% доверительный интвервал, сначала получим бутстрэпом наши выборки."
      ]
    },
    {
      "cell_type": "code",
      "metadata": {
        "id": "lO-o4SD1y1LO"
      },
      "source": [
        "default0_median_scores = map(np.median, get_bootstrap_samples(group_default_0.values, 10000))\r\n",
        "default1_median_scores = map(np.median, get_bootstrap_samples(group_default_1.values, 10000))"
      ],
      "execution_count": 113,
      "outputs": []
    },
    {
      "cell_type": "code",
      "metadata": {
        "id": "QX-_WFKJzCy9"
      },
      "source": [
        "delta_median_scores = map(lambda x: x[1] - x[0], zip(default0_median_scores, default1_median_scores))"
      ],
      "execution_count": 114,
      "outputs": []
    },
    {
      "cell_type": "code",
      "metadata": {
        "colab": {
          "base_uri": "https://localhost:8080/"
        },
        "id": "5pu4c109zGht",
        "outputId": "e9ab40a0-1c66-4842-ef47-979da7a2461c"
      },
      "source": [
        "print(\"95% confidence interval for the difference between medians\",  stat_intervals(list(delta_median_scores), 0.05))"
      ],
      "execution_count": 115,
      "outputs": [
        {
          "output_type": "stream",
          "text": [
            "95% confidence interval for the difference between medians [0. 1.]\n"
          ],
          "name": "stdout"
        }
      ]
    },
    {
      "cell_type": "markdown",
      "metadata": {
        "id": "SN4oXkz_zkJF"
      },
      "source": [
        "Так как доверительный интервал содержит 0, то медианы не различаются"
      ]
    },
    {
      "cell_type": "code",
      "metadata": {
        "colab": {
          "base_uri": "https://localhost:8080/"
        },
        "id": "sAHpF56dzLv9",
        "outputId": "227afb42-eb09-4678-a43e-b5be9da68d6b"
      },
      "source": [
        "print(\"p-value: %f\" % permutation_test(group_default_1, group_default_0, max_permutations = 10000))"
      ],
      "execution_count": 116,
      "outputs": [
        {
          "output_type": "stream",
          "text": [
            "p-value: 0.015600\n"
          ],
          "name": "stdout"
        }
      ]
    },
    {
      "cell_type": "markdown",
      "metadata": {
        "id": "U0hA82Ih0U7N"
      },
      "source": [
        "p_val<0.05 и гипотезу о равенстве распределений мы отвергаем"
      ]
    },
    {
      "cell_type": "markdown",
      "metadata": {
        "id": "akVerDpO0kFd"
      },
      "source": [
        "Результат является практически значимым, потому что разница в распределениях видна невооружённым взглядом и эти данные могут учитываться при выдаче кредита"
      ]
    },
    {
      "cell_type": "code",
      "metadata": {
        "id": "c5FCuvmz0F_I"
      },
      "source": [
        ""
      ],
      "execution_count": null,
      "outputs": []
    }
  ]
}
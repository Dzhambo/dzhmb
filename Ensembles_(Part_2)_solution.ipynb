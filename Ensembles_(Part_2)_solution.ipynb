{
  "nbformat": 4,
  "nbformat_minor": 0,
  "metadata": {
    "kernelspec": {
      "display_name": "Python 3",
      "language": "python",
      "name": "python3"
    },
    "language_info": {
      "codemirror_mode": {
        "name": "ipython",
        "version": 3
      },
      "file_extension": ".py",
      "mimetype": "text/x-python",
      "name": "python",
      "nbconvert_exporter": "python",
      "pygments_lexer": "ipython3",
      "version": "3.7.6"
    },
    "colab": {
      "name": "Ensembles (Part 2)_solution.ipynb",
      "provenance": [],
      "toc_visible": true
    }
  },
  "cells": [
    {
      "cell_type": "markdown",
      "metadata": {
        "id": "6IANXgv7SR3V"
      },
      "source": [
        "# II. Ensembles\n",
        "\n",
        "В задачах нужно корректно реализовать функции, чтобы проходили тесты. "
      ]
    },
    {
      "cell_type": "markdown",
      "metadata": {
        "id": "fuBPsWwRux4B"
      },
      "source": [
        ""
      ]
    },
    {
      "cell_type": "markdown",
      "metadata": {
        "id": "Jvls9GQxWK5O"
      },
      "source": [
        "## 1. Bootstrap."
      ]
    },
    {
      "cell_type": "markdown",
      "metadata": {
        "id": "9POKe84XWK6A"
      },
      "source": [
        "### Алгоритм Bootstrap \n",
        "* Равномерно возьмем из выборки $N$ объектов **с возвращением**. То есть мы хотим сгенерировать псевдовыборку, в которой могут повторятся элементы из исходной выборки. \n",
        "\n",
        "* Обозначим новую выборку через $X_1$. Повторяя процедуру $B$ раз, сгенерируем $M$ подвыборок $X_1, \\dots, X_B$. \n",
        "\n",
        "* Посчитаем статистику T от каждой выборки $(T(X_1), \\ldots, T(X_n))$\n",
        "\n",
        "* Найдем итоговую статистику $T(X) = \\frac{1}{B}\\sum^{B}_{i}T(X_i)$\n",
        "\n",
        "На вход массив чисел $X$ и число бутстрепных выборок $B$. Необходимо реализовать свой бутстреп и найти матожидание и стандартную ошибку у бутстрепных выборок.\n"
      ]
    },
    {
      "cell_type": "markdown",
      "metadata": {
        "id": "oNTDVikgWK6F"
      },
      "source": [
        "### TASK"
      ]
    },
    {
      "cell_type": "code",
      "metadata": {
        "id": "_awC3d6CWK6I"
      },
      "source": [
        "import numpy as np\n",
        "import random\n",
        "from scipy.stats import sem # ищет SE среднего\n",
        "def random_shuffle(X,N):\n",
        "    S = []\n",
        "    for i in range(N):\n",
        "        j = random.randint(0,len(X)-1)\n",
        "        S.append(X[j])\n",
        "    return S\n",
        "        \n",
        "def get_stats(X: np.array, B:int)->tuple:\n",
        "    SE = 0\n",
        "    mean = 0\n",
        "    for i in range(B):\n",
        "        X_new = random_shuffle(X,len(X))\n",
        "        SE+=sem(X_new)\n",
        "        mean+= np.array(X_new).mean()\n",
        "    mean = mean/B\n",
        "    SE = SE/B\n",
        "    return mean, SE"
      ],
      "execution_count": 1,
      "outputs": []
    },
    {
      "cell_type": "markdown",
      "metadata": {
        "id": "vgoZMyHBSR3q"
      },
      "source": [
        "### Open tests"
      ]
    },
    {
      "cell_type": "code",
      "metadata": {
        "id": "fYy1X3SVSR3s"
      },
      "source": [
        "######################################################\n",
        "X = np.array([37,43,38,36,17,40,40,45,41,84])\n",
        "B = 100000\n",
        "\n",
        "mean, se = get_stats(X, B)\n",
        "\n",
        "assert np.abs(mean - 42.1) < 0.05\n",
        "assert np.abs(se - 4.56) < 0.03\n",
        "######################################################"
      ],
      "execution_count": 2,
      "outputs": []
    },
    {
      "cell_type": "markdown",
      "metadata": {
        "id": "AAByFqWRSR33"
      },
      "source": [
        "# 2. Bagging"
      ]
    },
    {
      "cell_type": "markdown",
      "metadata": {
        "id": "R3vxqSbXSR35"
      },
      "source": [
        "Необходимо реализовать свой небольшой беггинг на деревьях заданной грубины\n",
        "\n",
        "* бустингом сделать несколько выборок $X_1, \\ldots, X_B$\n",
        "* обучить на этих выборках алгоритмы: $a_1(\\cdot), \\ldots, a_B(\\cdot)$\n",
        "\n",
        "Получить результат беггинга как:\n",
        "$$a(x) = \\frac{1}{B}\\sum_{b=1}^{B}a_b(x)$$\n"
      ]
    },
    {
      "cell_type": "markdown",
      "metadata": {
        "id": "p6Sb4tVnSR37"
      },
      "source": [
        "# TASK"
      ]
    },
    {
      "cell_type": "code",
      "metadata": {
        "id": "_U2gZQrdSR3-"
      },
      "source": [
        "import numpy as np\n",
        "import sklearn\n",
        "from sklearn.tree import DecisionTreeRegressor as DTR\n",
        "np.random.seed(42)\n",
        "def bagging(X_train, y_train, X_test, boot_count, depth):\n",
        "    estimators = np.array([DTR(max_depth=depth) for _ in range(boot_count)])\n",
        "    y_pred_array = np.array([0.]*len(X_test))\n",
        "    for estimator in estimators:\n",
        "        indices = np.random.randint(0,len(X_train)-1,size = boot_count)\n",
        "        estimator.fit(X_train[indices], y_train[indices])\n",
        "        y_pred_array = np.column_stack([y_pred_array, estimator.predict(X_test)])\n",
        "    y_pred = np.mean(y_pred_array[:,1:], axis = 1) \n",
        "\n",
        "    return y_pred"
      ],
      "execution_count": 3,
      "outputs": []
    },
    {
      "cell_type": "code",
      "metadata": {
        "id": "BYRLnvk8SR4F",
        "outputId": "d7c283f2-b930-408a-be4b-05b354bb9482",
        "colab": {
          "base_uri": "https://localhost:8080/"
        }
      },
      "source": [
        "import numpy as np\n",
        "from numpy.testing import assert_array_equal, assert_array_almost_equal, assert_equal, assert_almost_equal\n",
        "from sklearn.metrics import mean_squared_error\n",
        "from sklearn.model_selection import train_test_split\n",
        "from sklearn.ensemble import RandomForestRegressor\n",
        "\n",
        "######################################################\n",
        "\n",
        "X_train = np.array([[0, 0], [1, 1], [5, 5], [8, 8], [10, 10]])\n",
        "y_train = np.array([0, 1, 5, 8, 10])\n",
        "X_test  = np.array([[4, 4], [6, 6]])\n",
        "y_test  = np.array([4, 6])\n",
        "\n",
        "B = 1000\n",
        "\n",
        "y_pred = bagging(X_train, y_train, X_test, boot_count=B, depth=3)\n",
        "\n",
        "assert_array_almost_equal(y_pred, np.array([4, 6]), decimal=0)\n",
        "\n",
        "######################################################\n",
        "\n",
        "from sklearn.datasets import load_boston\n",
        "X, y = load_boston(return_X_y=True)\n",
        "\n",
        "X_train, X_test, y_train, y_test = train_test_split(X, y,\n",
        "                                                    test_size=0.3,\n",
        "                                                    random_state=124,\n",
        "                                                    shuffle=True)\n",
        "\n",
        "\n",
        "y_pred = bagging(X_train, y_train, X_test, boot_count=200, depth=10)\n",
        "\n",
        "y_dt_pred = DTR().fit(X_train, y_train).predict(X_test)\n",
        "y = RandomForestRegressor().fit(X_train, y_train).predict(X_test)\n",
        "\n",
        "print(mean_squared_error(y, y_test))\n",
        "print(mean_squared_error(y_dt_pred, y_test))\n",
        "print(mean_squared_error(y_pred, y_test))\n",
        "assert mean_squared_error(y_pred, y_test) < 15"
      ],
      "execution_count": 25,
      "outputs": [
        {
          "output_type": "stream",
          "text": [
            "12.22846135526315\n",
            "30.094078947368416\n",
            "13.494927418069569\n"
          ],
          "name": "stdout"
        }
      ]
    },
    {
      "cell_type": "markdown",
      "metadata": {
        "id": "qzj9JCmgSR4Q"
      },
      "source": [
        "## 3. X-regression"
      ]
    },
    {
      "cell_type": "markdown",
      "metadata": {
        "id": "M7n9RwipSR4S"
      },
      "source": [
        "Необходимо найти наилучшие параметры для XGBRegression, обучить модель и вернуть ее. Данные берутся из папки data.\n",
        "\n",
        "Сам гридсерч или нативное исследование необходимо делать вне функции обработки, чтобы не получить TL."
      ]
    },
    {
      "cell_type": "markdown",
      "metadata": {
        "id": "_SxtruwySR4U"
      },
      "source": [
        "### TASK"
      ]
    },
    {
      "cell_type": "code",
      "metadata": {
        "id": "uF1PwA2HSR4V"
      },
      "source": [
        "import xgboost as xgb\n",
        "from xgboost.sklearn import XGBRegressor\n",
        "from sklearn.model_selection import GridSearchCV\n",
        "def xreg(X_train: np.array, y_train:np.array) -> XGBRegressor:\n",
        "    parameters = {\n",
        "              'learning_rate': [0.05,0.1],\n",
        "              'max_depth': range(1,5),\n",
        "              'min_child_weight': range(3,5),\n",
        "              'silent': [1],\n",
        "              'subsample': [0.8],\n",
        "              'colsample_bytree': [0.7],\n",
        "              'n_estimators': [10], \n",
        "              'missing':[-999],\n",
        "              'seed': [1337]} \n",
        "    x_regr = GridSearchCV(XGBRegressor(),parameters,cv = 5)\n",
        "    x_regr.fit(X_train,y_train)\n",
        "    model = x_regr.best_estimator_\n",
        "    return model"
      ],
      "execution_count": 26,
      "outputs": []
    },
    {
      "cell_type": "markdown",
      "metadata": {
        "id": "0eCbSG1PSR4j"
      },
      "source": [
        "### OPEN TESTS"
      ]
    },
    {
      "cell_type": "code",
      "metadata": {
        "id": "fE-kknb0SR4l",
        "outputId": "1d8c6193-e8ac-4275-b6b0-07d07562239e",
        "colab": {
          "base_uri": "https://localhost:8080/"
        }
      },
      "source": [
        "import pandas as pd\n",
        "import time\n",
        "df = pd.read_csv('data/Financial Distress.csv')\n",
        "\n",
        "X = df.drop('Financial Distress', axis=1)\n",
        "y = df['Financial Distress']\n",
        "\n",
        "X_train, X_test, y_train, y_test = train_test_split(X, y, test_size=0.3, random_state=17)\n",
        "t1 = time.time()\n",
        "xgb_model = xreg(X_train, y_train)\n",
        "t2 = time.time()\n",
        "\n",
        "assert t2 - t1 < 10\n",
        "\n",
        "y_pred = xgb_model.predict(X_test)\n",
        "\n",
        "assert type(xgb_model) == xgb.sklearn.XGBRegressor\n",
        "assert mean_squared_error(y_pred, y_test) < 3\n",
        "print('Well Done')"
      ],
      "execution_count": 27,
      "outputs": [
        {
          "output_type": "stream",
          "text": [
            "Well Done\n"
          ],
          "name": "stdout"
        }
      ]
    },
    {
      "cell_type": "markdown",
      "metadata": {
        "id": "4DoiDQjgSR40"
      },
      "source": [
        "## 4. CatFeatures"
      ]
    },
    {
      "cell_type": "markdown",
      "metadata": {
        "id": "fXgGHqwKSR42"
      },
      "source": [
        "Обучите модель классификации катбуста на предложенных данных и верните обученную модель. \n",
        "\n",
        "Воспользуйтесь встроенной обработкой категориальных признаков. Не забудьте обработать Nan значения."
      ]
    },
    {
      "cell_type": "code",
      "metadata": {
        "id": "KcQGdUifwCs6",
        "outputId": "2659ff6c-9274-45bf-c262-375ac9af40a7",
        "colab": {
          "base_uri": "https://localhost:8080/"
        }
      },
      "source": [
        "!pip install catboost"
      ],
      "execution_count": 28,
      "outputs": [
        {
          "output_type": "stream",
          "text": [
            "Collecting catboost\n",
            "\u001b[?25l  Downloading https://files.pythonhosted.org/packages/52/39/128fff65072c8327371e3c594f3c826d29c85b21cb6485980353b168e0e4/catboost-0.24.2-cp36-none-manylinux1_x86_64.whl (66.1MB)\n",
            "\u001b[K     |████████████████████████████████| 66.2MB 63kB/s \n",
            "\u001b[?25hRequirement already satisfied: graphviz in /usr/local/lib/python3.6/dist-packages (from catboost) (0.10.1)\n",
            "Requirement already satisfied: scipy in /usr/local/lib/python3.6/dist-packages (from catboost) (1.4.1)\n",
            "Requirement already satisfied: plotly in /usr/local/lib/python3.6/dist-packages (from catboost) (4.4.1)\n",
            "Requirement already satisfied: numpy>=1.16.0 in /usr/local/lib/python3.6/dist-packages (from catboost) (1.18.5)\n",
            "Requirement already satisfied: pandas>=0.24.0 in /usr/local/lib/python3.6/dist-packages (from catboost) (1.1.3)\n",
            "Requirement already satisfied: matplotlib in /usr/local/lib/python3.6/dist-packages (from catboost) (3.2.2)\n",
            "Requirement already satisfied: six in /usr/local/lib/python3.6/dist-packages (from catboost) (1.15.0)\n",
            "Requirement already satisfied: retrying>=1.3.3 in /usr/local/lib/python3.6/dist-packages (from plotly->catboost) (1.3.3)\n",
            "Requirement already satisfied: pytz>=2017.2 in /usr/local/lib/python3.6/dist-packages (from pandas>=0.24.0->catboost) (2018.9)\n",
            "Requirement already satisfied: python-dateutil>=2.7.3 in /usr/local/lib/python3.6/dist-packages (from pandas>=0.24.0->catboost) (2.8.1)\n",
            "Requirement already satisfied: cycler>=0.10 in /usr/local/lib/python3.6/dist-packages (from matplotlib->catboost) (0.10.0)\n",
            "Requirement already satisfied: pyparsing!=2.0.4,!=2.1.2,!=2.1.6,>=2.0.1 in /usr/local/lib/python3.6/dist-packages (from matplotlib->catboost) (2.4.7)\n",
            "Requirement already satisfied: kiwisolver>=1.0.1 in /usr/local/lib/python3.6/dist-packages (from matplotlib->catboost) (1.2.0)\n",
            "Installing collected packages: catboost\n",
            "Successfully installed catboost-0.24.2\n"
          ],
          "name": "stdout"
        }
      ]
    },
    {
      "cell_type": "markdown",
      "metadata": {
        "id": "GfJEyliZSR43"
      },
      "source": [
        "### TASK"
      ]
    },
    {
      "cell_type": "code",
      "metadata": {
        "id": "22e2WU0VSR46"
      },
      "source": [
        "import catboost\n",
        "def catfeatures(df: pd.DataFrame):\n",
        "    df['dep_delayed_15min'] = df['dep_delayed_15min'].apply(lambda x: 1 if x=='Y' else 0)\n",
        "    y_train = df['dep_delayed_15min']\n",
        "    X_train = df.drop(['dep_delayed_15min','DepTime'], axis = 1)\n",
        "    params = {'cat_features' : ['Month','DayofMonth','DayOfWeek','UniqueCarrier','Origin','Dest'],\n",
        "    \"iterations\": 250, \n",
        "    \"learning_rate\": 0.1, \n",
        "    \"depth\": 10, \n",
        "    \"min_data_in_leaf\": 10,\n",
        "    \"silent\" : True\n",
        "}\n",
        "    model  = catboost.CatBoostClassifier(**params)\n",
        "    model.fit(X_train,y_train)\n",
        "    return model"
      ],
      "execution_count": 29,
      "outputs": []
    },
    {
      "cell_type": "markdown",
      "metadata": {
        "id": "v4hLwAh7SR5K"
      },
      "source": [
        "### TESTS"
      ]
    },
    {
      "cell_type": "code",
      "metadata": {
        "id": "BuZx-pb4SR5L",
        "outputId": "a84018ce-514c-4bca-a6e3-692d7f1c4c32",
        "colab": {
          "base_uri": "https://localhost:8080/"
        }
      },
      "source": [
        "from sklearn.metrics import accuracy_score\n",
        "df = pd.read_csv('data/flight_delays_train.csv')\n",
        "df_train = df[:7000]\n",
        "\n",
        "t1 = time.time()\n",
        "model = catfeatures(df_train)\n",
        "t2 = time.time()\n",
        "\n",
        "assert t2 - t1 < 10\n",
        "assert type(model) == catboost.CatBoostClassifier\n",
        "\n",
        "df_test = pd.read_csv('data/flight_catfeature_test.csv')\n",
        "df_test['dep_delayed_15min'] = df_test['dep_delayed_15min'].apply(lambda x: 1 if x=='Y' else 0)\n",
        "df_test = df_test.drop('Unnamed: 0', axis=1)\n",
        "X_test = df_test.drop(['dep_delayed_15min','DepTime'],axis=1)\n",
        "y_test = df_test['dep_delayed_15min']\n",
        "\n",
        "y_pred = model.predict(X_test)\n",
        "\n",
        "assert accuracy_score(y_test, y_pred) > 0.80 \n",
        "print('Well Done')\n"
      ],
      "execution_count": 30,
      "outputs": [
        {
          "output_type": "stream",
          "text": [
            "/usr/local/lib/python3.6/dist-packages/ipykernel_launcher.py:3: SettingWithCopyWarning: \n",
            "A value is trying to be set on a copy of a slice from a DataFrame.\n",
            "Try using .loc[row_indexer,col_indexer] = value instead\n",
            "\n",
            "See the caveats in the documentation: https://pandas.pydata.org/pandas-docs/stable/user_guide/indexing.html#returning-a-view-versus-a-copy\n",
            "  This is separate from the ipykernel package so we can avoid doing imports until\n"
          ],
          "name": "stderr"
        },
        {
          "output_type": "stream",
          "text": [
            "Well Done\n"
          ],
          "name": "stdout"
        }
      ]
    },
    {
      "cell_type": "markdown",
      "metadata": {
        "id": "7YrZfaYNSR5Z"
      },
      "source": [
        "## 5. Производные для регрессии"
      ]
    },
    {
      "cell_type": "markdown",
      "metadata": {
        "id": "4NfAhrHhSR5b"
      },
      "source": [
        "Пусть мы хотим бустить регрессию со стандартной функцией потерь $MSE$:\n",
        "\n",
        "$$\\mathcal{L}(a, x,y) = (a(x_i) - y_i)^2$$\n",
        "\n",
        "Необходимо найти через взятие производных:\n",
        "\n",
        "1. Константный вектор $[f_0]_{i=1}^{N}$\n",
        "$$f_0(x) = \\arg\\min_{ c\\in \\mathbb{R}} \\sum_{i=1}^n \\mathcal{L}(c, y_i)$$ \n",
        "\n",
        "2. Градиенты функции потерь\n",
        "$$g_{i}^{t} = -\\Big[\\frac{\\partial \\mathcal{L}(f_t, x_i, y_i)}{\\partial f_t(x_i)}\\Big]_{i=1}^N$$\n",
        "\n",
        "3. Коэффициенты при композиции \n",
        "$$\\alpha_{t + 1} = \\arg\\min_\\alpha \\sum_{i=1}^N \\mathcal{L}(f_{t}(x_i) + \\alpha b_{t+1}(x_i), y_i)$$"
      ]
    },
    {
      "cell_type": "markdown",
      "metadata": {
        "id": "9A05TeG_SR5c"
      },
      "source": [
        "### TASK"
      ]
    },
    {
      "cell_type": "code",
      "metadata": {
        "id": "0ns7ahL7SR5g"
      },
      "source": [
        "def init(y_i: np.array) -> float:\n",
        "    f_0 = y_i.mean()\n",
        "    return f_0\n",
        "\n",
        "def grad(a: np.array, y: np.array) -> np.array:\n",
        "    g = -2*(a - y)\n",
        "    return g\n",
        "\n",
        "def alpha(f :np.array, b: np.array, y: np.array) -> float:\n",
        "    alpha = np.sum((y - f)*b)/np.sum(b**2)\n",
        "    return alpha"
      ],
      "execution_count": 37,
      "outputs": []
    },
    {
      "cell_type": "markdown",
      "metadata": {
        "id": "2BzQ-cbvSR5r"
      },
      "source": [
        "### TESTS"
      ]
    },
    {
      "cell_type": "code",
      "metadata": {
        "id": "eDrWj86ASR5t",
        "outputId": "ac11156e-f0c1-46f1-af53-462b5a2814af",
        "colab": {
          "base_uri": "https://localhost:8080/"
        }
      },
      "source": [
        "y = np.array([1, 2, 3])\n",
        "f = np.array([2, 2, 2])\n",
        "b = np.array([0, 2, 4])\n",
        "\n",
        "f_0 = init(y)\n",
        "g = grad(f,y)\n",
        "al = alpha(f,b,y)\n",
        "\n",
        "\n",
        "assert np.abs(f_0 - 2.0)   < 1e-9\n",
        "assert_array_almost_equal(g, np.array([-2, 0, 2]))\n",
        "assert np.abs(al - (0.2)) < 1e-9\n",
        "######################################################\n",
        "y = np.arange(20)\n",
        "f = np.ones(20) * 10\n",
        "b = np.arange(20) - 1\n",
        "\n",
        "f_0 = init(y)\n",
        "g = grad(f,y)\n",
        "al = alpha(f,b,y)\n",
        "\n",
        "\n",
        "assert np.abs(f_0 - 9.5)   < 1e-2\n",
        "assert_array_almost_equal(g, np.arange(-20,20, 2))\n",
        "assert np.abs(al - (0.2748)) < 1e-2\n",
        "print('Well Done!')"
      ],
      "execution_count": 40,
      "outputs": [
        {
          "output_type": "stream",
          "text": [
            "Well Done!\n"
          ],
          "name": "stdout"
        }
      ]
    },
    {
      "cell_type": "markdown",
      "metadata": {
        "id": "-pgzAS8rSR56"
      },
      "source": [
        "## 6. GradientBoosting"
      ]
    },
    {
      "cell_type": "markdown",
      "metadata": {
        "id": "qQiv1pkYSR57"
      },
      "source": [
        "Реализуйте градиентный бустинг на решающих деревьях для регрессии с логгированием.Верните модель, которая будет хранить в себе `n_estimatos` обученных деревьев и коэффициенты, чтобы с их помощью потом найти результат предсказания.\n",
        "\n",
        "Также необходимо реализовать логгирование в течение обучения.\n",
        "* `self.estimators` - лист c деревьями\n",
        "* `self.alpha` - лист с коэффициентами альфа\n",
        "* `self.f_list` - лист со значениями комбинаций алгоритма $f_T(x_i) = f_0(x_i) + \\sum_{t=1}^{T}\\alpha_tb_t(x_i)$\n",
        "* `self.g_list` - лист с векторами градиентов на каждой итерации $g_{i}^{t} = -\\Big[\\frac{\\partial \\mathcal{L}(f_t, x_i, y_i)}{\\partial f_t(x_i)}\\Big]_{i=1}^N$\n",
        "* `self.b_list` - лист со значениями базового обучаемого дерева на тренировачной выборке на каждой итерации \n",
        "\n",
        "Примечания:\n",
        "* Обрывать алгоритм не нужно, необходимо обучить все деревья.\n",
        "* Начальный константный вектор из $f_0$ логгировать не нужно, однако не забудьте его добавить в `predict` c нужным количеством объектов!"
      ]
    },
    {
      "cell_type": "markdown",
      "metadata": {
        "id": "4W-wrycGSR58"
      },
      "source": [
        "### TASK"
      ]
    },
    {
      "cell_type": "code",
      "metadata": {
        "id": "vdj5ryYCSR59"
      },
      "source": [
        "import numpy as np\n",
        "from sklearn.tree import DecisionTreeRegressor as DTR\n",
        "from sklearn.metrics import mean_squared_error\n",
        "\n",
        "class MyGradBoost():\n",
        "    def __init__(self, n_estimators=10, max_depth=3):\n",
        "        self.n_estimators = n_estimators\n",
        "        self.max_depth = max_depth\n",
        "        self.estimators_ = np.array([DTR(max_depth=self.max_depth) for _ in range(n_estimators)])\n",
        "        self.alpha = []\n",
        "        self.f_list = []\n",
        "        self.b_list = []\n",
        "        self.g_list = []\n",
        "        \n",
        "    def fit(self, X_train: np.array, y_train: np.array): \n",
        "        self.f_list.append(np.array([init(y_train)]*len(y_train)))\n",
        "        for t in range(self.n_estimators):\n",
        "            a = self.f_list[t].copy()\n",
        "             \n",
        "            g = grad(a,y_train)\n",
        "            self.g_list.append(g)\n",
        "\n",
        "            b_t = self.estimators_[t].fit(X_train,self.g_list[t])\n",
        "            b = np.array(b_t.predict(X_train))\n",
        "            self.b_list.append(b)\n",
        "            \n",
        "  \n",
        "            self.alpha.append(alpha(a,self.b_list[t],y_train))\n",
        "\n",
        "            a+= alpha(a,self.b_list[t],y_train)*b\n",
        "            self.f_list.append(a)\n",
        "        return self\n",
        "        \n",
        "    def predict(self, X_test) -> np.array:\n",
        "        y_pred = np.array([self.f_list[0][0]]*(X_test.shape[0]))\n",
        "\n",
        "        for i in range(self.n_estimators):\n",
        "           y_pred+= np.array(self.alpha[i])*np.array(self.estimators_[i].predict(X_test))\n",
        "        return y_pred\n",
        "    \n",
        "    def score(self, X_test, y_test)-> np.array:\n",
        "        return mean_squared_error(self.predict(X_test), y_test)"
      ],
      "execution_count": 41,
      "outputs": []
    },
    {
      "cell_type": "markdown",
      "metadata": {
        "id": "K79lWlKoSR6K"
      },
      "source": [
        "### TESTS"
      ]
    },
    {
      "cell_type": "code",
      "metadata": {
        "id": "cVJKO_WdSR6L",
        "outputId": "b02f78cc-2e34-48f8-cf0f-ee33264798e7",
        "colab": {
          "base_uri": "https://localhost:8080/"
        }
      },
      "source": [
        "n_estimators = 2\n",
        "max_depth = 3\n",
        "X_train = np.array([[0], [1], [2], [3], [4]])\n",
        "y_train = np.array([0, 2, 4, 2, 0])\n",
        "X_test  = np.array([[1.2], [2.3]])\n",
        "y_test  = np.array([2.2, 3.7])\n",
        "\n",
        "model = MyGradBoost(n_estimators=n_estimators, max_depth=max_depth).fit(X_train, y_train)\n",
        "\n",
        "assert model.score(X_test, y_test) < 0.2\n",
        "######################################################\n",
        "n_train, n_test, noise = 150, 1000, 0.1\n",
        "# Generate data\n",
        "def f(x):\n",
        "    x = x.ravel()\n",
        "    return np.exp(-x ** 2) + 1.5 * np.exp(-(x - 2) ** 2)\n",
        "\n",
        "def generate(n_samples, noise):\n",
        "    X = np.random.rand(n_samples) * 10 - 5\n",
        "    X = np.sort(X).ravel()\n",
        "    y = np.exp(-X ** 2) + 1.5 * np.exp(-(X - 2) ** 2)\\\n",
        "        + np.random.normal(0.0, noise, n_samples)\n",
        "    X = X.reshape((n_samples, 1))\n",
        "\n",
        "    return X, y\n",
        "\n",
        "X_train, y_train = generate(n_samples=n_train, noise=noise)\n",
        "X_test, y_test = generate(n_samples=n_test, noise=noise)\n",
        "\n",
        "\n",
        "model = MyGradBoost().fit(X_train, y_train)\n",
        "\n",
        "assert model.score(X_test, y_test) < 0.025\n",
        "\n",
        "\n",
        "model = MyGradBoost(n_estimators=100, \n",
        "                    max_depth=1).fit(X_train, y_train)\n",
        "\n",
        "assert model.score(X_test, y_test) < 0.017\n",
        "print('Well Done')"
      ],
      "execution_count": 43,
      "outputs": [
        {
          "output_type": "stream",
          "text": [
            "Well Done\n"
          ],
          "name": "stdout"
        }
      ]
    },
    {
      "cell_type": "markdown",
      "metadata": {
        "id": "fMruyjEJSR6X"
      },
      "source": [
        "# Самопроверка"
      ]
    },
    {
      "cell_type": "code",
      "metadata": {
        "id": "5a2xDG-SSR6Y",
        "outputId": "0b7fd3fc-afc2-4d83-eefa-99f42b090612",
        "colab": {
          "base_uri": "https://localhost:8080/",
          "height": 265
        }
      },
      "source": [
        "import matplotlib.pyplot as plt\n",
        "def predict_and_plot(model, X_test, y_test, title):\n",
        "    y_predict = model.predict(X_test)\n",
        "\n",
        "    plt.plot(X_test, f(X_test), \"b\")\n",
        "    plt.scatter(X_train, y_train, c=\"b\", s=20)\n",
        "    plt.plot(X_test, y_predict, \"g\", lw=2)\n",
        "    plt.xlim([-5, 5])\n",
        "    plt.title(\"{} Loss: {:2f}\".format(title, model.score(X_test, y_test)))\n",
        "    plt.grid()\n",
        "\n",
        "\n",
        "\n",
        "model = MyGradBoost(n_estimators=30, \n",
        "                    max_depth=1).fit(X_train, y_train)\n",
        "\n",
        "ind =  [1,3,5,10,15,30]\n",
        "\n",
        "# GradientBoostingRegressor\n",
        "plt.plot(X_test, f(X_test), \"b\")\n",
        "plt.scatter(X_train, y_train, c=\"b\", s=20)\n",
        "n_est = [1,3,5,10,15,30]\n",
        "f = np.array(model.f_list)\n",
        "for i, n in enumerate(n_est):\n",
        "    colors = ['g', 'r', 'c', 'm', 'y', 'k']\n",
        "    plt.plot(X_train, f[n-1], color=colors[i], label=\"tree count={}\".format(n))\n",
        "\n",
        "plt.xlim([-5, 5])   \n",
        "plt.legend()\n",
        "plt.grid()\n",
        "plt.show()"
      ],
      "execution_count": 44,
      "outputs": [
        {
          "output_type": "display_data",
          "data": {
            "image/png": "[encoded data removed]",
            "text/plain": [
              "<Figure size 432x288 with 1 Axes>"
            ]
          },
          "metadata": {
            "tags": [],
            "needs_background": "light"
          }
        }
      ]
    },
    {
      "cell_type": "code",
      "metadata": {
        "id": "yUR-p7I8f3HU"
      },
      "source": [
        ""
      ],
      "execution_count": null,
      "outputs": []
    }
  ]
}

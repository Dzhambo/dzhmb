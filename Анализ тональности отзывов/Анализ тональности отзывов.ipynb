{
  "nbformat": 4,
  "nbformat_minor": 0,
  "metadata": {
    "colab": {
      "name": "Анализ тональности отзывов.ipynb",
      "provenance": [],
      "collapsed_sections": [
        "NttDbexRQSTZ",
        "YE-p757YQV3g"
      ]
    },
    "kernelspec": {
      "display_name": "Python 3",
      "name": "python3"
    },
    "language_info": {
      "name": "python"
    }
  },
  "cells": [
    {
      "cell_type": "code",
      "metadata": {
        "colab": {
          "base_uri": "https://localhost:8080/"
        },
        "id": "kXR_TSF69At-",
        "outputId": "8048f913-a731-49c7-93de-a960ce07a11c"
      },
      "source": [
        "import nltk\n",
        "import warnings\n",
        "warnings.filterwarnings('ignore')\n",
        "nltk.download(\"movie_reviews\")\n",
        "from nltk.corpus import movie_reviews\n",
        "negids = movie_reviews.fileids('neg')\n",
        "posids = movie_reviews.fileids('pos')\n",
        "negfeats = [movie_reviews.words(fileids=[f]) for f in negids]\n",
        "posfeats = [movie_reviews.words(fileids=[f]) for f in posids]"
      ],
      "execution_count": null,
      "outputs": [
        {
          "name": "stdout",
          "output_type": "stream",
          "text": [
            "[nltk_data] Downloading package movie_reviews to /root/nltk_data...\n",
            "[nltk_data]   Package movie_reviews is already up-to-date!\n"
          ]
        }
      ]
    },
    {
      "cell_type": "markdown",
      "metadata": {
        "id": "NttDbexRQSTZ"
      },
      "source": [
        "# ***Неделя 1***"
      ]
    },
    {
      "cell_type": "markdown",
      "metadata": {
        "id": "_FDV5fFGAhSU"
      },
      "source": [
        "Создадим список всеъ отзывов и список классов:\n"
      ]
    },
    {
      "cell_type": "code",
      "metadata": {
        "id": "BTvY88M9AzXz"
      },
      "source": [
        "import pandas as pd\n",
        "import numpy as np"
      ],
      "execution_count": null,
      "outputs": []
    },
    {
      "cell_type": "code",
      "metadata": {
        "colab": {
          "base_uri": "https://localhost:8080/",
          "height": 204
        },
        "id": "MiMiliY_9U1-",
        "outputId": "b00ec045-cea5-42c9-838e-a8033f5e0b68"
      },
      "source": [
        "dict_feats = dict()\n",
        "dict_feats['feats'], dict_feats['type'] = [],[]\n",
        "\n",
        "\n",
        "for negfeat in negfeats:\n",
        "  dict_feats['feats'].append(negfeat)\n",
        "  dict_feats['type'].append(0)\n",
        "\n",
        "for posfeat in posfeats:\n",
        "  dict_feats['feats'].append(posfeat)\n",
        "  dict_feats['type'].append(1)\n",
        "\n",
        "Dataframe_feats = pd.DataFrame(data = dict_feats)\n",
        "Dataframe_feats['feats'] = Dataframe_feats['feats'].apply(lambda x: ' '.join(x))\n",
        "Dataframe_feats.head()"
      ],
      "execution_count": null,
      "outputs": [
        {
          "data": {
            "text/html": [
              "<div>\n",
              "<style scoped>\n",
              "    .dataframe tbody tr th:only-of-type {\n",
              "        vertical-align: middle;\n",
              "    }\n",
              "\n",
              "    .dataframe tbody tr th {\n",
              "        vertical-align: top;\n",
              "    }\n",
              "\n",
              "    .dataframe thead th {\n",
              "        text-align: right;\n",
              "    }\n",
              "</style>\n",
              "<table border=\"1\" class=\"dataframe\">\n",
              "  <thead>\n",
              "    <tr style=\"text-align: right;\">\n",
              "      <th></th>\n",
              "      <th>feats</th>\n",
              "      <th>type</th>\n",
              "    </tr>\n",
              "  </thead>\n",
              "  <tbody>\n",
              "    <tr>\n",
              "      <th>0</th>\n",
              "      <td>plot : two teen couples go to a church party ,...</td>\n",
              "      <td>0</td>\n",
              "    </tr>\n",
              "    <tr>\n",
              "      <th>1</th>\n",
              "      <td>the happy bastard ' s quick movie review damn ...</td>\n",
              "      <td>0</td>\n",
              "    </tr>\n",
              "    <tr>\n",
              "      <th>2</th>\n",
              "      <td>it is movies like these that make a jaded movi...</td>\n",
              "      <td>0</td>\n",
              "    </tr>\n",
              "    <tr>\n",
              "      <th>3</th>\n",
              "      <td>\" quest for camelot \" is warner bros . ' first...</td>\n",
              "      <td>0</td>\n",
              "    </tr>\n",
              "    <tr>\n",
              "      <th>4</th>\n",
              "      <td>synopsis : a mentally unstable man undergoing ...</td>\n",
              "      <td>0</td>\n",
              "    </tr>\n",
              "  </tbody>\n",
              "</table>\n",
              "</div>"
            ],
            "text/plain": [
              "                                               feats  type\n",
              "0  plot : two teen couples go to a church party ,...     0\n",
              "1  the happy bastard ' s quick movie review damn ...     0\n",
              "2  it is movies like these that make a jaded movi...     0\n",
              "3  \" quest for camelot \" is warner bros . ' first...     0\n",
              "4  synopsis : a mentally unstable man undergoing ...     0"
            ]
          },
          "execution_count": 80,
          "metadata": {},
          "output_type": "execute_result"
        }
      ]
    },
    {
      "cell_type": "code",
      "metadata": {
        "colab": {
          "base_uri": "https://localhost:8080/"
        },
        "id": "GUb_-R3GAe27",
        "outputId": "a306de5c-4298-4814-e294-53a6cd0b6af9"
      },
      "source": [
        "print('Количество отзывов в выборке = {}'.format(Dataframe_feats.shape[0]))"
      ],
      "execution_count": null,
      "outputs": [
        {
          "name": "stdout",
          "output_type": "stream",
          "text": [
            "Количество отзывов в выборке = 2000\n"
          ]
        }
      ]
    },
    {
      "cell_type": "code",
      "metadata": {
        "colab": {
          "base_uri": "https://localhost:8080/"
        },
        "id": "YxDUq4XLClQC",
        "outputId": "fe817acd-3749-4c3f-ad01-a023857aaed3"
      },
      "source": [
        "print('Доля класса 1 в выборке = {}'.format(Dataframe_feats['type'].sum()/Dataframe_feats.shape[0]))"
      ],
      "execution_count": null,
      "outputs": [
        {
          "name": "stdout",
          "output_type": "stream",
          "text": [
            "Доля класса 1 в выборке = 0.5\n"
          ]
        }
      ]
    },
    {
      "cell_type": "code",
      "metadata": {
        "colab": {
          "base_uri": "https://localhost:8080/"
        },
        "id": "K2YRxJjHC2Aq",
        "outputId": "dccf915a-bd9f-46bb-f259-30969b6b2fb8"
      },
      "source": [
        "from sklearn.feature_extraction.text import CountVectorizer\n",
        "vectorizer = CountVectorizer()\n",
        "X = vectorizer.fit_transform(Dataframe_feats['feats'])\n",
        "text = pd.DataFrame(X)\n",
        "print('Количество признаков = {}'.format(len((vectorizer.get_feature_names()))))"
      ],
      "execution_count": null,
      "outputs": [
        {
          "name": "stdout",
          "output_type": "stream",
          "text": [
            "Количество признаков = 39659\n"
          ]
        }
      ]
    },
    {
      "cell_type": "code",
      "metadata": {
        "colab": {
          "base_uri": "https://localhost:8080/"
        },
        "id": "BO61WOkDDcMl",
        "outputId": "676f857a-bcf2-4ae8-bc5e-7e40d7c67314"
      },
      "source": [
        "from sklearn.pipeline import Pipeline\n",
        "from sklearn.linear_model import LogisticRegression\n",
        "from sklearn.model_selection import cross_val_score\n",
        "pipe = Pipeline([('CountVectorizer', CountVectorizer()), ('LogisticRegression', LogisticRegression())])\n",
        "pipe.fit(Dataframe_feats['feats'], Dataframe_feats['type'])\n",
        "print('accuracy_men = {}'.format(cross_val_score(pipe, Dataframe_feats['feats'], Dataframe_feats['type'], cv=3).mean()))"
      ],
      "execution_count": null,
      "outputs": [
        {
          "name": "stdout",
          "output_type": "stream",
          "text": [
            "accuracy_men = 0.8370071720896308\n"
          ]
        }
      ]
    },
    {
      "cell_type": "code",
      "metadata": {
        "colab": {
          "base_uri": "https://localhost:8080/"
        },
        "id": "PYKtE6c8GSx5",
        "outputId": "262cab6a-ac20-45ec-fa52-8c1917aea50a"
      },
      "source": [
        "print('roc_auc_mean = {}'.format(cross_val_score(pipe, Dataframe_feats['feats'], Dataframe_feats['type'], cv=3 ,scoring='roc_auc').mean()))"
      ],
      "execution_count": null,
      "outputs": [
        {
          "name": "stdout",
          "output_type": "stream",
          "text": [
            "roc_auc_mean = 0.9109983551730688\n"
          ]
        }
      ]
    },
    {
      "cell_type": "code",
      "metadata": {
        "colab": {
          "base_uri": "https://localhost:8080/"
        },
        "id": "5ivMsmXDICYt",
        "outputId": "d75b7455-4fdc-43fd-eabd-b6c9fe9e4f0b"
      },
      "source": [
        "from matplotlib import pyplot\n",
        "\n",
        "logreg = LogisticRegression()\n",
        "logreg.fit(X,Dataframe_feats['type'])"
      ],
      "execution_count": null,
      "outputs": [
        {
          "data": {
            "text/plain": [
              "LogisticRegression(C=1.0, class_weight=None, dual=False, fit_intercept=True,\n",
              "                   intercept_scaling=1, l1_ratio=None, max_iter=100,\n",
              "                   multi_class='auto', n_jobs=None, penalty='l2',\n",
              "                   random_state=None, solver='lbfgs', tol=0.0001, verbose=0,\n",
              "                   warm_start=False)"
            ]
          },
          "execution_count": 88,
          "metadata": {},
          "output_type": "execute_result"
        }
      ]
    },
    {
      "cell_type": "markdown",
      "metadata": {
        "id": "QGYH54xRQQuM"
      },
      "source": [
        ""
      ]
    },
    {
      "cell_type": "code",
      "metadata": {
        "colab": {
          "base_uri": "https://localhost:8080/"
        },
        "id": "Ej8EBZ7gMDE6",
        "outputId": "20544500-fda7-455c-e692-eccfab663b15"
      },
      "source": [
        "ind1,ind2 = sorted([(ind,coef) for ind,coef in enumerate(logreg.coef_[0])], key = lambda x: abs(x[1]), reverse = True)[0:2]\n",
        "print('Самые важные признаки для модели  - это {} и {}'.format(vectorizer.get_feature_names()[ind1[0]], vectorizer.get_feature_names()[ind2[0]]))"
      ],
      "execution_count": null,
      "outputs": [
        {
          "name": "stdout",
          "output_type": "stream",
          "text": [
            "Самые важные признаки для модели  - это bad и unfortunately\n"
          ]
        }
      ]
    },
    {
      "cell_type": "markdown",
      "metadata": {
        "id": "YE-p757YQV3g"
      },
      "source": [
        "# ***Неделя 2***"
      ]
    },
    {
      "cell_type": "code",
      "metadata": {
        "colab": {
          "base_uri": "https://localhost:8080/"
        },
        "id": "JGQcb73HM-23",
        "outputId": "f53c2688-345b-42b0-85c6-52864979d937"
      },
      "source": [
        "from sklearn.feature_extraction.text import TfidfVectorizer\n",
        "pipe1 = Pipeline([('CountVectorizer', CountVectorizer()), ('LogisticRegression', LogisticRegression())])\n",
        "pipe2 = Pipeline([('TfidfVectorizer', TfidfVectorizer()), ('LogisticRegression', LogisticRegression())])\n",
        "cvs1 = cross_val_score(pipe1, Dataframe_feats['feats'], Dataframe_feats['type'], cv = 5)\n",
        "cvs2 = cross_val_score(pipe2, Dataframe_feats['feats'], Dataframe_feats['type'], cv = 5)\n",
        "print('Pipe1: mean =  {}, std = {}'.format(cvs1.mean(), cvs1.std()))\n",
        "print('Pipe2: mean =  {}, std = {}'.format(cvs2.mean(), cvs2.std()))"
      ],
      "execution_count": null,
      "outputs": [
        {
          "name": "stdout",
          "output_type": "stream",
          "text": [
            "Pipe1: mean =  0.8424999999999999, std = 0.021794494717703363\n",
            "Pipe2: mean =  0.8205, std = 0.003999999999999995\n"
          ]
        }
      ]
    },
    {
      "cell_type": "code",
      "metadata": {
        "colab": {
          "base_uri": "https://localhost:8080/"
        },
        "id": "a4F_MJGuYX8Z",
        "outputId": "43310332-1437-4f5c-85d9-692762491099"
      },
      "source": [
        "pipe31 = Pipeline([('CountVectorizer', CountVectorizer(min_df=10)), ('LogisticRegression', LogisticRegression())])\n",
        "pipe32 = Pipeline([('CountVectorizer', CountVectorizer(min_df=50)), ('LogisticRegression', LogisticRegression())])\n",
        "cvs31 = cross_val_score(pipe31, Dataframe_feats['feats'], Dataframe_feats['type'], cv = 5)\n",
        "cvs32 = cross_val_score(pipe32, Dataframe_feats['feats'], Dataframe_feats['type'], cv = 5)\n",
        "print('Pipe31: mean =  {}, std = {}'.format(cvs31.mean(), cvs31.std()))\n",
        "print('Pipe32: mean =  {}, std = {}'.format(cvs32.mean(), cvs32.std()))"
      ],
      "execution_count": null,
      "outputs": [
        {
          "name": "stdout",
          "output_type": "stream",
          "text": [
            "Pipe31: mean =  0.8400000000000001, std = 0.01483239697419134\n",
            "Pipe32: mean =  0.8140000000000001, std = 0.016552945357246857\n"
          ]
        }
      ]
    },
    {
      "cell_type": "code",
      "metadata": {
        "colab": {
          "base_uri": "https://localhost:8080/"
        },
        "id": "7KkhDKDhZjnF",
        "outputId": "1693b87f-79af-4e1d-cdc4-8e9acbdbbb68"
      },
      "source": [
        "from sklearn.svm import LinearSVC\n",
        "from sklearn.linear_model import SGDClassifier\n",
        "pipe41 = Pipeline([('CountVectorizer', CountVectorizer()), ('LogisticRegression', LinearSVC())])\n",
        "pipe42 = Pipeline([('CountVectorizer', CountVectorizer()), ('LogisticRegression',SGDClassifier(loss='hinge', penalty='l2', alpha=0.0001, l1_ratio=0.15, fit_intercept=True, max_iter=5, shuffle=True, verbose=0, epsilon=0.1, n_jobs=1, random_state=42, learning_rate='optimal', eta0=0.0, power_t=0.5, class_weight=None, warm_start=False, average=False))])\n",
        "cvs41 = cross_val_score(pipe41, Dataframe_feats['feats'], Dataframe_feats['type'], cv = 5)\n",
        "cvs42 = cross_val_score(pipe42, Dataframe_feats['feats'], Dataframe_feats['type'], cv = 5)\n",
        "print('Pipe41: mean =  {}, std = {}'.format(cvs41.mean(), cvs41.std()))\n",
        "print('Pipe42: mean =  {}, std = {}'.format(cvs42.mean(), cvs42.std()))"
      ],
      "execution_count": null,
      "outputs": [
        {
          "name": "stdout",
          "output_type": "stream",
          "text": [
            "Pipe41: mean =  0.8325000000000001, std = 0.0162788205960997\n",
            "Pipe42: mean =  0.7835, std = 0.05183145762951298\n"
          ]
        }
      ]
    },
    {
      "cell_type": "code",
      "metadata": {
        "colab": {
          "base_uri": "https://localhost:8080/"
        },
        "id": "1iS0fB9taQ2d",
        "outputId": "8a9ca0e2-331c-455b-f8ba-2dd1a114e47a"
      },
      "source": [
        "nltk.download('stopwords')\n",
        "stop_word = nltk.corpus.stopwords.words('english')\n",
        "pipe51 = Pipeline([('CountVectorizer', CountVectorizer(stop_words = stop_word )), ('LogisticRegression', LogisticRegression())])\n",
        "pipe52 = Pipeline([('CountVectorizer', CountVectorizer(stop_words = 'english')), ('LogisticRegression',LogisticRegression())])\n",
        "cvs51 = cross_val_score(pipe51, Dataframe_feats['feats'], Dataframe_feats['type'], cv = 5)\n",
        "cvs52 = cross_val_score(pipe52, Dataframe_feats['feats'], Dataframe_feats['type'], cv = 5)\n",
        "print('Pipe51: mean =  {}, std = {}'.format(cvs51.mean(), cvs51.std()))\n",
        "print('Pipe52: mean =  {}, std = {}'.format(cvs52.mean(), cvs52.std()))"
      ],
      "execution_count": null,
      "outputs": [
        {
          "name": "stdout",
          "output_type": "stream",
          "text": [
            "[nltk_data] Downloading package stopwords to /root/nltk_data...\n",
            "[nltk_data]   Package stopwords is already up-to-date!\n",
            "Pipe51: mean =  0.8400000000000001, std = 0.01129158979063624\n",
            "Pipe52: mean =  0.8365, std = 0.013472193585307468\n"
          ]
        }
      ]
    },
    {
      "cell_type": "code",
      "metadata": {
        "colab": {
          "base_uri": "https://localhost:8080/"
        },
        "id": "E2M5_gajcqa2",
        "outputId": "30a43d67-0580-48ae-bde8-62d12078b6a4"
      },
      "source": [
        "pipe61 = Pipeline([('CountVectorizer', CountVectorizer(ngram_range = (1,2))), ('LogisticRegression', LogisticRegression())])\n",
        "pipe62 = Pipeline([('CountVectorizer', CountVectorizer(ngram_range = (3,5), analyzer='char_wb')), ('LogisticRegression',LogisticRegression())])\n",
        "cvs61 = cross_val_score(pipe61, Dataframe_feats['feats'], Dataframe_feats['type'], cv = 5)\n",
        "cvs62 = cross_val_score(pipe62, Dataframe_feats['feats'], Dataframe_feats['type'], cv = 5)\n",
        "print('Pipe61: mean =  {}, std = {}'.format(cvs61.mean(), cvs61.std()))\n",
        "print('Pipe62: mean =  {}, std = {}'.format(cvs62.mean(), cvs62.std()))"
      ],
      "execution_count": null,
      "outputs": [
        {
          "name": "stdout",
          "output_type": "stream",
          "text": [
            "Pipe51: mean =  0.8554999999999999, std = 0.02215851980616036\n",
            "Pipe52: mean =  0.826, std = 0.007516648189186443\n",
            "Pipe51: mean =  0.8554999999999999, std = 0.02215851980616036\n",
            "Pipe52: mean =  0.826, std = 0.007516648189186443\n"
          ]
        }
      ]
    },
    {
      "cell_type": "markdown",
      "metadata": {
        "id": "leM8HYOn8Vqx"
      },
      "source": [
        "# ***Неделя 3***"
      ]
    },
    {
      "cell_type": "code",
      "metadata": {
        "colab": {
          "base_uri": "https://localhost:8080/"
        },
        "id": "PPL84qeD7X5U",
        "outputId": "74cc1a13-8a2d-427d-9004-8a111efdf48d"
      },
      "source": [
        "import pandas as pd\n",
        "from sklearn.model_selection import train_test_split\n",
        "import time\n",
        "from sklearn.model_selection import GridSearchCV\n",
        "from sklearn.feature_extraction.text import TfidfVectorizer\n",
        "from sklearn.metrics import f1_score\n",
        "import numpy as np\n",
        "from sklearn.metrics import f1_score, make_scorer, accuracy_score\n",
        "from sklearn.utils import shuffle\n",
        "import spacy\n",
        "import nltk\n",
        "import re\n",
        "from nltk.corpus import stopwords\n",
        "nltk.download('stopwords')"
      ],
      "execution_count": null,
      "outputs": [
        {
          "name": "stdout",
          "output_type": "stream",
          "text": [
            "[nltk_data] Downloading package stopwords to /root/nltk_data...\n",
            "[nltk_data]   Package stopwords is already up-to-date!\n"
          ]
        },
        {
          "data": {
            "text/plain": [
              "True"
            ]
          },
          "execution_count": 5,
          "metadata": {},
          "output_type": "execute_result"
        }
      ]
    },
    {
      "cell_type": "code",
      "metadata": {
        "id": "RrYE9fKaa4pn"
      },
      "source": [
        "import pandas as pd\n",
        "import numpy as np\n",
        "data_train = pd.read_csv('/content/products_sentiment_train.tsv', sep='\\t', names = ['text', 'y'])\n",
        "data.head()"
      ],
      "execution_count": null,
      "outputs": []
    },
    {
      "cell_type": "markdown",
      "metadata": {
        "id": "8xl1Vtoa5l8b"
      },
      "source": [
        "Видим, что пропусков нет"
      ]
    },
    {
      "cell_type": "code",
      "metadata": {
        "colab": {
          "base_uri": "https://localhost:8080/"
        },
        "id": "BjkVhIfs2fQ6",
        "outputId": "e0ab2df3-92cf-4b7f-e223-a93ac039e40e"
      },
      "source": [
        "data_train.info()"
      ],
      "execution_count": null,
      "outputs": [
        {
          "name": "stdout",
          "output_type": "stream",
          "text": [
            "<class 'pandas.core.frame.DataFrame'>\n",
            "RangeIndex: 2000 entries, 0 to 1999\n",
            "Data columns (total 2 columns):\n",
            " #   Column  Non-Null Count  Dtype \n",
            "---  ------  --------------  ----- \n",
            " 0   text    2000 non-null   object\n",
            " 1   y       2000 non-null   int64 \n",
            "dtypes: int64(1), object(1)\n",
            "memory usage: 31.4+ KB\n"
          ]
        }
      ]
    },
    {
      "cell_type": "markdown",
      "metadata": {
        "id": "sUFEytfA5rVM"
      },
      "source": [
        "Посмотрим на распределение классов:"
      ]
    },
    {
      "cell_type": "code",
      "metadata": {
        "colab": {
          "base_uri": "https://localhost:8080/",
          "height": 282
        },
        "id": "EAVCrhNo5qnT",
        "outputId": "0eac96ef-571d-4fa9-f938-33e6aa11cee1"
      },
      "source": [
        "%matplotlib inline\n",
        "import matplotlib.pyplot as plt\n",
        "data_train['y'].hist()\n",
        "print('Доля класса 1 в выборке = {}, а класса 2 = {}'.format(data_train['y'].sum()/data_train['y'].shape[0], 1 - data_train['y'].sum()/data_train['y'].shape[0]))"
      ],
      "execution_count": null,
      "outputs": [
        {
          "name": "stdout",
          "output_type": "stream",
          "text": [
            "Доля класса 1 в выборке = 0.637, а класса 2 = 0.363\n"
          ]
        },
        {
          "data": {
            "image/png": "[encoded data removed]",
            "text/plain": [
              "<Figure size 432x288 with 1 Axes>"
            ]
          },
          "metadata": {},
          "output_type": "display_data"
        }
      ]
    },
    {
      "cell_type": "markdown",
      "metadata": {
        "id": "jydysAUM6fKm"
      },
      "source": [
        "Видим, что класса 1 чуть меньше чем в два раза больше класса 0"
      ]
    },
    {
      "cell_type": "markdown",
      "metadata": {
        "id": "LznGrKrR7LfX"
      },
      "source": [
        "Начнем преобразовывать текст:"
      ]
    },
    {
      "cell_type": "code",
      "metadata": {
        "id": "zpVN3uVz5qr0"
      },
      "source": [
        "def preprocess_text(series_column, stop_words, allowed_postags=['NOUN', 'ADJ', 'VERB', 'ADV']):\n",
        "    ''' Simple text preprocessing\n",
        "        \n",
        "    Parameters:\n",
        "        series_column - pandas.series\n",
        "        stop_words - list of stop words\n",
        "        allowed_postags - what types of words must be kept after lemmatization\n",
        "        \n",
        "    Return:\n",
        "        preprocessed series\n",
        "    '''\n",
        "    series_column = series_column.str.lower()\n",
        "    #series_column = series_column.replace(r'[^a-z]', ' ', regex = True)\n",
        "    \n",
        "    for i, text in series_column.iteritems():\n",
        "        \n",
        "        #drop emails\n",
        "        text = re.sub('\\S*@\\S*\\s?', '', text)\n",
        "        # Remove distracting single quotes\n",
        "        text = re.sub(\"\\'\", \"\", text)\n",
        "        #keep only letters\n",
        "        text = re.sub('[^a-z]', ' ', text)\n",
        "        \n",
        "        #drop whitespaces\n",
        "        text = ' '.join(text.split())\n",
        "        \n",
        "        #normalization and drop stop words and too short ones\n",
        "        doc = nlp(text)\n",
        "        tokens = [token.lemma_ for token in doc if token.pos_ in allowed_postags\n",
        "                                                   and token.lemma_ not in stop_words\n",
        "                                                   and len(token.lemma_) > 2]\n",
        "        \n",
        "        #old approach but faster than spacy\n",
        "        #tokens = mystem.lemmatize(text)\n",
        "        #tokens = [token for token in tokens if token not in [' ', '\\n'] \n",
        "        #                                      and token not in stop_words\n",
        "        #                                      and len(token) > 2]\n",
        "        \n",
        "        text = ' '.join(tokens)\n",
        "        series_column[i] = text\n",
        "    \n",
        "    return series_column"
      ],
      "execution_count": null,
      "outputs": []
    },
    {
      "cell_type": "code",
      "metadata": {
        "id": "wADVkXlx7eWF"
      },
      "source": [
        "nlp = spacy.load('en', disable=['parser', 'ner'])\n",
        "stop_words = stopwords.words('english')"
      ],
      "execution_count": null,
      "outputs": []
    },
    {
      "cell_type": "code",
      "metadata": {
        "id": "dKOqAfT75jGp"
      },
      "source": [
        "data_train['text'] = preprocess_text(data_train['text'], stop_words, allowed_postags=['NOUN', 'ADJ', 'VERB', 'ADV'])"
      ],
      "execution_count": null,
      "outputs": []
    },
    {
      "cell_type": "code",
      "metadata": {
        "id": "xap1pUDh72tv"
      },
      "source": [
        "from sklearn.feature_extraction.text import TfidfTransformer\n",
        "from sklearn.feature_extraction.text import CountVectorizer\n",
        "from sklearn.pipeline import Pipeline\n",
        "def transform_text(df, name):\n",
        "    \n",
        "    vectorizer = CountVectorizer(ngram_range=(1,3), max_df=0.8, \n",
        "                                 stop_words = 'english')\n",
        "    pipe = Pipeline([('count', vectorizer), ('tfid', TfidfTransformer(smooth_idf=True,use_idf=True))])\n",
        "    \n",
        "    matrix = pipe.fit_transform(df[name])\n",
        "    m = matrix.toarray()\n",
        "    text = pd.DataFrame(m)\n",
        "    df.drop(name, axis = 1, inplace = True) \n",
        "    df = df.reset_index(drop=True)\n",
        "    text.columns = [name + f'{i}' for i in range(text.shape[1])]\n",
        "    df = pd.concat([df, text], axis=1)\n",
        "    return df"
      ],
      "execution_count": null,
      "outputs": []
    },
    {
      "cell_type": "code",
      "metadata": {
        "id": "Za7--Vi58A1W"
      },
      "source": [
        "data_train = transform_text(data_train, 'text')"
      ],
      "execution_count": null,
      "outputs": []
    },
    {
      "cell_type": "code",
      "metadata": {
        "colab": {
          "base_uri": "https://localhost:8080/"
        },
        "id": "6TkmQIsv8l6_",
        "outputId": "889a923b-f06b-4f22-ade1-7087ea9744e0"
      },
      "source": [
        "from sklearn.linear_model import SGDClassifier\n",
        "X = data_train.drop('y',axis = 1)\n",
        "y = data_train['y']\n",
        "for model in [LogisticRegression(), LinearSVC(), SGDClassifier()]:\n",
        "  print(cross_val_score(model, X, y, n_jobs=4).mean())"
      ],
      "execution_count": null,
      "outputs": [
        {
          "name": "stdout",
          "output_type": "stream",
          "text": [
            "0.6575\n",
            "0.7315\n",
            "0.7235000000000001\n"
          ]
        }
      ]
    },
    {
      "cell_type": "markdown",
      "metadata": {
        "id": "S8yfgbPyF6rD"
      },
      "source": [
        "Попробуем без преобразования текста подобрать модель"
      ]
    },
    {
      "cell_type": "code",
      "metadata": {
        "id": "8hmaINbExHyo"
      },
      "source": [
        "from sklearn.pipeline import Pipeline\n",
        "from sklearn.linear_model import SGDClassifier\n",
        "from sklearn.feature_extraction.text import CountVectorizer\n",
        "from sklearn.feature_extraction.text import TfidfTransformer\n",
        "from sklearn.model_selection import cross_val_score, train_test_split, GridSearchCV\n",
        "from sklearn.linear_model import LogisticRegression\n",
        "from sklearn.svm import LinearSVC\n",
        "from itertools import product\n",
        "from sklearn.decomposition import TruncatedSVD\n",
        "from imblearn.over_sampling import SMOTE\n"
      ],
      "execution_count": null,
      "outputs": []
    },
    {
      "cell_type": "code",
      "metadata": {
        "id": "12UE7ariGfr9"
      },
      "source": [
        "data_train = pd.read_csv('/content/sample_data/products_sentiment_train.tsv', sep='\\t', names = ['text', 'y'])"
      ],
      "execution_count": null,
      "outputs": []
    },
    {
      "cell_type": "code",
      "metadata": {
        "id": "YYxBx_i_MLdg"
      },
      "source": [
        "X, y = data_train['text'], data_train['y']"
      ],
      "execution_count": null,
      "outputs": []
    },
    {
      "cell_type": "code",
      "metadata": {
        "colab": {
          "base_uri": "https://localhost:8080/"
        },
        "id": "9bjj66xmBXbR",
        "outputId": "da08f766-b8ac-48eb-97ab-526ba29b6b53"
      },
      "source": [
        "\n",
        "def text_classifier(vectorizer, transformer, classifier):\n",
        "    return Pipeline(\n",
        "            [(\"vectorizer\", vectorizer),\n",
        "            (\"transformer\", transformer),\n",
        "            (\"classifier\", classifier)]\n",
        "        ) \n",
        "mx = 0\n",
        "for vect, clf, transformer in product([CountVectorizer,TfidfVectorizer], [LogisticRegression, LinearSVC, SGDClassifier],[TruncatedSVD, TfidfTransformer]):\n",
        "  curr = cross_val_score(text_classifier(vect(), transformer(), clf(max_iter=1000)), X, y, n_jobs=8).mean()\n",
        "  if (curr > mx):\n",
        "    mx = curr\n",
        "    max_string = str(vect) +\" - \"+str(clf) + \" - \"+str(transformer)\n",
        "print('Лучшее качество равно = {}'.format(mx))\n",
        "print(max_string)"
      ],
      "execution_count": null,
      "outputs": [
        {
          "name": "stdout",
          "output_type": "stream",
          "text": [
            "Лучшее качество равно = 0.7689999999999999\n",
            "<class 'sklearn.feature_extraction.text.CountVectorizer'> - <class 'sklearn.svm._classes.LinearSVC'> - <class 'sklearn.feature_extraction.text.TfidfTransformer'>\n"
          ]
        }
      ]
    },
    {
      "cell_type": "markdown",
      "metadata": {
        "id": "36B77PASHIef"
      },
      "source": [
        "Видим, что в данном случае выиграла комбинация CountVectorizer, LinearSVC, TfidfTransformer"
      ]
    },
    {
      "cell_type": "code",
      "metadata": {
        "colab": {
          "base_uri": "https://localhost:8080/"
        },
        "id": "O75Vuhne8xZf",
        "outputId": "5f62f72a-38ae-4f0b-cd43-99a2b6fba6d9"
      },
      "source": [
        "\n",
        "clf_pipeline = Pipeline(\n",
        "            [(\"vectorizer\", CountVectorizer(ngram_range=(1,3),max_df=0.8)), \n",
        "            (\"transformer\", TfidfTransformer(smooth_idf=True,use_idf=True)),\n",
        "            (\"classifier\", LinearSVC())])\n",
        "\n",
        "X, y = data_train['text'], data_train['y']\n",
        "print('Качество у лучшей модели = {}'.format(cross_val_score(clf_pipeline, X, y, n_jobs=4).mean()))"
      ],
      "execution_count": null,
      "outputs": [
        {
          "name": "stdout",
          "output_type": "stream",
          "text": [
            "Качество у лучшей модели = 0.79\n"
          ]
        }
      ]
    },
    {
      "cell_type": "markdown",
      "metadata": {
        "id": "0JK0r0nsJdSd"
      },
      "source": [
        "Теперь попробуем сбалансировать классы при помощи разны алгоритмов oversampling:"
      ]
    },
    {
      "cell_type": "code",
      "metadata": {
        "colab": {
          "base_uri": "https://localhost:8080/"
        },
        "id": "G7_ChDyY-mnX",
        "outputId": "c98ab011-6c1a-4f31-fec0-00873614ded0"
      },
      "source": [
        "from imblearn.pipeline import Pipeline\n",
        "\n",
        "clf_pipeline = Pipeline(\n",
        "            [(\"vectorizer\", CountVectorizer(ngram_range=(1,3),max_df=0.8)), \n",
        "            (\"transformer\", TfidfTransformer(smooth_idf=True,use_idf=True)),\n",
        "            ('over', SMOTE(random_state = 42)),\n",
        "            (\"classifier\", LinearSVC(max_iter=400, loss='hinge', C=1.9, tol=0.001, random_state=777))])\n",
        "\n",
        "X, y = data_train['text'], data_train['y']\n",
        "print('Качество у лучшей модели = {}'.format(cross_val_score(clf_pipeline, X, y, n_jobs=4,cv = 5).mean()))"
      ],
      "execution_count": null,
      "outputs": [
        {
          "name": "stdout",
          "output_type": "stream",
          "text": [
            "Качество у лучшей модели = 0.792\n"
          ]
        }
      ]
    },
    {
      "cell_type": "code",
      "metadata": {
        "colab": {
          "base_uri": "https://localhost:8080/"
        },
        "id": "L9MvJKoz_Vt_",
        "outputId": "64c89546-b896-414a-c040-6556eb1f42fe"
      },
      "source": [
        "from sklearn.metrics import classification_report\n",
        "\n",
        "X_train, X_test, y_train, y_test = train_test_split(X, y, test_size=0.2, random_state=42)\n",
        "clf_pipeline.fit(X_train, y_train)\n",
        "\n",
        "y_pred = clf_pipeline.predict(X_test)\n",
        "print(classification_report(y_test, y_pred))"
      ],
      "execution_count": null,
      "outputs": [
        {
          "name": "stderr",
          "output_type": "stream",
          "text": [
            "/usr/local/lib/python3.7/dist-packages/sklearn/utils/deprecation.py:87: FutureWarning: Function safe_indexing is deprecated; safe_indexing is deprecated in version 0.22 and will be removed in version 0.24.\n",
            "  warnings.warn(msg, category=FutureWarning)\n"
          ]
        },
        {
          "name": "stdout",
          "output_type": "stream",
          "text": [
            "              precision    recall  f1-score   support\n",
            "\n",
            "           0       0.69      0.67      0.68       135\n",
            "           1       0.83      0.85      0.84       265\n",
            "\n",
            "    accuracy                           0.79       400\n",
            "   macro avg       0.76      0.76      0.76       400\n",
            "weighted avg       0.78      0.79      0.78       400\n",
            "\n"
          ]
        }
      ]
    },
    {
      "cell_type": "code",
      "metadata": {
        "id": "bIS8gKdeQUtH"
      },
      "source": [
        "clf_pipeline.fit(X, y)\n",
        "data_test = pd.read_csv('/content/products_sentiment_test.tsv', sep='\\t')\n",
        "data_test['y'] = clf_pipeline.predict(data_test.text)\n",
        "\n",
        "# Save solution for Kaggle\n",
        "\n",
        "data_test.head()\n",
        "data_test[['Id','y']].to_csv('sample_sabmission.csv', index = False)"
      ],
      "execution_count": null,
      "outputs": []
    },
    {
      "cell_type": "markdown",
      "metadata": {
        "id": "axZkXWpLVNDp"
      },
      "source": [
        "Картинка"
      ]
    },
    {
      "cell_type": "code",
      "metadata": {
        "colab": {
          "base_uri": "https://localhost:8080/",
          "height": 547
        },
        "id": "L6AqWhIYQsnz",
        "outputId": "ac5d4e45-a6c8-47c5-c199-bf44582352b2"
      },
      "source": [
        "from IPython.display import Image\n",
        "Image(\"/content/ZdUDPrPBYRo.jpg\")"
      ],
      "execution_count": null,
      "outputs": [
        {
          "data": {
            "image/jpeg": "[encoded data removed]",
            "text/plain": [
              "<IPython.core.display.Image object>"
            ]
          },
          "execution_count": 188,
          "metadata": {},
          "output_type": "execute_result"
        }
      ]
    },
    {
      "cell_type": "code",
      "metadata": {
        "id": "BrkuR8H9XtMJ"
      },
      "source": [
        ""
      ],
      "execution_count": null,
      "outputs": []
    },
    {
      "cell_type": "code",
      "metadata": {
        "id": "4v2RPshfyi03"
      },
      "source": [
        ""
      ],
      "execution_count": null,
      "outputs": []
    },
    {
      "cell_type": "markdown",
      "metadata": {
        "id": "OqGMfylcypg9"
      },
      "source": [
        "# ***Неделя 4***"
      ]
    },
    {
      "cell_type": "markdown",
      "metadata": {
        "id": "7n-hRxbbzrle"
      },
      "source": [
        "**Подгружаем библиотеки**"
      ]
    },
    {
      "cell_type": "code",
      "metadata": {
        "colab": {
          "base_uri": "https://localhost:8080/"
        },
        "id": "P7kQG--Mz8hR",
        "outputId": "1241a7ef-d999-4d3f-f401-9e235328053c"
      },
      "source": [
        "import nltk\n",
        "nltk.download('movie_reviews')"
      ],
      "execution_count": null,
      "outputs": [
        {
          "name": "stdout",
          "output_type": "stream",
          "text": [
            "[nltk_data] Downloading package movie_reviews to /root/nltk_data...\n",
            "[nltk_data]   Unzipping corpora/movie_reviews.zip.\n"
          ]
        },
        {
          "data": {
            "text/plain": [
              "True"
            ]
          },
          "execution_count": 37,
          "metadata": {},
          "output_type": "execute_result"
        }
      ]
    },
    {
      "cell_type": "code",
      "metadata": {
        "id": "gOZIzDO8ytrp"
      },
      "source": [
        "import pickle\n",
        "import numpy as np\n",
        "import pandas as pd\n",
        "from sklearn.feature_extraction.text import TfidfTransformer, CountVectorizer\n",
        "from sklearn.svm import LinearSVC\n",
        "from sklearn.utils import shuffle\n",
        "from sklearn.pipeline import Pipeline\n",
        "from sklearn.externals import joblib\n",
        "from sklearn.metrics import accuracy_score\n",
        "from nltk.corpus import movie_reviews"
      ],
      "execution_count": null,
      "outputs": []
    },
    {
      "cell_type": "markdown",
      "metadata": {
        "id": "b3QVQ13vzxIe"
      },
      "source": [
        "**Достаем данные**"
      ]
    },
    {
      "cell_type": "code",
      "metadata": {
        "id": "p2hTg2PiyxsF"
      },
      "source": [
        "negids = movie_reviews.fileids('neg')\n",
        "posids = movie_reviews.fileids('pos')\n",
        "\n",
        "negfeats = [' '.join(movie_reviews.words(fileids=[f])) for f in negids]\n",
        "posfeats = [' '.join(movie_reviews.words(fileids=[f])) for f in posids]\n",
        "\n",
        "texts = negfeats + posfeats\n",
        "labels = [0] * len(negfeats) + [1] * len(posfeats)"
      ],
      "execution_count": null,
      "outputs": []
    },
    {
      "cell_type": "markdown",
      "metadata": {
        "id": "PSdpfTDSz1-X"
      },
      "source": [
        "**Разбираемся с моделью**"
      ]
    },
    {
      "cell_type": "code",
      "metadata": {
        "id": "nWt6lWlxzTxd"
      },
      "source": [
        "def make_pipeline(vectorizer, transformer, classifier):\n",
        "    return Pipeline([\n",
        "            ('vectorizer', vectorizer),\n",
        "            ('transformer', transformer),\n",
        "            ('classifier', classifier)\n",
        "        ])\n",
        "    \n",
        "\n",
        "def make_classifier(text, label):\n",
        "    svc = make_pipeline(CountVectorizer(min_df=1, ngram_range=(1, 5), max_df=0.9, stop_words=None),\n",
        "                        TfidfTransformer(smooth_idf=True,use_idf=True),\n",
        "                        LinearSVC(max_iter=500, loss='hinge', C=1.9, tol=0.001, random_state=777))\n",
        "    svc.fit(text, label)\n",
        "    return svc"
      ],
      "execution_count": null,
      "outputs": []
    },
    {
      "cell_type": "code",
      "metadata": {
        "colab": {
          "base_uri": "https://localhost:8080/"
        },
        "id": "KexJukpzzf1o",
        "outputId": "259eec6e-4956-4eb8-85b4-a4786290f5d8"
      },
      "source": [
        "classifier = make_classifier(texts, labels)"
      ],
      "execution_count": null,
      "outputs": [
        {
          "name": "stderr",
          "output_type": "stream",
          "text": [
            "/usr/local/lib/python3.7/dist-packages/sklearn/svm/_base.py:947: ConvergenceWarning: Liblinear failed to converge, increase the number of iterations.\n",
            "  \"the number of iterations.\", ConvergenceWarning)\n"
          ]
        }
      ]
    },
    {
      "cell_type": "code",
      "metadata": {
        "colab": {
          "base_uri": "https://localhost:8080/"
        },
        "id": "I1vwV66Gzj0e",
        "outputId": "fc11b939-869d-471d-c9bd-3dc8404e5c70"
      },
      "source": [
        "accuracy_score(labels, classifier.predict(texts))"
      ],
      "execution_count": null,
      "outputs": [
        {
          "data": {
            "text/plain": [
              "1.0"
            ]
          },
          "execution_count": 45,
          "metadata": {},
          "output_type": "execute_result"
        }
      ]
    },
    {
      "cell_type": "code",
      "metadata": {
        "id": "wLCIeXBGznRQ"
      },
      "source": [
        "with open('sentiment_classifier.pkl', 'wb') as f:\n",
        "    pickle.dump(classifier, f)"
      ],
      "execution_count": null,
      "outputs": []
    },
    {
      "cell_type": "markdown",
      "metadata": {
        "id": "Qn8SWVnLp8mz"
      },
      "source": [
        "# ***Неделя 5***"
      ]
    },
    {
      "cell_type": "markdown",
      "metadata": {
        "id": "_3lVCHoyJoXh"
      },
      "source": [
        "**Достанем из сайта названия фильмов**"
      ]
    },
    {
      "cell_type": "code",
      "metadata": {
        "id": "md8cEwjB0MC7"
      },
      "source": [
        "import requests\n",
        "from bs4 import BeautifulSoup\n",
        "from multiprocessing import Pool\n",
        "from functools import reduce"
      ],
      "execution_count": null,
      "outputs": []
    },
    {
      "cell_type": "code",
      "metadata": {
        "id": "DVGNaGMtqa3O"
      },
      "source": [
        "URL = \"https://www.metacritic.com/browse/movies/score/metascore/all/filtered/netflix\"\n",
        "html = requests.get(URL, headers={'User-Agent': 'Mozilla/5.0'}).content\n",
        "soup = BeautifulSoup(html, 'html.parser')\n",
        "num_pages = int(soup.find('li', class_='page last_page').find('a', class_='page_num').text)"
      ],
      "execution_count": null,
      "outputs": []
    },
    {
      "cell_type": "code",
      "metadata": {
        "colab": {
          "base_uri": "https://localhost:8080/"
        },
        "id": "74uK0Fc_rpBj",
        "outputId": "f08792c8-65b8-495a-b84c-b026de2127a2"
      },
      "source": [
        "print('Количество страниц = {}'.format(num_pages))"
      ],
      "execution_count": null,
      "outputs": [
        {
          "name": "stdout",
          "output_type": "stream",
          "text": [
            "Количество страниц = 9\n"
          ]
        }
      ]
    },
    {
      "cell_type": "code",
      "metadata": {
        "id": "sXMenmo8sZBA"
      },
      "source": [
        "def get_films_list(url):\n",
        "    html = requests.get(url, headers={'User-Agent': 'Mozilla/5.0'}).content\n",
        "    soup = BeautifulSoup(html, 'html.parser')\n",
        "    titles = soup.find_all('a', class_='title')\n",
        "    return [title.get_text().strip() for title in titles]"
      ],
      "execution_count": null,
      "outputs": []
    },
    {
      "cell_type": "code",
      "metadata": {
        "id": "BYW26-AjtdBv"
      },
      "source": [
        "with Pool(10) as p:\n",
        "    url_list = [URL + \"?page=\" + str(page) for page in range(num_pages)]\n",
        "    map_results = p.map(get_films_list, url_list)\n",
        "    films_list = sorted(reduce(lambda x, y: x + y, map_results))"
      ],
      "execution_count": null,
      "outputs": []
    },
    {
      "cell_type": "code",
      "metadata": {
        "colab": {
          "base_uri": "https://localhost:8080/"
        },
        "id": "Qj6aDA4ftg4z",
        "outputId": "20b1f2ed-3e6a-4651-f64c-c5c4b34b7509"
      },
      "source": [
        " films_list[:10]"
      ],
      "execution_count": null,
      "outputs": [
        {
          "data": {
            "text/plain": [
              "['13th',\n",
              " '1922',\n",
              " '2012',\n",
              " '22 July',\n",
              " '3 Days to Kill',\n",
              " '5 Flights Up',\n",
              " '50 First Dates',\n",
              " '6 Balloons',\n",
              " '6 Underground',\n",
              " 'A Cinderella Story']"
            ]
          },
          "execution_count": 43,
          "metadata": {},
          "output_type": "execute_result"
        }
      ]
    },
    {
      "cell_type": "markdown",
      "metadata": {
        "id": "7YG4KMjFJv5F"
      },
      "source": [
        "**Достанем из википедии колонки названий**"
      ]
    },
    {
      "cell_type": "code",
      "metadata": {
        "colab": {
          "base_uri": "https://localhost:8080/"
        },
        "id": "eBcteszzAXRs",
        "outputId": "82a382d2-49d9-42d4-dbea-3f9773d97cc1"
      },
      "source": [
        "import requests\n",
        "from bs4 import BeautifulSoup\n",
        "from multiprocessing import Pool\n",
        "from functools import reduce\n",
        "\n",
        "r = requests.get('https://en.wikipedia.org/wiki/Bias%E2%80%93variance_tradeoff')\n",
        "soup = BeautifulSoup(r.text)\n",
        "titles = soup.find_all('span', class_ = 'toctext')\n",
        "[title.get_text().strip() for title in titles]"
      ],
      "execution_count": null,
      "outputs": [
        {
          "data": {
            "text/plain": [
              "['Motivation',\n",
              " 'Bias–variance decomposition of mean squared error',\n",
              " 'Derivation',\n",
              " 'Approaches',\n",
              " 'k-nearest neighbors',\n",
              " 'Applications',\n",
              " 'In regression',\n",
              " 'In classification',\n",
              " 'In reinforcement learning',\n",
              " 'In human learning',\n",
              " 'See also',\n",
              " 'References']"
            ]
          },
          "execution_count": 29,
          "metadata": {},
          "output_type": "execute_result"
        }
      ]
    },
    {
      "cell_type": "code",
      "metadata": {
        "id": "pbu_Cr1AFDx8"
      },
      "source": [
        "r = requests.get('https://en.wikipedia.org/wiki/Category:Machine_learning_algorithms')\n",
        "soup = BeautifulSoup(r.text)\n",
        "name_soup = soup.find('div', class_ = 'mw-category')\n",
        "titles = name_soup.find_all('a')\n",
        "name_of_articles = [title.get_text().strip() for title in titles]"
      ],
      "execution_count": null,
      "outputs": []
    },
    {
      "cell_type": "code",
      "metadata": {
        "colab": {
          "base_uri": "https://localhost:8080/"
        },
        "id": "22AcRt6OL0WR",
        "outputId": "4842e623-5f59-4507-aacd-37c186bb57fe"
      },
      "source": [
        "name_of_articles[:10]"
      ],
      "execution_count": null,
      "outputs": [
        {
          "data": {
            "text/plain": [
              "['Adagrad',\n",
              " 'Algorithms of Oppression',\n",
              " 'Almeida–Pineda recurrent backpropagation',\n",
              " 'Augmented Analytics',\n",
              " 'Backpropagation',\n",
              " 'Bioz',\n",
              " 'Bootstrap aggregating',\n",
              " 'CN2 algorithm',\n",
              " 'Constructing skill trees',\n",
              " 'Deep reinforcement learning']"
            ]
          },
          "execution_count": 53,
          "metadata": {},
          "output_type": "execute_result"
        }
      ]
    },
    {
      "cell_type": "markdown",
      "metadata": {
        "id": "NhXnelSLVxqQ"
      },
      "source": [
        "# ***Неделя 6***"
      ]
    },
    {
      "cell_type": "markdown",
      "metadata": {
        "id": "KfURDt4tqvcD"
      },
      "source": [
        ""
      ]
    },
    {
      "cell_type": "markdown",
      "metadata": {
        "id": "GkGvEmVmqvhC"
      },
      "source": [
        "**Парсим сайты и получаем обучающую выборку**"
      ]
    },
    {
      "cell_type": "code",
      "metadata": {
        "id": "Fzk3-pjzMi7p"
      },
      "source": [
        "\n",
        "import os\n",
        "import json\n",
        "import warnings\n",
        "import re\n",
        "import codecs\n",
        "import requests\n",
        "from tqdm import tqdm\n",
        "from bs4 import BeautifulSoup\n",
        "from multiprocessing import Pool\n",
        "from functools import reduce\n",
        "import numpy as np\n",
        "import pandas as pd\n",
        "import nltk\n",
        "from nltk.corpus import stopwords\n",
        "from sklearn.utils import shuffle\n",
        "from sklearn.pipeline import Pipeline\n",
        "from sklearn.model_selection import RandomizedSearchCV, cross_val_score\n",
        "from sklearn.feature_extraction.text import TfidfTransformer, CountVectorizer, TfidfVectorizer\n",
        "from sklearn.svm import LinearSVC\n",
        "import matplotlib.pyplot as plt\n",
        "import seaborn as sns\n",
        "warnings.filterwarnings('ignore')\n",
        "%matplotlib inline\n",
        "sns.set_style('whitegrid')\n",
        "sns.set_palette('Set2')"
      ],
      "execution_count": 480,
      "outputs": []
    },
    {
      "cell_type": "code",
      "metadata": {
        "id": "ZS0FJ691Ym6N"
      },
      "source": [
        "def get_mob(num_pages = 1):\n",
        "  mob_list = []\n",
        "  url_main = 'https://otziv-otziv.ru/katalog/smartphones/'\n",
        "  for i in range(1,num_pages+1):\n",
        "    url = url_main+'?page=' + str(i)\n",
        "    html = requests.get(url).text\n",
        "    soup = BeautifulSoup(html)\n",
        "    mob_soup = soup.find('div',class_  = 'comments')\n",
        "    mob_href = mob_soup.find_all('div', class_ = 'content')\n",
        "    mob_list.extend([href.find('a').get('href') for href in mob_href])\n",
        "  return mob_list"
      ],
      "execution_count": 481,
      "outputs": []
    },
    {
      "cell_type": "code",
      "metadata": {
        "id": "gayJbJuWWGoN"
      },
      "source": [
        "def get_reviews(param = 1):\n",
        "    url_list = get_mob(param)\n",
        "    for url in tqdm(url_list):\n",
        "      try:\n",
        "        while True:\n",
        "              html = requests.get('https://otziv-otziv.ru/'+ url).text\n",
        "              if html:\n",
        "                  soup = BeautifulSoup(html, 'html.parser')\n",
        "                  reviews = soup.find_all('div', class_ = 'container-reviews collapsible collapsed')\n",
        "                  for review in reviews:\n",
        "                      review_text = review.get_text()\n",
        "                      review_rating = int(review.find('div', class_='stars-container')['title'][-1])\n",
        "                      with open('train.json', 'a') as f:\n",
        "                          f.truncate()\n",
        "                          json.dump({'text': review_text, 'rating': review_rating}, f, ensure_ascii=False)\n",
        "                          f.write('\\n')\n",
        "                  if len(reviews) > 0:\n",
        "                        break\n",
        "              else:\n",
        "                  print(\"Не удалось загрузить страницу\")\n",
        "      except:\n",
        "       print('Сетевая ошибка')"
      ],
      "execution_count": 482,
      "outputs": []
    },
    {
      "cell_type": "code",
      "metadata": {
        "colab": {
          "base_uri": "https://localhost:8080/"
        },
        "id": "Qv2rJn5YsiCK",
        "outputId": "105bcae0-ec91-40fa-9d43-2a7c8f0173f9"
      },
      "source": [
        "get_reviews(param = 50)"
      ],
      "execution_count": 483,
      "outputs": [
        {
          "output_type": "stream",
          "name": "stderr",
          "text": [
            " 82%|████████▏ | 860/1050 [15:19<03:01,  1.05it/s]"
          ]
        },
        {
          "output_type": "stream",
          "name": "stdout",
          "text": [
            "Сетевая ошибка\n"
          ]
        },
        {
          "output_type": "stream",
          "name": "stderr",
          "text": [
            " 82%|████████▏ | 866/1050 [15:24<02:22,  1.29it/s]"
          ]
        },
        {
          "output_type": "stream",
          "name": "stdout",
          "text": [
            "Сетевая ошибка\n"
          ]
        },
        {
          "output_type": "stream",
          "name": "stderr",
          "text": [
            " 83%|████████▎ | 869/1050 [15:27<02:50,  1.06it/s]"
          ]
        },
        {
          "output_type": "stream",
          "name": "stdout",
          "text": [
            "Сетевая ошибка\n"
          ]
        },
        {
          "output_type": "stream",
          "name": "stderr",
          "text": [
            " 92%|█████████▏| 971/1050 [17:14<01:22,  1.04s/it]"
          ]
        },
        {
          "output_type": "stream",
          "name": "stdout",
          "text": [
            "Сетевая ошибка\n"
          ]
        },
        {
          "output_type": "stream",
          "name": "stderr",
          "text": [
            " 97%|█████████▋| 1019/1050 [18:03<00:29,  1.04it/s]"
          ]
        },
        {
          "output_type": "stream",
          "name": "stdout",
          "text": [
            "Сетевая ошибка\n"
          ]
        },
        {
          "output_type": "stream",
          "name": "stderr",
          "text": [
            "100%|██████████| 1050/1050 [18:36<00:00,  1.06s/it]\n"
          ]
        }
      ]
    },
    {
      "cell_type": "markdown",
      "metadata": {
        "id": "7ROcrK1XqujB"
      },
      "source": [
        "**Выгружаем данные**"
      ]
    },
    {
      "cell_type": "code",
      "metadata": {
        "id": "OBAI47KZWQD0"
      },
      "source": [
        "def extract_info(text, label):\n",
        "  try:\n",
        "      if label == 1:\n",
        "        if 'Плюсы' in text:\n",
        "          text = re.findall(r'Плюсы(:.*?)Минусы:', text)[0]\n",
        "        else:\n",
        "          text = find(r'Достоинства(:.*?)Недостатки:', text)[0]\n",
        "      else:\n",
        "        if 'Минусы' in text:\n",
        "          text = text[text.find('Минусы')+7:]\n",
        "        else:\n",
        "          text = text[text.find('Недостатки')+11:]\n",
        "      return text\n",
        "  except:\n",
        "    return text"
      ],
      "execution_count": 501,
      "outputs": []
    },
    {
      "cell_type": "code",
      "metadata": {
        "id": "3y2YFVdBWSmw"
      },
      "source": [
        "with codecs.open('test.csv', 'r') as f:\n",
        "    test_text = f.read()\n",
        "    soup = BeautifulSoup(test_text, 'html.parser')\n",
        "    test_reviews = soup.findAll('review')\n",
        "    test_list = [test_review.text for test_review in test_reviews]"
      ],
      "execution_count": 485,
      "outputs": []
    },
    {
      "cell_type": "code",
      "metadata": {
        "id": "nrFtwoiEWVZq"
      },
      "source": [
        "test = pd.DataFrame(test_list, columns=['text'])"
      ],
      "execution_count": 486,
      "outputs": []
    },
    {
      "cell_type": "code",
      "metadata": {
        "colab": {
          "base_uri": "https://localhost:8080/",
          "height": 204
        },
        "id": "12d2TzMRrY55",
        "outputId": "78ae0db5-febe-4efc-c48c-5c852dfe576f"
      },
      "source": [
        "test.head()"
      ],
      "execution_count": 487,
      "outputs": [
        {
          "output_type": "execute_result",
          "data": {
            "text/html": [
              "<div>\n",
              "<style scoped>\n",
              "    .dataframe tbody tr th:only-of-type {\n",
              "        vertical-align: middle;\n",
              "    }\n",
              "\n",
              "    .dataframe tbody tr th {\n",
              "        vertical-align: top;\n",
              "    }\n",
              "\n",
              "    .dataframe thead th {\n",
              "        text-align: right;\n",
              "    }\n",
              "</style>\n",
              "<table border=\"1\" class=\"dataframe\">\n",
              "  <thead>\n",
              "    <tr style=\"text-align: right;\">\n",
              "      <th></th>\n",
              "      <th>text</th>\n",
              "    </tr>\n",
              "  </thead>\n",
              "  <tbody>\n",
              "    <tr>\n",
              "      <th>0</th>\n",
              "      <td>Ужасно слабый аккумулятор, это основной минус ...</td>\n",
              "    </tr>\n",
              "    <tr>\n",
              "      <th>1</th>\n",
              "      <td>ценанадежность-неубиваемостьдолго держит батар...</td>\n",
              "    </tr>\n",
              "    <tr>\n",
              "      <th>2</th>\n",
              "      <td>подробнее в комментариях\\nК сожалению, факт по...</td>\n",
              "    </tr>\n",
              "    <tr>\n",
              "      <th>3</th>\n",
              "      <td>я любительница громкой музыки. Тише телефона у...</td>\n",
              "    </tr>\n",
              "    <tr>\n",
              "      <th>4</th>\n",
              "      <td>Дата выпуска - 2011 г, емкость - 1430 mAh, тех...</td>\n",
              "    </tr>\n",
              "  </tbody>\n",
              "</table>\n",
              "</div>"
            ],
            "text/plain": [
              "                                                text\n",
              "0  Ужасно слабый аккумулятор, это основной минус ...\n",
              "1  ценанадежность-неубиваемостьдолго держит батар...\n",
              "2  подробнее в комментариях\\nК сожалению, факт по...\n",
              "3  я любительница громкой музыки. Тише телефона у...\n",
              "4  Дата выпуска - 2011 г, емкость - 1430 mAh, тех..."
            ]
          },
          "metadata": {},
          "execution_count": 487
        }
      ]
    },
    {
      "cell_type": "code",
      "metadata": {
        "colab": {
          "base_uri": "https://localhost:8080/"
        },
        "id": "w3rYX8LkrbqQ",
        "outputId": "c2e60d3b-85c6-42f9-9e06-2f6589f8782c"
      },
      "source": [
        "test.info()"
      ],
      "execution_count": 488,
      "outputs": [
        {
          "output_type": "stream",
          "name": "stdout",
          "text": [
            "<class 'pandas.core.frame.DataFrame'>\n",
            "RangeIndex: 100 entries, 0 to 99\n",
            "Data columns (total 1 columns):\n",
            " #   Column  Non-Null Count  Dtype \n",
            "---  ------  --------------  ----- \n",
            " 0   text    100 non-null    object\n",
            "dtypes: object(1)\n",
            "memory usage: 928.0+ bytes\n"
          ]
        }
      ]
    },
    {
      "cell_type": "code",
      "metadata": {
        "id": "nh4nVU-7r5ux"
      },
      "source": [
        "train = pd.read_json('train.json', orient='records', lines=True)"
      ],
      "execution_count": 489,
      "outputs": []
    },
    {
      "cell_type": "code",
      "metadata": {
        "id": "hE5ik1ETr9BZ"
      },
      "source": [
        "train['label'] = train['rating'].apply(lambda x: int(x == 5))\n",
        "train['length'] = train['text'].apply(lambda x: len(x))\n",
        "train['text'] = train['text'].apply(lambda x: x.replace('\\n',''))\n",
        "train['text'] = train.apply(lambda x: extract_info(x['text'], x['label']), axis=1)"
      ],
      "execution_count": 490,
      "outputs": []
    },
    {
      "cell_type": "code",
      "metadata": {
        "colab": {
          "base_uri": "https://localhost:8080/",
          "height": 204
        },
        "id": "EEtz11LQsqsS",
        "outputId": "4b051e3c-e447-4e9a-a678-d347c0730b05"
      },
      "source": [
        "train.head()"
      ],
      "execution_count": 491,
      "outputs": [
        {
          "output_type": "execute_result",
          "data": {
            "text/html": [
              "<div>\n",
              "<style scoped>\n",
              "    .dataframe tbody tr th:only-of-type {\n",
              "        vertical-align: middle;\n",
              "    }\n",
              "\n",
              "    .dataframe tbody tr th {\n",
              "        vertical-align: top;\n",
              "    }\n",
              "\n",
              "    .dataframe thead th {\n",
              "        text-align: right;\n",
              "    }\n",
              "</style>\n",
              "<table border=\"1\" class=\"dataframe\">\n",
              "  <thead>\n",
              "    <tr style=\"text-align: right;\">\n",
              "      <th></th>\n",
              "      <th>text</th>\n",
              "      <th>rating</th>\n",
              "      <th>label</th>\n",
              "      <th>length</th>\n",
              "    </tr>\n",
              "  </thead>\n",
              "  <tbody>\n",
              "    <tr>\n",
              "      <th>0</th>\n",
              "      <td>батарея                               Пользую...</td>\n",
              "      <td>4</td>\n",
              "      <td>0</td>\n",
              "      <td>1235</td>\n",
              "    </tr>\n",
              "    <tr>\n",
              "      <th>1</th>\n",
              "      <td>Логинов Юрий, 06.04.2019\\r                    ...</td>\n",
              "      <td>5</td>\n",
              "      <td>1</td>\n",
              "      <td>884</td>\n",
              "    </tr>\n",
              "    <tr>\n",
              "      <th>2</th>\n",
              "      <td>\\rкупил 5S проработал 4 месяца, погас навсегд...</td>\n",
              "      <td>2</td>\n",
              "      <td>0</td>\n",
              "      <td>301</td>\n",
              "    </tr>\n",
              "    <tr>\n",
              "      <th>3</th>\n",
              "      <td>: К плюсам бы я отнес, это универсальность раз...</td>\n",
              "      <td>5</td>\n",
              "      <td>1</td>\n",
              "      <td>1002</td>\n",
              "    </tr>\n",
              "    <tr>\n",
              "      <th>4</th>\n",
              "      <td>Очень небольшое время работы. На морозе вообщ...</td>\n",
              "      <td>4</td>\n",
              "      <td>0</td>\n",
              "      <td>523</td>\n",
              "    </tr>\n",
              "  </tbody>\n",
              "</table>\n",
              "</div>"
            ],
            "text/plain": [
              "                                                text  rating  label  length\n",
              "0   батарея                               Пользую...       4      0    1235\n",
              "1  Логинов Юрий, 06.04.2019\\r                    ...       5      1     884\n",
              "2   \\rкупил 5S проработал 4 месяца, погас навсегд...       2      0     301\n",
              "3  : К плюсам бы я отнес, это универсальность раз...       5      1    1002\n",
              "4   Очень небольшое время работы. На морозе вообщ...       4      0     523"
            ]
          },
          "metadata": {},
          "execution_count": 491
        }
      ]
    },
    {
      "cell_type": "code",
      "metadata": {
        "colab": {
          "base_uri": "https://localhost:8080/"
        },
        "id": "GpVMs0LRsr94",
        "outputId": "044c867d-4863-4fb9-d09d-2e91ad5e3144"
      },
      "source": [
        "train.info()"
      ],
      "execution_count": 492,
      "outputs": [
        {
          "output_type": "stream",
          "name": "stdout",
          "text": [
            "<class 'pandas.core.frame.DataFrame'>\n",
            "RangeIndex: 31350 entries, 0 to 31349\n",
            "Data columns (total 4 columns):\n",
            " #   Column  Non-Null Count  Dtype \n",
            "---  ------  --------------  ----- \n",
            " 0   text    31350 non-null  object\n",
            " 1   rating  31350 non-null  int64 \n",
            " 2   label   31350 non-null  int64 \n",
            " 3   length  31350 non-null  int64 \n",
            "dtypes: int64(3), object(1)\n",
            "memory usage: 979.8+ KB\n"
          ]
        }
      ]
    },
    {
      "cell_type": "markdown",
      "metadata": {
        "id": "L9ODy_C54eJv"
      },
      "source": [
        "**Описательный анализ данных**"
      ]
    },
    {
      "cell_type": "code",
      "metadata": {
        "colab": {
          "base_uri": "https://localhost:8080/",
          "height": 297
        },
        "id": "JdBTIPCm13e4",
        "outputId": "f98333b5-9ec9-489c-de48-31dfb82dc463"
      },
      "source": [
        "train.describe()"
      ],
      "execution_count": 493,
      "outputs": [
        {
          "output_type": "execute_result",
          "data": {
            "text/html": [
              "<div>\n",
              "<style scoped>\n",
              "    .dataframe tbody tr th:only-of-type {\n",
              "        vertical-align: middle;\n",
              "    }\n",
              "\n",
              "    .dataframe tbody tr th {\n",
              "        vertical-align: top;\n",
              "    }\n",
              "\n",
              "    .dataframe thead th {\n",
              "        text-align: right;\n",
              "    }\n",
              "</style>\n",
              "<table border=\"1\" class=\"dataframe\">\n",
              "  <thead>\n",
              "    <tr style=\"text-align: right;\">\n",
              "      <th></th>\n",
              "      <th>rating</th>\n",
              "      <th>label</th>\n",
              "      <th>length</th>\n",
              "    </tr>\n",
              "  </thead>\n",
              "  <tbody>\n",
              "    <tr>\n",
              "      <th>count</th>\n",
              "      <td>31350.000000</td>\n",
              "      <td>31350.000000</td>\n",
              "      <td>31350.000000</td>\n",
              "    </tr>\n",
              "    <tr>\n",
              "      <th>mean</th>\n",
              "      <td>4.083030</td>\n",
              "      <td>0.548931</td>\n",
              "      <td>773.581148</td>\n",
              "    </tr>\n",
              "    <tr>\n",
              "      <th>std</th>\n",
              "      <td>1.269775</td>\n",
              "      <td>0.497608</td>\n",
              "      <td>595.601395</td>\n",
              "    </tr>\n",
              "    <tr>\n",
              "      <th>min</th>\n",
              "      <td>1.000000</td>\n",
              "      <td>0.000000</td>\n",
              "      <td>61.000000</td>\n",
              "    </tr>\n",
              "    <tr>\n",
              "      <th>25%</th>\n",
              "      <td>4.000000</td>\n",
              "      <td>0.000000</td>\n",
              "      <td>387.000000</td>\n",
              "    </tr>\n",
              "    <tr>\n",
              "      <th>50%</th>\n",
              "      <td>5.000000</td>\n",
              "      <td>1.000000</td>\n",
              "      <td>603.000000</td>\n",
              "    </tr>\n",
              "    <tr>\n",
              "      <th>75%</th>\n",
              "      <td>5.000000</td>\n",
              "      <td>1.000000</td>\n",
              "      <td>946.000000</td>\n",
              "    </tr>\n",
              "    <tr>\n",
              "      <th>max</th>\n",
              "      <td>9.000000</td>\n",
              "      <td>1.000000</td>\n",
              "      <td>7730.000000</td>\n",
              "    </tr>\n",
              "  </tbody>\n",
              "</table>\n",
              "</div>"
            ],
            "text/plain": [
              "             rating         label        length\n",
              "count  31350.000000  31350.000000  31350.000000\n",
              "mean       4.083030      0.548931    773.581148\n",
              "std        1.269775      0.497608    595.601395\n",
              "min        1.000000      0.000000     61.000000\n",
              "25%        4.000000      0.000000    387.000000\n",
              "50%        5.000000      1.000000    603.000000\n",
              "75%        5.000000      1.000000    946.000000\n",
              "max        9.000000      1.000000   7730.000000"
            ]
          },
          "metadata": {},
          "execution_count": 493
        }
      ]
    },
    {
      "cell_type": "code",
      "metadata": {
        "colab": {
          "base_uri": "https://localhost:8080/",
          "height": 513
        },
        "id": "IRXGpQXS4koP",
        "outputId": "a883e597-ed5d-4511-f5cf-509211f8001f"
      },
      "source": [
        "fig = plt.figure(figsize=(10, 8))\n",
        "sns.countplot(x='rating', data=train);\n",
        "plt.title(\"Распределение рейтинга\");\n",
        "plt.xlabel(\"Рейтинг\");\n",
        "plt.ylabel(\"Количество отзывов\");"
      ],
      "execution_count": 494,
      "outputs": [
        {
          "output_type": "display_data",
          "data": {
            "image/png": "[encoded data removed]",
            "text/plain": [
              "<Figure size 720x576 with 1 Axes>"
            ]
          },
          "metadata": {}
        }
      ]
    },
    {
      "cell_type": "code",
      "metadata": {
        "colab": {
          "base_uri": "https://localhost:8080/",
          "height": 509
        },
        "id": "k6gEFwfS4mdH",
        "outputId": "9e1343c9-a70c-4068-a8fe-a3bf1c9b585c"
      },
      "source": [
        "fig = plt.figure(figsize=(10, 8))\n",
        "train['label'].value_counts(normalize=True).plot(kind='bar');\n",
        "plt.title(\"Распределение целевой переменной\");\n",
        "plt.xlabel(\"Отзыв\");\n",
        "plt.ylabel(\"Количество текстов\");"
      ],
      "execution_count": 495,
      "outputs": [
        {
          "output_type": "display_data",
          "data": {
            "image/png": "[encoded data removed]",
            "text/plain": [
              "<Figure size 720x576 with 1 Axes>"
            ]
          },
          "metadata": {}
        }
      ]
    },
    {
      "cell_type": "code",
      "metadata": {
        "colab": {
          "base_uri": "https://localhost:8080/",
          "height": 513
        },
        "id": "8R7u0kVt4pi_",
        "outputId": "8272a1cf-bcab-4b35-9113-b965fad6a79d"
      },
      "source": [
        "df = train.copy()\n",
        "df['length'] = pd.cut(train['length'], bins=[0, 250, 500, 750, 1000, 1250, 1500, float('inf')], \n",
        "                      labels=['0-250', '250-500', '500-750', '750-1000', '1000-1250', '1250-1500', '1500+'])\n",
        "\n",
        "fig = plt.figure(figsize=(10, 8))\n",
        "sns.countplot(x='length', hue='label', data=df);\n",
        "plt.title(\"Распределение длин текстов отзывов\");\n",
        "plt.xlabel(\"Длина текста\");\n",
        "plt.ylabel(\"Количество текстов\");"
      ],
      "execution_count": 496,
      "outputs": [
        {
          "output_type": "display_data",
          "data": {
            "image/png": "[encoded data removed]",
            "text/plain": [
              "<Figure size 720x576 with 1 Axes>"
            ]
          },
          "metadata": {}
        }
      ]
    },
    {
      "cell_type": "markdown",
      "metadata": {
        "id": "oxTOKkc54_aW"
      },
      "source": [
        "**Теперь перейдем к построении модели **"
      ]
    },
    {
      "cell_type": "code",
      "metadata": {
        "colab": {
          "base_uri": "https://localhost:8080/"
        },
        "id": "Fxst_nUv6_K6",
        "outputId": "def8748f-f79e-4c47-c73f-bb1986d3300f"
      },
      "source": [
        "import nltk\n",
        "nltk.download('stopwords')"
      ],
      "execution_count": 497,
      "outputs": [
        {
          "output_type": "stream",
          "name": "stdout",
          "text": [
            "[nltk_data] Downloading package stopwords to /root/nltk_data...\n",
            "[nltk_data]   Package stopwords is already up-to-date!\n"
          ]
        },
        {
          "output_type": "execute_result",
          "data": {
            "text/plain": [
              "True"
            ]
          },
          "metadata": {},
          "execution_count": 497
        }
      ]
    },
    {
      "cell_type": "code",
      "metadata": {
        "id": "knUzgwHk65Z7"
      },
      "source": [
        "X = train['text'].values\n",
        "y = train['label'].values\n",
        "\n",
        "\n",
        "X_test = test['text'].values\n",
        "\n",
        "stop_words = stopwords.words('russian')"
      ],
      "execution_count": 498,
      "outputs": []
    },
    {
      "cell_type": "code",
      "metadata": {
        "id": "insdecGH4skY"
      },
      "source": [
        "def make_pipeline(vectorizer, transformer, classifier):\n",
        "    return Pipeline([\n",
        "            ('vectorizer', vectorizer),\n",
        "            ('transformer', transformer),\n",
        "            ('classifier', classifier)\n",
        "        ])\n",
        "    \n",
        "def make_estimator(classifier, params_grid, scorer, data, labels):\n",
        "  pipeline = make_pipeline(CountVectorizer(), TfidfTransformer(), classifier)\n",
        "  grid_cv = RandomizedSearchCV(pipeline, params_grid, scoring=scorer, cv=5, \n",
        "                                 random_state=777, n_iter=100, verbose=1, n_jobs=-1)\n",
        "  grid_cv.fit(data, labels)\n",
        "  return grid_cv"
      ],
      "execution_count": 499,
      "outputs": []
    },
    {
      "cell_type": "markdown",
      "metadata": {
        "id": "_aLnp2wl5Xo9"
      },
      "source": [
        "**Baseline**"
      ]
    },
    {
      "cell_type": "code",
      "metadata": {
        "id": "lpJ7zxXx5aXz"
      },
      "source": [
        "score = cross_val_score(make_pipeline(CountVectorizer(), TfidfTransformer(), LinearSVC(random_state=777)), X, y, cv=5).mean()\n",
        "print(f\"LinearSVC - {score}\")"
      ],
      "execution_count": null,
      "outputs": []
    },
    {
      "cell_type": "markdown",
      "metadata": {
        "id": "ArsnAU8W5hQH"
      },
      "source": [
        "**Начнем совершенствовать модель**"
      ]
    },
    {
      "cell_type": "code",
      "metadata": {
        "id": "rDySXKRy5lij"
      },
      "source": [
        "params_grid_vectorizer = {\n",
        "    'vectorizer__max_df': [0.85, 0.9, 0.95, 1.0],\n",
        "    'vectorizer__min_df': [1, 10, 20],\n",
        "    'vectorizer__ngram_range': [(1, 1), (1, 2), (1, 3), (1, 4), (1, 5), (1, 6)],\n",
        "    'vectorizer__stop_words': [stop_words, None]\n",
        "}\n",
        "params_grid_transformer = {\n",
        "    'transformer__norm': ['l1', 'l2'],\n",
        "    'transformer__smooth_idf': [True, False],\n",
        "    'transformer__use_idf': [True, False],\n",
        "    'transformer__sublinear_tf': [True, False]\n",
        "}\n",
        "params_grid_lsvc = {\n",
        "    'classifier__loss': ['hinge', 'squared_hinge'],\n",
        "    'classifier__max_iter': np.arange(200, 1000, 200),\n",
        "    'classifier__tol': [1e-5, 1e-4, 1e-3],\n",
        "    'classifier__C': [0.9, 1.0, 1.1, 1.2]\n",
        "}"
      ],
      "execution_count": null,
      "outputs": []
    },
    {
      "cell_type": "code",
      "metadata": {
        "id": "GiBHvwBf5nk2"
      },
      "source": [
        "%%time\n",
        "grid_search_lsvc = make_estimator(LinearSVC(random_state=24), \n",
        "                                  {**params_grid_vectorizer, **params_grid_transformer, **params_grid_lsvc}, 'accuracy', X, y)\n",
        "print(\"LinearSVC:\")\n",
        "print(f\"Лучшее качество - {grid_search_lsvc.best_score_}\")\n",
        "print(f\"Параметры - {grid_search_lsvc.best_params_}\")"
      ],
      "execution_count": null,
      "outputs": []
    },
    {
      "cell_type": "markdown",
      "metadata": {
        "id": "fGAqhYgL5sOQ"
      },
      "source": [
        "**Предсказание:**"
      ]
    },
    {
      "cell_type": "code",
      "metadata": {
        "id": "JnsA5cTM5uyv"
      },
      "source": [
        "make_pipeline(CountVectorizer(), TfidfTransformer(), LinearSVC(random_state=777)).fit(X, y).predict(X_test)"
      ],
      "execution_count": null,
      "outputs": []
    },
    {
      "cell_type": "code",
      "metadata": {
        "id": "50n9N2ZZ5w7R"
      },
      "source": [
        "svc = grid_search_lsvc.best_estimator_\n",
        "svc.steps"
      ],
      "execution_count": null,
      "outputs": []
    },
    {
      "cell_type": "code",
      "metadata": {
        "id": "CGpQpMsH5yyR"
      },
      "source": [
        "pred = svc.predict(X_test)\n",
        "pred"
      ],
      "execution_count": null,
      "outputs": []
    },
    {
      "cell_type": "code",
      "metadata": {
        "id": "VdpI_XV850Yg"
      },
      "source": [
        "with open('submission.csv', 'w') as f:\n",
        "    f.write(pd.DataFrame(pd.Series(map(str, range(0, 100))).str \\\n",
        "                         .cat(map(str, pd.Series(pred).apply(lambda x: 'neg' if x == 0 else 'pos')), sep=','), \n",
        "                         columns=['Id,y']).to_csv(sep=' ', index=False))"
      ],
      "execution_count": null,
      "outputs": []
    },
    {
      "cell_type": "code",
      "metadata": {
        "id": "YUrdoGaT7M6W"
      },
      "source": [
        "import pickle\n",
        "with open('sentiment_classifier.pkl', 'wb') as f:\n",
        "    pickle.dump(svc, f)"
      ],
      "execution_count": 503,
      "outputs": []
    },
    {
      "cell_type": "code",
      "metadata": {
        "id": "GA6EYnN8EF5X"
      },
      "source": [
        ""
      ],
      "execution_count": null,
      "outputs": []
    }
  ]
}
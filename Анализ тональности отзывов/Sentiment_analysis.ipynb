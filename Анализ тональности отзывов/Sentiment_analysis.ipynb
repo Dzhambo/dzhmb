{
  "nbformat": 4,
  "nbformat_minor": 0,
  "metadata": {
    "colab": {
      "name": "Sentiment_analysis.ipynb",
      "provenance": [],
      "collapsed_sections": []
    },
    "kernelspec": {
      "name": "python3",
      "display_name": "Python 3"
    },
    "language_info": {
      "name": "python"
    }
  },
  "cells": [
    {
      "cell_type": "code",
      "metadata": {
        "colab": {
          "base_uri": "https://localhost:8080/"
        },
        "id": "D1nXB3Wq07zk",
        "outputId": "66bfe5ec-b851-4345-8fec-859f2143d8f3"
      },
      "source": [
        "import nltk\n",
        "nltk.download('movie_reviews')"
      ],
      "execution_count": 1,
      "outputs": [
        {
          "output_type": "stream",
          "name": "stdout",
          "text": [
            "[nltk_data] Downloading package movie_reviews to /root/nltk_data...\n",
            "[nltk_data]   Unzipping corpora/movie_reviews.zip.\n"
          ]
        },
        {
          "output_type": "execute_result",
          "data": {
            "text/plain": [
              "True"
            ]
          },
          "metadata": {},
          "execution_count": 1
        }
      ]
    },
    {
      "cell_type": "code",
      "metadata": {
        "colab": {
          "base_uri": "https://localhost:8080/"
        },
        "id": "-tZ1BhHM1IMd",
        "outputId": "63da2871-abaa-4adf-90d0-0cf3329ccc73"
      },
      "source": [
        "import pickle\n",
        "import numpy as np\n",
        "import pandas as pd\n",
        "from sklearn.feature_extraction.text import TfidfTransformer, CountVectorizer\n",
        "from sklearn.svm import LinearSVC\n",
        "from sklearn.utils import shuffle\n",
        "from sklearn.pipeline import Pipeline\n",
        "from sklearn.externals import joblib\n",
        "from sklearn.metrics import accuracy_score\n",
        "from nltk.corpus import movie_reviews"
      ],
      "execution_count": 2,
      "outputs": [
        {
          "output_type": "stream",
          "name": "stderr",
          "text": [
            "/usr/local/lib/python3.7/dist-packages/sklearn/externals/joblib/__init__.py:15: FutureWarning: sklearn.externals.joblib is deprecated in 0.21 and will be removed in 0.23. Please import this functionality directly from joblib, which can be installed with: pip install joblib. If this warning is raised when loading pickled models, you may need to re-serialize those models with scikit-learn 0.21+.\n",
            "  warnings.warn(msg, category=FutureWarning)\n"
          ]
        }
      ]
    },
    {
      "cell_type": "code",
      "metadata": {
        "id": "pxlk7W7N1JzU"
      },
      "source": [
        "negids = movie_reviews.fileids('neg')\n",
        "posids = movie_reviews.fileids('pos')\n",
        "\n",
        "negfeats = [' '.join(movie_reviews.words(fileids=[f])) for f in negids]\n",
        "posfeats = [' '.join(movie_reviews.words(fileids=[f])) for f in posids]\n",
        "\n",
        "texts = negfeats + posfeats\n",
        "labels = [0] * len(negfeats) + [1] * len(posfeats)"
      ],
      "execution_count": 3,
      "outputs": []
    },
    {
      "cell_type": "code",
      "metadata": {
        "id": "elE2BrQy1Lj8"
      },
      "source": [
        "def make_pipeline(vectorizer, transformer, classifier):\n",
        "    return Pipeline([\n",
        "            ('vectorizer', vectorizer),\n",
        "            ('transformer', transformer),\n",
        "            ('classifier', classifier)\n",
        "        ])\n",
        "    \n",
        "\n",
        "def make_classifier(text, label):\n",
        "    svc = make_pipeline(CountVectorizer(min_df=1, ngram_range=(1, 5), max_df=0.9, stop_words=None),\n",
        "                        TfidfTransformer(smooth_idf=True,use_idf=True),\n",
        "                        LinearSVC(max_iter=500, loss='hinge', C=1.9, tol=0.001, random_state=777))\n",
        "    svc.fit(text, label)\n",
        "    return svc"
      ],
      "execution_count": 4,
      "outputs": []
    },
    {
      "cell_type": "code",
      "metadata": {
        "colab": {
          "base_uri": "https://localhost:8080/"
        },
        "id": "yq-TFmFJ1NG9",
        "outputId": "5a19159c-2aad-4d41-840d-08181c597abd"
      },
      "source": [
        "classifier = make_classifier(texts, labels)"
      ],
      "execution_count": 5,
      "outputs": [
        {
          "output_type": "stream",
          "name": "stderr",
          "text": [
            "/usr/local/lib/python3.7/dist-packages/sklearn/svm/_base.py:947: ConvergenceWarning: Liblinear failed to converge, increase the number of iterations.\n",
            "  \"the number of iterations.\", ConvergenceWarning)\n"
          ]
        }
      ]
    },
    {
      "cell_type": "code",
      "metadata": {
        "colab": {
          "base_uri": "https://localhost:8080/"
        },
        "id": "weJRkZve1OI1",
        "outputId": "61def31b-29e3-436a-fc32-be47d4fffb42"
      },
      "source": [
        "print('Точность предсказания равна = {}'.format(accuracy_score(labels, classifier.predict(texts))))"
      ],
      "execution_count": 6,
      "outputs": [
        {
          "output_type": "stream",
          "name": "stdout",
          "text": [
            "Точность предсказания равна = 1.0\n"
          ]
        }
      ]
    },
    {
      "cell_type": "code",
      "metadata": {
        "id": "UlMOiPdt1Wz0"
      },
      "source": [
        "with open('sentiment_classifier.pkl', 'wb') as f:\n",
        "    pickle.dump(classifier, f)"
      ],
      "execution_count": 7,
      "outputs": []
    },
    {
      "cell_type": "code",
      "metadata": {
        "id": "Ha_jFCFfS65e"
      },
      "source": [
        ""
      ],
      "execution_count": null,
      "outputs": []
    }
  ]
}
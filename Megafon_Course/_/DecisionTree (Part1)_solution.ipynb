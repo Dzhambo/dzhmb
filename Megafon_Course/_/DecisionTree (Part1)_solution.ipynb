{
 "cells": [
  {
   "cell_type": "markdown",
   "metadata": {},
   "source": [
    "# Homework 3. \n",
    "# I. Decision Tree."
   ]
  },
  {
   "cell_type": "markdown",
   "metadata": {
    "id": "Q93E5pIdPetF",
    "toc": true
   },
   "source": [
    "<h1>Table of Contents<span class=\"tocSkip\"></span></h1>\n",
    "<div class=\"toc\"><ul class=\"toc-item\"><li><span><a href=\"#Подготовка-данных\" data-toc-modified-id=\"Подготовка-данных-1\"><span class=\"toc-item-num\">1&nbsp;&nbsp;</span>Подготовка данных</a></span></li><li><span><a href=\"#Разделение-на-train,-test\" data-toc-modified-id=\"Разделение-на-train,-test-2\"><span class=\"toc-item-num\">2&nbsp;&nbsp;</span>Разделение на train, test</a></span></li><li><span><a href=\"#Fit-MyDecisionTree\" data-toc-modified-id=\"Fit-MyDecisionTree-3\"><span class=\"toc-item-num\">3&nbsp;&nbsp;</span>Fit MyDecisionTree</a></span></li><li><span><a href=\"#Predict-MyDecisionTree\" data-toc-modified-id=\"Predict-MyDecisionTree-4\"><span class=\"toc-item-num\">4&nbsp;&nbsp;</span>Predict MyDecisionTree</a></span></li><li><span><a href=\"#Train-with-sklearn\" data-toc-modified-id=\"Train-with-sklearn-5\"><span class=\"toc-item-num\">5&nbsp;&nbsp;</span>Train with sklearn</a></span></li><li><span><a href=\"#Сравнение-метрик\" data-toc-modified-id=\"Сравнение-метрик-6\"><span class=\"toc-item-num\">6&nbsp;&nbsp;</span>Сравнение метрик</a></span></li></ul></div>"
   ]
  },
  {
   "cell_type": "markdown",
   "metadata": {
    "id": "WstusuN4PetG"
   },
   "source": [
    "# Задание  \n",
    "\n",
    "1. Напишите свой алгоритм построения дерева решений для задачи бинарной классификации.  \n",
    "    - критерий информативности - Энтропия Шеннона\n",
    "    - критерии останова - максимальная глубина, кол-во элементов в листе, прирост энтропии < x\n",
    "2. Сравните результат работы своего алгоритма с sklearn    "
   ]
  },
  {
   "cell_type": "markdown",
   "metadata": {
    "id": "Ia9gyoKsPetI"
   },
   "source": [
    "## Подготовка данных\n",
    "Рассмотрим задачу \"Титаник\" https://www.kaggle.com/c/titanic/data. Необходимо предсказать выживет пассажир или нет."
   ]
  },
  {
   "cell_type": "code",
   "execution_count": 1,
   "metadata": {
    "id": "1ieX27epPetK"
   },
   "outputs": [],
   "source": [
    "import numpy as np\n",
    "import pandas as pd\n",
    "\n",
    "from sklearn.metrics import roc_auc_score, accuracy_score, confusion_matrix "
   ]
  },
  {
   "cell_type": "code",
   "execution_count": 2,
   "metadata": {
    "id": "RqAcv2K0PetQ"
   },
   "outputs": [],
   "source": [
    "# считаем данные из файла в pandas DataFrame\n",
    "df = pd.read_csv(\"train.csv\")\n",
    "\n",
    "# зафиксируем целевую переменную и удалим ее из данных\n",
    "y = df['Survived']\n",
    "df.drop('Survived', axis=1, inplace=True)"
   ]
  },
  {
   "cell_type": "code",
   "execution_count": 3,
   "metadata": {
    "id": "DiLLm5CfPetV"
   },
   "outputs": [],
   "source": [
    "# удалим признаки PassengerId, Name, Ticket и Cabin из данных\n",
    "df.drop(['PassengerId', 'Name', 'Ticket', 'Cabin'], axis=1, inplace=True)\n",
    "\n",
    "# заполним пропуски в признаке Age обучающей выборки медианным значением\n",
    "df['Age'].fillna(df['Age'].median(), inplace=True)\n",
    "\n",
    "#заполним пропуски в признаке Embarked обучающей выборки самыми частыми значениями этого признака\n",
    "df['Embarked'].fillna(df['Embarked'].value_counts().idxmax(), inplace=True)\n",
    "\n",
    "#заменим категориальные признаки, используя One-Hot-Encoding\n",
    "categorical = ['Pclass', 'Sex', 'SibSp', 'Parch', 'Embarked']\n",
    "df = pd.concat([df, pd.get_dummies(df[categorical], columns=categorical, drop_first=True)],axis=1)\n",
    "\n",
    "df.drop(categorical, axis=1, inplace=True)"
   ]
  },
  {
   "cell_type": "code",
   "execution_count": 4,
   "metadata": {
    "id": "wdiCsMyMPeta",
    "scrolled": true
   },
   "outputs": [
    {
     "data": {
      "text/html": [
       "<div>\n",
       "<style scoped>\n",
       "    .dataframe tbody tr th:only-of-type {\n",
       "        vertical-align: middle;\n",
       "    }\n",
       "\n",
       "    .dataframe tbody tr th {\n",
       "        vertical-align: top;\n",
       "    }\n",
       "\n",
       "    .dataframe thead th {\n",
       "        text-align: right;\n",
       "    }\n",
       "</style>\n",
       "<table border=\"1\" class=\"dataframe\">\n",
       "  <thead>\n",
       "    <tr style=\"text-align: right;\">\n",
       "      <th></th>\n",
       "      <th>Age</th>\n",
       "      <th>Fare</th>\n",
       "      <th>Pclass_2</th>\n",
       "      <th>Pclass_3</th>\n",
       "      <th>Sex_male</th>\n",
       "      <th>SibSp_1</th>\n",
       "      <th>SibSp_2</th>\n",
       "      <th>SibSp_3</th>\n",
       "      <th>SibSp_4</th>\n",
       "      <th>SibSp_5</th>\n",
       "      <th>SibSp_8</th>\n",
       "      <th>Parch_1</th>\n",
       "      <th>Parch_2</th>\n",
       "      <th>Parch_3</th>\n",
       "      <th>Parch_4</th>\n",
       "      <th>Parch_5</th>\n",
       "      <th>Parch_6</th>\n",
       "      <th>Embarked_Q</th>\n",
       "      <th>Embarked_S</th>\n",
       "    </tr>\n",
       "  </thead>\n",
       "  <tbody>\n",
       "    <tr>\n",
       "      <th>0</th>\n",
       "      <td>22.0</td>\n",
       "      <td>7.2500</td>\n",
       "      <td>0</td>\n",
       "      <td>1</td>\n",
       "      <td>1</td>\n",
       "      <td>1</td>\n",
       "      <td>0</td>\n",
       "      <td>0</td>\n",
       "      <td>0</td>\n",
       "      <td>0</td>\n",
       "      <td>0</td>\n",
       "      <td>0</td>\n",
       "      <td>0</td>\n",
       "      <td>0</td>\n",
       "      <td>0</td>\n",
       "      <td>0</td>\n",
       "      <td>0</td>\n",
       "      <td>0</td>\n",
       "      <td>1</td>\n",
       "    </tr>\n",
       "    <tr>\n",
       "      <th>1</th>\n",
       "      <td>38.0</td>\n",
       "      <td>71.2833</td>\n",
       "      <td>0</td>\n",
       "      <td>0</td>\n",
       "      <td>0</td>\n",
       "      <td>1</td>\n",
       "      <td>0</td>\n",
       "      <td>0</td>\n",
       "      <td>0</td>\n",
       "      <td>0</td>\n",
       "      <td>0</td>\n",
       "      <td>0</td>\n",
       "      <td>0</td>\n",
       "      <td>0</td>\n",
       "      <td>0</td>\n",
       "      <td>0</td>\n",
       "      <td>0</td>\n",
       "      <td>0</td>\n",
       "      <td>0</td>\n",
       "    </tr>\n",
       "    <tr>\n",
       "      <th>2</th>\n",
       "      <td>26.0</td>\n",
       "      <td>7.9250</td>\n",
       "      <td>0</td>\n",
       "      <td>1</td>\n",
       "      <td>0</td>\n",
       "      <td>0</td>\n",
       "      <td>0</td>\n",
       "      <td>0</td>\n",
       "      <td>0</td>\n",
       "      <td>0</td>\n",
       "      <td>0</td>\n",
       "      <td>0</td>\n",
       "      <td>0</td>\n",
       "      <td>0</td>\n",
       "      <td>0</td>\n",
       "      <td>0</td>\n",
       "      <td>0</td>\n",
       "      <td>0</td>\n",
       "      <td>1</td>\n",
       "    </tr>\n",
       "    <tr>\n",
       "      <th>3</th>\n",
       "      <td>35.0</td>\n",
       "      <td>53.1000</td>\n",
       "      <td>0</td>\n",
       "      <td>0</td>\n",
       "      <td>0</td>\n",
       "      <td>1</td>\n",
       "      <td>0</td>\n",
       "      <td>0</td>\n",
       "      <td>0</td>\n",
       "      <td>0</td>\n",
       "      <td>0</td>\n",
       "      <td>0</td>\n",
       "      <td>0</td>\n",
       "      <td>0</td>\n",
       "      <td>0</td>\n",
       "      <td>0</td>\n",
       "      <td>0</td>\n",
       "      <td>0</td>\n",
       "      <td>1</td>\n",
       "    </tr>\n",
       "    <tr>\n",
       "      <th>4</th>\n",
       "      <td>35.0</td>\n",
       "      <td>8.0500</td>\n",
       "      <td>0</td>\n",
       "      <td>1</td>\n",
       "      <td>1</td>\n",
       "      <td>0</td>\n",
       "      <td>0</td>\n",
       "      <td>0</td>\n",
       "      <td>0</td>\n",
       "      <td>0</td>\n",
       "      <td>0</td>\n",
       "      <td>0</td>\n",
       "      <td>0</td>\n",
       "      <td>0</td>\n",
       "      <td>0</td>\n",
       "      <td>0</td>\n",
       "      <td>0</td>\n",
       "      <td>0</td>\n",
       "      <td>1</td>\n",
       "    </tr>\n",
       "  </tbody>\n",
       "</table>\n",
       "</div>"
      ],
      "text/plain": [
       "    Age     Fare  Pclass_2  Pclass_3  Sex_male  SibSp_1  SibSp_2  SibSp_3  \\\n",
       "0  22.0   7.2500         0         1         1        1        0        0   \n",
       "1  38.0  71.2833         0         0         0        1        0        0   \n",
       "2  26.0   7.9250         0         1         0        0        0        0   \n",
       "3  35.0  53.1000         0         0         0        1        0        0   \n",
       "4  35.0   8.0500         0         1         1        0        0        0   \n",
       "\n",
       "   SibSp_4  SibSp_5  SibSp_8  Parch_1  Parch_2  Parch_3  Parch_4  Parch_5  \\\n",
       "0        0        0        0        0        0        0        0        0   \n",
       "1        0        0        0        0        0        0        0        0   \n",
       "2        0        0        0        0        0        0        0        0   \n",
       "3        0        0        0        0        0        0        0        0   \n",
       "4        0        0        0        0        0        0        0        0   \n",
       "\n",
       "   Parch_6  Embarked_Q  Embarked_S  \n",
       "0        0           0           1  \n",
       "1        0           0           0  \n",
       "2        0           0           1  \n",
       "3        0           0           1  \n",
       "4        0           0           1  "
      ]
     },
     "execution_count": 4,
     "metadata": {},
     "output_type": "execute_result"
    }
   ],
   "source": [
    "df.head()"
   ]
  },
  {
   "cell_type": "markdown",
   "metadata": {
    "id": "gc6pS7ysPetf"
   },
   "source": [
    "## Разделение на train, test"
   ]
  },
  {
   "cell_type": "code",
   "execution_count": 5,
   "metadata": {
    "id": "NFgjTbFaPetg"
   },
   "outputs": [],
   "source": [
    "from sklearn.model_selection import train_test_split\n",
    "\n",
    "X_train, X_test, y_train, y_test = train_test_split(df, y, test_size = 0.1, random_state = 13)"
   ]
  },
  {
   "cell_type": "code",
   "execution_count": 6,
   "metadata": {
    "id": "Pi2vrBpTPetk"
   },
   "outputs": [
    {
     "name": "stdout",
     "output_type": "stream",
     "text": [
      "Train: 801\n",
      "Test: 90\n"
     ]
    }
   ],
   "source": [
    "print ('Train: ' + str(len(X_train)))\n",
    "print ('Test: ' + str(len(X_test)))"
   ]
  },
  {
   "cell_type": "markdown",
   "metadata": {
    "id": "LAwFQ_ozPetp"
   },
   "source": [
    "## Fit MyDecisionTree  \n",
    "Напишите свою функцию построения дерева.\n",
    "\n",
    "Структуру дерева можно задать, например, словарем следующего вида:  \n",
    "```python\n",
    "{'feature_name': 'Age', # название фичи \n",
    "'threshold': 20, # порог разбиения\n",
    "'left': 0,  # ссылка на левое поддерево, задан доминирующий класс\n",
    "'right': 1} # ссылка на правое поддерево, задан доминирующий класс\n",
    "```"
   ]
  },
  {
   "cell_type": "code",
   "execution_count": 7,
   "metadata": {
    "id": "b2hZgn-TPetq"
   },
   "outputs": [],
   "source": [
    "def get_target(df):\n",
    "    \"\"\"\n",
    "        Функция ищет доминирующий класс во входном DataFrame\n",
    "        Input - DataFrame\n",
    "        Output - 0 или 1\n",
    "        \n",
    "        Например, в исходных данных 490 нулей и 311 единиц.\n",
    "        Функция должна вернуть 0.\n",
    "    \"\"\"\n",
    "    if 2*np.sum(df.target.to_numpy()) >= len(df.target.to_numpy()):\n",
    "        return 1\n",
    "    else:\n",
    "        return 0\n",
    "\n",
    "\n",
    "def get_entropy(target):\n",
    "    \"\"\"\n",
    "        Функция считает энтропию заданного множества.\n",
    "        Input - таргет (тип - pandas.core.series.Series)\n",
    "        \n",
    "        Output - значение энтропии (тип - float)\n",
    "    \"\"\"\n",
    "    entropy = 0\n",
    "    if len(target)!=0:\n",
    "        probability_0 = (len(target.to_numpy()) - np.sum(target.to_numpy()))/len(target.to_numpy())\n",
    "        probability_1 = 1 - probability_0\n",
    "        if probability_0<1e-5 or probability_1<1e-5:\n",
    "            entropy = 0\n",
    "        else:\n",
    "            entropy = (-1)*(probability_0*np.log2(probability_0) + probability_0*np.log2(probability_0))\n",
    "    \n",
    "    return entropy\n",
    "\n",
    "\n",
    "\n",
    "def feature_separation(df, f_name):\n",
    "    \"\"\"\n",
    "        Функция ищет лучшее разбиение для данной фичи.\n",
    "        Input - df: DataFrame с 2 атрибутами (feature, target), \n",
    "                f_name: название фичи (для которой ищем разбиение)\n",
    "                \n",
    "        Output - прирост энтропии, порог разбиения\n",
    "    \"\"\"\n",
    "    delta_entropy = 0\n",
    "    Entropy_root = get_entropy(df['target'])\n",
    "    for val in set(df[f_name]):\n",
    "        Entropy1 = get_entropy(df[df[f_name]<=val]['target'])\n",
    "        Entropy2 = get_entropy(df[df[f_name]>val]['target'])\n",
    "        curr_delta_entropy = Entropy_root - (len(df[df[f_name]<=val])*Entropy1 + len(df[df[f_name]>val])*Entropy2)/df.shape[0]\n",
    "        if curr_delta_entropy>=delta_entropy:\n",
    "            delta_entropy = curr_delta_entropy\n",
    "            threshold = val\n",
    "    return (delta_entropy, threshold)\n",
    "\n",
    "\n",
    "def best_separation(df):\n",
    "    \"\"\"\n",
    "        Функция выбирает фичу для разбиения, которая даст максимальный прирост энтропии.\n",
    "        Input - исходный DataFrame\n",
    "        \n",
    "        Output - словарь следующиего вида\n",
    "        {'feature_name': sep_feature, 'threshold': threshold, 'groups': groups}\n",
    "        \n",
    "            sep_feature - название фичи для разбиения (тип - String)\n",
    "            threshold - порог разбиения (тип - float)\n",
    "            groups - tuple из двух поддеревьев (df_left, df_right)\n",
    "    \"\"\"\n",
    "    \n",
    "    sep_feature, threshold, groups = None, None, df\n",
    "    all_features = [c for c in df.columns.tolist() if c != 'target']\n",
    "    max_IG = 0\n",
    "    for f in all_features:\n",
    "        if feature_separation(df,f)[0] >= max_IG:\n",
    "            max_IG = feature_separation(df,f)[0]\n",
    "            threshold = feature_separation(df,f)[1]\n",
    "            sep_feature = f\n",
    "    if max_IG!=0:\n",
    "        groups = (df[df[f]<=threshold],df[df[f]>threshold])\n",
    "    \n",
    "    return {'feature_name': sep_feature, 'threshold': threshold, 'groups': groups}\n",
    "\n",
    "\n",
    "def split(node, max_depth, depth):\n",
    "    \"\"\"\n",
    "        Рекурсивная функция для построения дерева\n",
    "        Input - node: корень дерева\n",
    "                max_depth: максимальная глубина дерева\n",
    "                depth: текущая глубина дерева\n",
    "    \"\"\"\n",
    "    \n",
    "    df_left, df_right = node['groups']\n",
    "    sep_feature = node['feature_name']\n",
    "    del(node['groups'])\n",
    "    \n",
    "    # проверяем, есть ли разбиение\n",
    "    if len(df_left) == 0 or len(df_right) == 0:\n",
    "        if len(df_left) == 0:\n",
    "            node['left'] = node['right'] = get_target(df_right)\n",
    "        else:\n",
    "            node['left'] = node['right'] = get_target(df_left)\n",
    "        return\n",
    "    \n",
    "    # проверяем максимальную глубину\n",
    "    if depth >= max_depth:\n",
    "        node['left'], node['right'] = get_target(df_left), get_target(df_right)\n",
    "        return\n",
    "    \n",
    "    else:\n",
    "        node['left'] = best_separation(df_left)\n",
    "        split(node['left'], max_depth, depth + 1)\n",
    "\n",
    "        node['right'] = best_separation(df_right)\n",
    "        split(node['right'], max_depth, depth + 1)\n",
    "        \n",
    "        \n",
    "def fit_my_tree(df, max_depth):\n",
    "    \"\"\"\n",
    "        Функция для обучения дерева\n",
    "        Input - df: DataFrame\n",
    "                max_depth: максимальная глубина дерева\n",
    "    \"\"\"    \n",
    "    root = best_separation(df)\n",
    "    split(root, max_depth, 1)\n",
    "\n",
    "    return root"
   ]
  },
  {
   "cell_type": "code",
   "execution_count": 8,
   "metadata": {
    "id": "JD7erX5NPetu"
   },
   "outputs": [
    {
     "name": "stderr",
     "output_type": "stream",
     "text": [
      "C:\\Users\\Asus\\Anaconda2\\envs\\py35\\lib\\site-packages\\ipykernel_launcher.py:1: SettingWithCopyWarning: \n",
      "A value is trying to be set on a copy of a slice from a DataFrame.\n",
      "Try using .loc[row_indexer,col_indexer] = value instead\n",
      "\n",
      "See the caveats in the documentation: http://pandas.pydata.org/pandas-docs/stable/user_guide/indexing.html#returning-a-view-versus-a-copy\n",
      "  \"\"\"Entry point for launching an IPython kernel.\n"
     ]
    }
   ],
   "source": [
    "X_train['target'] = y_train\n",
    "my_tree = fit_my_tree(X_train, 3)\n",
    "X_train = X_train.drop('target',axis = 1)"
   ]
  },
  {
   "cell_type": "markdown",
   "metadata": {
    "id": "StlWI8UQPet1"
   },
   "source": [
    "## Predict MyDecisionTree  "
   ]
  },
  {
   "cell_type": "code",
   "execution_count": 9,
   "metadata": {
    "id": "amdgbKiNPet1"
   },
   "outputs": [],
   "source": [
    "def predict_raw(row, tree):\n",
    "    \"\"\"\n",
    "        Функция предсказывает класс для 1 строки DataFrame.\n",
    "        \n",
    "        Input - row: строка DataFrame\n",
    "                tree: обученное дерево на предыдущем шаге (тип - dict)\n",
    "    \"\"\"    \n",
    "    if row[tree['feature_name']] <= tree['threshold']:\n",
    "        if type(tree['left']) == dict:\n",
    "            return predict_raw(row, tree['left'])\n",
    "        else:\n",
    "            return tree['left']\n",
    "    else:\n",
    "        if type(tree['right']) == dict:\n",
    "            return predict_raw(row, tree['right'])\n",
    "        else:\n",
    "            return tree['right']\n",
    "    \n",
    "    \n",
    "def predict_my_tree(df):\n",
    "    \"\"\"\n",
    "        Функция предсказывает класс для исходного DataFrame.\n",
    "        \n",
    "        Input - df: исходный DataFrame\n",
    "                tree: обученное дерево на предыдущем шаге (тип - dict)\n",
    "                \n",
    "        Output - предсказанные классы (тип - pandas.core.series.Series)\n",
    "    \"\"\"      \n",
    "    predict = pd.Series()   \n",
    "    for index, row in df.iterrows():\n",
    "        prediction = pd.Series(predict_raw(row, my_tree), [index])\n",
    "        predict = predict.append(prediction)    \n",
    "        \n",
    "    return predict"
   ]
  },
  {
   "cell_type": "code",
   "execution_count": 10,
   "metadata": {
    "id": "RTvqVMq5Pet4"
   },
   "outputs": [],
   "source": [
    "my_pred_test = predict_my_tree(X_test)\n",
    "my_pred_train = predict_my_tree(X_train)"
   ]
  },
  {
   "cell_type": "markdown",
   "metadata": {
    "id": "q7ywEJyuPet8"
   },
   "source": [
    "## Train with sklearn \n",
    "\n",
    "Обучите дерево, используя библиотеку sklearn. Задайте те же параметры, что и при обучении своего дерева.  \n",
    "\n",
    "Сравните метрики и попробуйте улучшить ваше дерево."
   ]
  },
  {
   "cell_type": "code",
   "execution_count": 11,
   "metadata": {
    "id": "vHf0AvUaPet9"
   },
   "outputs": [],
   "source": [
    "from sklearn.tree import DecisionTreeClassifier"
   ]
  },
  {
   "cell_type": "code",
   "execution_count": 12,
   "metadata": {
    "id": "DRDjiZtmPeuA"
   },
   "outputs": [],
   "source": [
    "clf_tree = DecisionTreeClassifier(criterion='entropy', random_state=0)\n",
    "\n",
    "# обучаем дерево\n",
    "clf_tree.fit(X_train, y_train)\n",
    "\n",
    "# предсказание на тестовой и обучающей выборках\n",
    "y_pred_test = clf_tree.predict(X_test)\n",
    "y_pred_train = clf_tree.predict(X_train)"
   ]
  },
  {
   "cell_type": "code",
   "execution_count": 13,
   "metadata": {
    "id": "sDDlAapiUcyZ"
   },
   "outputs": [],
   "source": [
    "#Отрисовать дерево можно вот так:   \n",
    "import matplotlib.pyplot as plt\n",
    "%matplotlib inline\n",
    "fig, axes = plt.subplots(nrows = 1,ncols = 1,figsize = (4,4), dpi=300)\n",
    "tree.plot_tree(clf_tree, feature_names = X_train.columns);"
   ]
  },
  {
   "cell_type": "markdown",
   "metadata": {
    "id": "b2VC_9C_PeuD"
   },
   "source": [
    "## Сравнение метрик"
   ]
  },
  {
   "cell_type": "code",
   "execution_count": 14,
   "metadata": {
    "id": "9x70s9LaPeuE",
    "scrolled": true
   },
   "outputs": [],
   "source": [
    "# метрики при обучении, используя библиотеку sklearn\n",
    "skl_roc_train = roc_auc_score(y_train, y_pred_train)\n",
    "skl_roc_test = roc_auc_score(y_test, y_pred_test)\n",
    "\n",
    "# метрики при обучении, используя собственный алгоритм\n",
    "my_roc_train = roc_auc_score(y_train, my_pred_train)\n",
    "my_roc_test = roc_auc_score(y_test, my_pred_test)"
   ]
  },
  {
   "cell_type": "code",
   "execution_count": 15,
   "metadata": {
    "id": "clOhv57YPeuH"
   },
   "outputs": [],
   "source": [
    "assert abs(my_roc_test - 0.6) >= 0.2"
   ]
  },
  {
   "cell_type": "code",
   "execution_count": null,
   "metadata": {},
   "outputs": [],
   "source": []
  }
 ],
 "metadata": {
  "kernelspec": {
   "display_name": "Python 3",
   "language": "python",
   "name": "python3"
  },
  "language_info": {
   "codemirror_mode": {
    "name": "ipython",
    "version": 3
   },
   "file_extension": ".py",
   "mimetype": "text/x-python",
   "name": "python",
   "nbconvert_exporter": "python",
   "pygments_lexer": "ipython3",
   "version": "3.5.5"
  }
 },
 "nbformat": 4,
 "nbformat_minor": 4
}
